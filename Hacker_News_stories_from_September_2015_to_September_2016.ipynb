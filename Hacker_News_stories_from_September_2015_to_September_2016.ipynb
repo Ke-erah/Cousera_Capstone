{
  "nbformat": 4,
  "nbformat_minor": 0,
  "metadata": {
    "colab": {
      "name": "Hacker News stories from September 2015 to September 2016.ipynb",
      "provenance": [],
      "collapsed_sections": [],
      "authorship_tag": "ABX9TyNPGfpKJRRIlPDa+ktWxGDu",
      "include_colab_link": true
    },
    "kernelspec": {
      "name": "python3",
      "display_name": "Python 3"
    }
  },
  "cells": [
    {
      "cell_type": "markdown",
      "metadata": {
        "id": "view-in-github",
        "colab_type": "text"
      },
      "source": [
        "<a href=\"https://colab.research.google.com/github/Ke-erah/Cousera_Capstone/blob/master/Hacker_News_stories_from_September_2015_to_September_2016.ipynb\" target=\"_parent\"><img src=\"https://colab.research.google.com/assets/colab-badge.svg\" alt=\"Open In Colab\"/></a>"
      ]
    },
    {
      "cell_type": "code",
      "metadata": {
        "id": "79IWz8E6YfEv",
        "colab_type": "code",
        "colab": {}
      },
      "source": [
        "import pandas as pd\n",
        "import re"
      ],
      "execution_count": 0,
      "outputs": []
    },
    {
      "cell_type": "code",
      "metadata": {
        "id": "GL0Oegk7YieG",
        "colab_type": "code",
        "outputId": "e5d72c59-f55e-4812-c927-40fc1abc465a",
        "colab": {
          "resources": {
            "http://localhost:8080/nbextensions/google.colab/files.js": {
              "data": "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",
              "ok": true,
              "headers": [
                [
                  "content-type",
                  "application/javascript"
                ]
              ],
              "status": 200,
              "status_text": ""
            }
          },
          "base_uri": "https://localhost:8080/",
          "height": 74
        }
      },
      "source": [
        "from google.colab import files\n",
        "uploaded = files.upload()"
      ],
      "execution_count": 3,
      "outputs": [
        {
          "output_type": "display_data",
          "data": {
            "text/html": [
              "\n",
              "     <input type=\"file\" id=\"files-c9c51a9b-030d-40b8-8b20-ab71692a289a\" name=\"files[]\" multiple disabled />\n",
              "     <output id=\"result-c9c51a9b-030d-40b8-8b20-ab71692a289a\">\n",
              "      Upload widget is only available when the cell has been executed in the\n",
              "      current browser session. Please rerun this cell to enable.\n",
              "      </output>\n",
              "      <script src=\"/nbextensions/google.colab/files.js\"></script> "
            ],
            "text/plain": [
              "<IPython.core.display.HTML object>"
            ]
          },
          "metadata": {
            "tags": []
          }
        },
        {
          "output_type": "stream",
          "text": [
            "Saving HN_posts_year_to_Sep_26_2016.csv to HN_posts_year_to_Sep_26_2016 (3).csv\n"
          ],
          "name": "stdout"
        }
      ]
    },
    {
      "cell_type": "code",
      "metadata": {
        "id": "C9gUFM6zUbBX",
        "colab_type": "code",
        "colab": {}
      },
      "source": [
        "import io\n",
        "hn = pd.read_csv(io.BytesIO(uploaded['HN_posts_year_to_Sep_26_2016.csv']))"
      ],
      "execution_count": 0,
      "outputs": []
    },
    {
      "cell_type": "code",
      "metadata": {
        "id": "2AhAIsc1W53u",
        "colab_type": "code",
        "outputId": "0aaf434a-73f4-4d14-a625-44e1bc3186fb",
        "colab": {
          "base_uri": "https://localhost:8080/",
          "height": 313
        }
      },
      "source": [
        "hn.head()"
      ],
      "execution_count": 5,
      "outputs": [
        {
          "output_type": "execute_result",
          "data": {
            "text/html": [
              "<div>\n",
              "<style scoped>\n",
              "    .dataframe tbody tr th:only-of-type {\n",
              "        vertical-align: middle;\n",
              "    }\n",
              "\n",
              "    .dataframe tbody tr th {\n",
              "        vertical-align: top;\n",
              "    }\n",
              "\n",
              "    .dataframe thead th {\n",
              "        text-align: right;\n",
              "    }\n",
              "</style>\n",
              "<table border=\"1\" class=\"dataframe\">\n",
              "  <thead>\n",
              "    <tr style=\"text-align: right;\">\n",
              "      <th></th>\n",
              "      <th>id</th>\n",
              "      <th>title</th>\n",
              "      <th>url</th>\n",
              "      <th>num_points</th>\n",
              "      <th>num_comments</th>\n",
              "      <th>author</th>\n",
              "      <th>created_at</th>\n",
              "    </tr>\n",
              "  </thead>\n",
              "  <tbody>\n",
              "    <tr>\n",
              "      <th>0</th>\n",
              "      <td>12579008</td>\n",
              "      <td>You have two days to comment if you want stem ...</td>\n",
              "      <td>http://www.regulations.gov/document?D=FDA-2015...</td>\n",
              "      <td>1</td>\n",
              "      <td>0</td>\n",
              "      <td>altstar</td>\n",
              "      <td>9/26/2016 3:26</td>\n",
              "    </tr>\n",
              "    <tr>\n",
              "      <th>1</th>\n",
              "      <td>12579005</td>\n",
              "      <td>SQLAR  the SQLite Archiver</td>\n",
              "      <td>https://www.sqlite.org/sqlar/doc/trunk/README.md</td>\n",
              "      <td>1</td>\n",
              "      <td>0</td>\n",
              "      <td>blacksqr</td>\n",
              "      <td>9/26/2016 3:24</td>\n",
              "    </tr>\n",
              "    <tr>\n",
              "      <th>2</th>\n",
              "      <td>12578997</td>\n",
              "      <td>What if we just printed a flatscreen televisio...</td>\n",
              "      <td>https://medium.com/vanmoof/our-secrets-out-f21...</td>\n",
              "      <td>1</td>\n",
              "      <td>0</td>\n",
              "      <td>pavel_lishin</td>\n",
              "      <td>9/26/2016 3:19</td>\n",
              "    </tr>\n",
              "    <tr>\n",
              "      <th>3</th>\n",
              "      <td>12578989</td>\n",
              "      <td>algorithmic music</td>\n",
              "      <td>http://cacm.acm.org/magazines/2011/7/109891-al...</td>\n",
              "      <td>1</td>\n",
              "      <td>0</td>\n",
              "      <td>poindontcare</td>\n",
              "      <td>9/26/2016 3:16</td>\n",
              "    </tr>\n",
              "    <tr>\n",
              "      <th>4</th>\n",
              "      <td>12578979</td>\n",
              "      <td>How the Data Vault Enables the Next-Gen Data W...</td>\n",
              "      <td>https://www.talend.com/blog/2016/05/12/talend-...</td>\n",
              "      <td>1</td>\n",
              "      <td>0</td>\n",
              "      <td>markgainor1</td>\n",
              "      <td>9/26/2016 3:14</td>\n",
              "    </tr>\n",
              "  </tbody>\n",
              "</table>\n",
              "</div>"
            ],
            "text/plain": [
              "         id  ...      created_at\n",
              "0  12579008  ...  9/26/2016 3:26\n",
              "1  12579005  ...  9/26/2016 3:24\n",
              "2  12578997  ...  9/26/2016 3:19\n",
              "3  12578989  ...  9/26/2016 3:16\n",
              "4  12578979  ...  9/26/2016 3:14\n",
              "\n",
              "[5 rows x 7 columns]"
            ]
          },
          "metadata": {
            "tags": []
          },
          "execution_count": 5
        }
      ]
    },
    {
      "cell_type": "code",
      "metadata": {
        "id": "XGT4h8PJbryK",
        "colab_type": "code",
        "outputId": "d4300de7-0a59-4ad7-9992-1f2365bce4ae",
        "colab": {
          "base_uri": "https://localhost:8080/",
          "height": 34
        }
      },
      "source": [
        "titles1 = hn[\"title\"].tolist()\n",
        "python_mentions = 0\n",
        "pattern = \"[Pp]ython\"\n",
        "for t in titles1:\n",
        "    if re.search(pattern, t):\n",
        "        python_mentions +=1\n",
        "python_mentions"
      ],
      "execution_count": 6,
      "outputs": [
        {
          "output_type": "execute_result",
          "data": {
            "text/plain": [
              "2572"
            ]
          },
          "metadata": {
            "tags": []
          },
          "execution_count": 6
        }
      ]
    },
    {
      "cell_type": "markdown",
      "metadata": {
        "id": "5_gXVA3Mm8UI",
        "colab_type": "text"
      },
      "source": [
        "## Counting Matches with Pandas Method"
      ]
    },
    {
      "cell_type": "code",
      "metadata": {
        "id": "DkT9-1V4dTQf",
        "colab_type": "code",
        "outputId": "cd208c3e-2eca-44b9-ab35-408e53745b28",
        "colab": {
          "base_uri": "https://localhost:8080/",
          "height": 34
        }
      },
      "source": [
        "pattern = '[Pp]ython'\n",
        "titles = hn['title']\n",
        "python_mentions1 = titles.str.contains(pattern).sum()\n",
        "python_mentions1"
      ],
      "execution_count": 7,
      "outputs": [
        {
          "output_type": "execute_result",
          "data": {
            "text/plain": [
              "2572"
            ]
          },
          "metadata": {
            "tags": []
          },
          "execution_count": 7
        }
      ]
    },
    {
      "cell_type": "markdown",
      "metadata": {
        "id": "5EmH0LXEmb6w",
        "colab_type": "text"
      },
      "source": [
        "## Using Regex to Select Data\n",
        "\n",
        "Similar to boolean indexing"
      ]
    },
    {
      "cell_type": "code",
      "metadata": {
        "id": "01JxZXPtmbXK",
        "colab_type": "code",
        "outputId": "96a81e57-0ae3-48b4-8c94-ff47b7a31532",
        "colab": {
          "base_uri": "https://localhost:8080/",
          "height": 118
        }
      },
      "source": [
        "ruby_titles = titles[titles.str.contains(\"[Rr]uby\")]\n",
        "ruby_titles.head()"
      ],
      "execution_count": 8,
      "outputs": [
        {
          "output_type": "execute_result",
          "data": {
            "text/plain": [
              "1291                      Wrote a simple ps clone in ruby\n",
              "1497     Ruby Poltergeist gem the best way to scrape data\n",
              "1624    A proposal of new concurrency model for Ruby 3...\n",
              "1734    Ruby gem to fetch gocd information as rich mod...\n",
              "1981                  Ruby vs. Python, the Definitive FAQ\n",
              "Name: title, dtype: object"
            ]
          },
          "metadata": {
            "tags": []
          },
          "execution_count": 8
        }
      ]
    },
    {
      "cell_type": "markdown",
      "metadata": {
        "id": "OCzKWwu5nFUe",
        "colab_type": "text"
      },
      "source": [
        "## Quantifiers"
      ]
    },
    {
      "cell_type": "code",
      "metadata": {
        "id": "A2VAuvjYiTn6",
        "colab_type": "code",
        "outputId": "203a5935-1461-4a40-9073-d6279d2567b5",
        "colab": {
          "base_uri": "https://localhost:8080/",
          "height": 118
        }
      },
      "source": [
        "pattern = \"e-?mail\"\n",
        "email_bool = titles.str.contains(pattern)\n",
        "email_bool.head()"
      ],
      "execution_count": 9,
      "outputs": [
        {
          "output_type": "execute_result",
          "data": {
            "text/plain": [
              "0    False\n",
              "1    False\n",
              "2    False\n",
              "3    False\n",
              "4    False\n",
              "Name: title, dtype: bool"
            ]
          },
          "metadata": {
            "tags": []
          },
          "execution_count": 9
        }
      ]
    },
    {
      "cell_type": "code",
      "metadata": {
        "id": "5n1N18ZursMU",
        "colab_type": "code",
        "outputId": "c9a44077-dcaa-42a5-f93b-122269f56f90",
        "colab": {
          "base_uri": "https://localhost:8080/",
          "height": 34
        }
      },
      "source": [
        "email_count = email_bool.sum()\n",
        "email_count"
      ],
      "execution_count": 10,
      "outputs": [
        {
          "output_type": "execute_result",
          "data": {
            "text/plain": [
              "873"
            ]
          },
          "metadata": {
            "tags": []
          },
          "execution_count": 10
        }
      ]
    },
    {
      "cell_type": "code",
      "metadata": {
        "id": "aweRlGbBsL16",
        "colab_type": "code",
        "outputId": "6502e648-af17-4fec-8d96-3bfd21646072",
        "colab": {
          "base_uri": "https://localhost:8080/",
          "height": 118
        }
      },
      "source": [
        "email_titles = titles[email_bool]\n",
        "email_titles.head()"
      ],
      "execution_count": 11,
      "outputs": [
        {
          "output_type": "execute_result",
          "data": {
            "text/plain": [
              "90      This is what happens when you reply to spam email\n",
              "173                Correct way to validate email adresses\n",
              "1010    Obama used a pseudonym in emails with Clinton,...\n",
              "1012    The most broken part of your user experience i...\n",
              "1029               Visualization of Clinton email scandal\n",
              "Name: title, dtype: object"
            ]
          },
          "metadata": {
            "tags": []
          },
          "execution_count": 11
        }
      ]
    },
    {
      "cell_type": "markdown",
      "metadata": {
        "id": "TTaaZHVuskzg",
        "colab_type": "text"
      },
      "source": [
        "## Character Classes"
      ]
    },
    {
      "cell_type": "code",
      "metadata": {
        "id": "9j8ixRdpsPO8",
        "colab_type": "code",
        "colab": {}
      },
      "source": [
        "pattern = \"\\[\\w+\\]\"\n",
        "tag_bool = titles.str.contains(pattern)\n",
        "tag_titles = titles[tag_bool]\n",
        "tag_count = tag_bool.sum()"
      ],
      "execution_count": 0,
      "outputs": []
    },
    {
      "cell_type": "code",
      "metadata": {
        "id": "M-bMpTcnxeVR",
        "colab_type": "code",
        "outputId": "7bf07edf-39dd-4611-ff26-536d10cd5cf7",
        "colab": {
          "base_uri": "https://localhost:8080/",
          "height": 34
        }
      },
      "source": [
        "tag_counts = tag_titles.shape[0]\n",
        "tag_counts"
      ],
      "execution_count": 13,
      "outputs": [
        {
          "output_type": "execute_result",
          "data": {
            "text/plain": [
              "5871"
            ]
          },
          "metadata": {
            "tags": []
          },
          "execution_count": 13
        }
      ]
    },
    {
      "cell_type": "markdown",
      "metadata": {
        "id": "viLdkhRE6lXn",
        "colab_type": "text"
      },
      "source": [
        "## Accessing the Matching Text with Capture Groups"
      ]
    },
    {
      "cell_type": "code",
      "metadata": {
        "id": "nbPCp-UXxjdY",
        "colab_type": "code",
        "outputId": "8541470e-0a31-464f-f9a5-cb7039f02428",
        "colab": {
          "base_uri": "https://localhost:8080/",
          "height": 218
        }
      },
      "source": [
        "pattern = r\"\\[(\\w+)\\]\"\n",
        "tag_freq = titles.str.extract(pattern)[0].value_counts()\n",
        "tag_freq"
      ],
      "execution_count": 14,
      "outputs": [
        {
          "output_type": "execute_result",
          "data": {
            "text/plain": [
              "pdf            3531\n",
              "video          1524\n",
              "audio            65\n",
              "2015             23\n",
              "Infographic      18\n",
              "               ... \n",
              "CSS               1\n",
              "Atellier          1\n",
              "Spoilers          1\n",
              "LECTURE           1\n",
              "MAP               1\n",
              "Name: 0, Length: 445, dtype: int64"
            ]
          },
          "metadata": {
            "tags": []
          },
          "execution_count": 14
        }
      ]
    },
    {
      "cell_type": "code",
      "metadata": {
        "id": "XFXHnQgB4NBQ",
        "colab_type": "code",
        "outputId": "beda23fd-453e-482b-e718-8081ea543cbf",
        "colab": {
          "base_uri": "https://localhost:8080/",
          "height": 118
        }
      },
      "source": [
        "titles.head()\n",
        " "
      ],
      "execution_count": 15,
      "outputs": [
        {
          "output_type": "execute_result",
          "data": {
            "text/plain": [
              "0    You have two days to comment if you want stem ...\n",
              "1                           SQLAR  the SQLite Archiver\n",
              "2    What if we just printed a flatscreen televisio...\n",
              "3                                    algorithmic music\n",
              "4    How the Data Vault Enables the Next-Gen Data W...\n",
              "Name: title, dtype: object"
            ]
          },
          "metadata": {
            "tags": []
          },
          "execution_count": 15
        }
      ]
    },
    {
      "cell_type": "markdown",
      "metadata": {
        "id": "gIR_TTC61L1e",
        "colab_type": "text"
      },
      "source": [
        "# **Negative Character Classes**"
      ]
    },
    {
      "cell_type": "code",
      "metadata": {
        "id": "XjaJ5B1P6CBV",
        "colab_type": "code",
        "colab": {}
      },
      "source": [
        "#Return the first 10 story titles that match the provided regular expression\n",
        "def first_10_matches(pattern):\n",
        "  all_matches = titles[titles.str.contains(pattern)]\n",
        "  first_10 = all_matches.head(10)\n",
        "  return first_10"
      ],
      "execution_count": 0,
      "outputs": []
    },
    {
      "cell_type": "code",
      "metadata": {
        "id": "MMvfvs5b1bw0",
        "colab_type": "code",
        "outputId": "2fd2a716-3162-4c39-e932-dea5c12bba8c",
        "colab": {
          "base_uri": "https://localhost:8080/",
          "height": 202
        }
      },
      "source": [
        "java_containing_titles_10 = first_10_matches(r\"[Jj]ava\")\n",
        "java_containing_titles_10"
      ],
      "execution_count": 17,
      "outputs": [
        {
          "output_type": "execute_result",
          "data": {
            "text/plain": [
              "139         The State of JavaScript: Front-End Frameworks\n",
              "734     Show HN: New and Painless Couchbase Java SDK W...\n",
              "948                    When to use a JavaScript framework\n",
              "980                JavaScript Conditional Comments for IE\n",
              "1127    JavaScript vs. C++: Creating the same 3D game ...\n",
              "1205    Show HN: Free JavaScript video course for Desi...\n",
              "1244                2016 JavaOne Intel Keynote  32mn Talk\n",
              "1428    Star Wars Intro Scroller in Pure CSS Without J...\n",
              "1455             Full-Scale JavaScript (A weekly roundup)\n",
              "1620    TypeScript, Microsofts JavaScript for big appl...\n",
              "Name: title, dtype: object"
            ]
          },
          "metadata": {
            "tags": []
          },
          "execution_count": 17
        }
      ]
    },
    {
      "cell_type": "code",
      "metadata": {
        "id": "fl96stp32KzD",
        "colab_type": "code",
        "colab": {}
      },
      "source": [
        "#Return the first 10 story titles that match the provided regular expression\n",
        "def matches(pattern):\n",
        "  all_matches = titles[titles.str.contains(pattern)]\n",
        "  return all_matches"
      ],
      "execution_count": 0,
      "outputs": []
    },
    {
      "cell_type": "code",
      "metadata": {
        "id": "vtnh0tNMAj90",
        "colab_type": "code",
        "outputId": "7f25e6d3-6dab-4532-f718-92e71807568d",
        "colab": {
          "base_uri": "https://localhost:8080/",
          "height": 218
        }
      },
      "source": [
        "all_java_titles = matches(r'[Jj]ava')\n",
        "all_java_titles"
      ],
      "execution_count": 19,
      "outputs": [
        {
          "output_type": "execute_result",
          "data": {
            "text/plain": [
              "139           The State of JavaScript: Front-End Frameworks\n",
              "734       Show HN: New and Painless Couchbase Java SDK W...\n",
              "948                      When to use a JavaScript framework\n",
              "980                  JavaScript Conditional Comments for IE\n",
              "1127      JavaScript vs. C++: Creating the same 3D game ...\n",
              "                                ...                        \n",
              "292900    Programming Coordinated Behavior in Java (2010...\n",
              "292991          Leave a good legacy (in PHP and JavaScript)\n",
              "293019    Show HN: MockTheClock  A tiny JavaScript libra...\n",
              "293058    The Latest Twist in the Java IDE Wars: Subscri...\n",
              "293081          How JavaScript closures work under the hood\n",
              "Name: title, Length: 3868, dtype: object"
            ]
          },
          "metadata": {
            "tags": []
          },
          "execution_count": 19
        }
      ]
    },
    {
      "cell_type": "markdown",
      "metadata": {
        "id": "kXzKKI27BFM_",
        "colab_type": "text"
      },
      "source": [
        "We can see that there are a number of matches that contain Java as part of the word JavaScript. We want to exclude these titles from matching so we get an accurate count.\n",
        "\n",
        "One way to do this is by using negative character classes. Negative character classes are character classes that match every character except a character class. \n",
        "\n",
        "Using the negative set [^Ss] to exclude instances like JavaScript and Javascript:"
      ]
    },
    {
      "cell_type": "code",
      "metadata": {
        "id": "pO9qOLolAzU0",
        "colab_type": "code",
        "outputId": "9105ac61-b63d-4114-d9ee-231ea8c56691",
        "colab": {
          "base_uri": "https://localhost:8080/",
          "height": 218
        }
      },
      "source": [
        "pattern = r'[Jj]ava[^Ss]'\n",
        "all_java = titles[titles.str.contains(pattern)]\n",
        "all_java"
      ],
      "execution_count": 20,
      "outputs": [
        {
          "output_type": "execute_result",
          "data": {
            "text/plain": [
              "734       Show HN: New and Painless Couchbase Java SDK W...\n",
              "1244                  2016 JavaOne Intel Keynote  32mn Talk\n",
              "1803                    RxJava library for Jersey framework\n",
              "2569      A Demo App of Zhihu Daily Based on MVP and RxJ...\n",
              "2592         Swift versus Java: the bitset performance test\n",
              "                                ...                        \n",
              "292235                               Oracle cuts Java execs\n",
              "292485                        Oracle sacks Java evangelists\n",
              "292560    Java 8: Composing functions using compose and ...\n",
              "292900    Programming Coordinated Behavior in Java (2010...\n",
              "293058    The Latest Twist in the Java IDE Wars: Subscri...\n",
              "Name: title, Length: 1018, dtype: object"
            ]
          },
          "metadata": {
            "tags": []
          },
          "execution_count": 20
        }
      ]
    },
    {
      "cell_type": "markdown",
      "metadata": {
        "id": "mfMG0ZkfBjiq",
        "colab_type": "text"
      },
      "source": [
        "# Word Boundaries"
      ]
    },
    {
      "cell_type": "markdown",
      "metadata": {
        "id": "8lC-L5nCBm7r",
        "colab_type": "text"
      },
      "source": [
        "While the negative set was effective in removing any bad matches that mention JavaScript, it also had the side-effect of removing any titles where Java occurs at the end of the string.\n",
        "\n",
        "This is because the negative set [^Ss] must match one character. Instances at the end of a string aren't followed by any characters, so there is no match.\n",
        "\n",
        "A different approach to take in cases like these is to use the word boundary anchor, specified using the syntax \\b. A word boundary matches the position between a word character and a non-word character, or a word character and the start/end of a string.\n",
        "\n",
        "With the word boundary, our pattern matches the Java at the end of the string.\n",
        "\n",
        "Let's use the word boundary anchor as part of our regular expression to select the titles that mention Java."
      ]
    },
    {
      "cell_type": "code",
      "metadata": {
        "id": "WqM3snoLBacv",
        "colab_type": "code",
        "outputId": "2e65d267-2046-416f-aeff-2712d46a11ed",
        "colab": {
          "base_uri": "https://localhost:8080/",
          "height": 218
        }
      },
      "source": [
        "pattern = r'\\b[Jj]ava\\b'\n",
        "all_javas = titles[titles.str.contains(pattern)]\n",
        "all_javas"
      ],
      "execution_count": 21,
      "outputs": [
        {
          "output_type": "execute_result",
          "data": {
            "text/plain": [
              "734       Show HN: New and Painless Couchbase Java SDK W...\n",
              "2592         Swift versus Java: the bitset performance test\n",
              "2919                              Scala VS Java: fresh view\n",
              "3584                                      Var comes to Java\n",
              "3904      Red Hat Links Java to Microsoft's Visual Studi...\n",
              "                                ...                        \n",
              "292235                               Oracle cuts Java execs\n",
              "292485                        Oracle sacks Java evangelists\n",
              "292560    Java 8: Composing functions using compose and ...\n",
              "292900    Programming Coordinated Behavior in Java (2010...\n",
              "293058    The Latest Twist in the Java IDE Wars: Subscri...\n",
              "Name: title, Length: 1130, dtype: object"
            ]
          },
          "metadata": {
            "tags": []
          },
          "execution_count": 21
        }
      ]
    },
    {
      "cell_type": "markdown",
      "metadata": {
        "id": "Qa0o3YX4Cc6A",
        "colab_type": "text"
      },
      "source": [
        "#Matching at the Start and End of Strings"
      ]
    },
    {
      "cell_type": "markdown",
      "metadata": {
        "id": "c23dNokxCmIg",
        "colab_type": "text"
      },
      "source": [
        "So far, we've used regular expressions to match substrings contained anywhere within text. There are often scenarios where we want to specifically match a pattern at the start and end of strings.\n",
        "\n",
        "On the previous screen, we learned that the word boundary anchor matches the space between a word character and a non-word character. More generally in regular expressions, an anchor matches something that isn't a character, as opposed to character classes which match specific characters.\n",
        "\n",
        "Other than the word boundary anchor, the other two most common anchors are the beginning anchor and the end anchor, which represent the start and the end of the string, respectively.\n",
        "\n",
        "Let's use the beginning and end anchors to count how many titles have tags at the start versus the end of the story title in our Hacker News dataset."
      ]
    },
    {
      "cell_type": "code",
      "metadata": {
        "id": "mudnvue6CbTJ",
        "colab_type": "code",
        "outputId": "386ab6e3-871d-44bc-dcd4-e01f0d610ddd",
        "colab": {
          "base_uri": "https://localhost:8080/",
          "height": 50
        }
      },
      "source": [
        "pattern1 = r'^\\[\\w+\\]'\n",
        "beginning_count = titles.str.contains(pattern1).sum()\n",
        "\n",
        "pattern2 = r'\\[\\w+\\]$'\n",
        "ending_count = titles.str.contains(pattern2).sum() \n",
        "print(beginning_count)\n",
        "print(ending_count)"
      ],
      "execution_count": 22,
      "outputs": [
        {
          "output_type": "stream",
          "text": [
            "304\n",
            "5384\n"
          ],
          "name": "stdout"
        }
      ]
    },
    {
      "cell_type": "markdown",
      "metadata": {
        "id": "vFTaSPvQKxYm",
        "colab_type": "text"
      },
      "source": [
        "# **Using Flags to Modify Regex Patterns**"
      ]
    },
    {
      "cell_type": "markdown",
      "metadata": {
        "id": "5c65IxA2FB22",
        "colab_type": "text"
      },
      "source": [
        "Up until now, we've been using sets like [Pp] to match different capitalizations in our regular expressions. This strategy works well when there is only one character that has capitalization, but becomes cumbersome when we need to cater for multiple instances.\n",
        "\n",
        "Within the titles, there are many different formatting styles used to represent the word \"email.\" Here is a list of the variations:\n",
        "email, Email, e Mail, e mail, E-mail, e-mail, eMail, E-Mail, EMAIL, emails, Emails and E-Mails.\n",
        "\n",
        "To write a regular expression for this, we would need to use a set for all five letters in email, which would make our regular expression very hard to read.\n",
        "\n",
        "Instead, we can use flags to specify that our regular expression should ignore case.\n",
        "\n",
        "**Both re.search() and the pandas regular expression methods** accept an optional **flags** argument. This argument accepts one or more flags, which are special variables in the re module that modify the behavior of the regex interpreter.\n",
        "\n",
        "A list of all available flags is in the documentation, but by far the most common and the most useful is the **re.IGNORECASE** flag, which is also available using the alias **re.I** for convenience.\n",
        "\n",
        "When you use this flag, all uppercase letters will match their lowercase equivalents and vice versa.\n",
        "\n",
        "No matter what the capitalization is, our regular expression matches.\n",
        "\n",
        "We'll finish this mission by writing a regular expression and count the number of times that email is mentioned in story titles. You'll need to use both ignorecase as well as some of the other regex components you've already learned in this mission."
      ]
    },
    {
      "cell_type": "code",
      "metadata": {
        "id": "whTDlI1EELgM",
        "colab_type": "code",
        "outputId": "679bbbd9-be54-45ae-fe86-a45a43b8d2b7",
        "colab": {
          "base_uri": "https://localhost:8080/",
          "height": 34
        }
      },
      "source": [
        "email_tests = pd.Series(['email', 'Email', 'e Mail', 'e mail', 'E-mail',\n",
        "              'e-mail', 'eMail', 'E-Mail', 'EMAIL', 'emails', 'Emails',\n",
        "              'E-Mails'])\n",
        "pattern = r'\\be[-\\s]?mails?\\b'\n",
        "email_mentions = titles.str.contains(pattern, flags=re.I).sum()\n",
        "print(email_mentions)"
      ],
      "execution_count": 23,
      "outputs": [
        {
          "output_type": "stream",
          "text": [
            "1653\n"
          ],
          "name": "stdout"
        }
      ]
    },
    {
      "cell_type": "markdown",
      "metadata": {
        "id": "oJUEbGCWUXt-",
        "colab_type": "text"
      },
      "source": [
        "# **Advanced Regular Expressions**"
      ]
    },
    {
      "cell_type": "markdown",
      "metadata": {
        "id": "HQroDBqQUeqr",
        "colab_type": "text"
      },
      "source": [
        "## Capture Groups"
      ]
    },
    {
      "cell_type": "markdown",
      "metadata": {
        "id": "MlI18WouUtOG",
        "colab_type": "text"
      },
      "source": [
        "In the previous exercise, we counted the number of mentions of \"SQL\" in the titles of stories. As we learned in the previous mission, to extract those mentions, we need to do two things:\n",
        "\n",
        "Use the Series.str.extract() method.\n",
        "Use a regex capture group.\n",
        "We define a capture group by wrapping the part of our pattern we want to capture in parentheses. If we want to capture the whole pattern, we just wrap the whole pattern in a pair of parentheses.\n",
        "\n",
        "Let's look at how we can use a capture group to create a frequency table of the different capitalizations of SQL in our dataset."
      ]
    },
    {
      "cell_type": "code",
      "metadata": {
        "id": "vxXv-jkPCNc7",
        "colab_type": "code",
        "outputId": "4e222494-edb5-4d11-d221-fba5ce3c05eb",
        "colab": {
          "base_uri": "https://localhost:8080/",
          "height": 84
        }
      },
      "source": [
        "pattern = r'(sql)'\n",
        "sql_capitalizations = titles.str.extract(pattern, flags=re.I)\n",
        "sql_capitalizations_frequency = sql_capitalizations[0].value_counts()\n",
        "print(sql_capitalizations_frequency)"
      ],
      "execution_count": 24,
      "outputs": [
        {
          "output_type": "stream",
          "text": [
            "SQL    1229\n",
            "sql      74\n",
            "Sql      24\n",
            "Name: 0, dtype: int64\n"
          ],
          "name": "stdout"
        }
      ]
    },
    {
      "cell_type": "markdown",
      "metadata": {
        "id": "M24uvAqcCU_m",
        "colab_type": "text"
      },
      "source": [
        "We can extend this analysis by looking at titles that have letters immediately before the \"SQL,\" which is a convention often used to denote different variations or flavors of SQL."
      ]
    },
    {
      "cell_type": "code",
      "metadata": {
        "id": "-yR794e_XFL-",
        "colab_type": "code",
        "outputId": "c8fb3da3-019f-41e4-a01e-eba36dab0fe0",
        "colab": {
          "base_uri": "https://localhost:8080/",
          "height": 722
        }
      },
      "source": [
        "pattern = r'(\\w+sql)'\n",
        "sql_flavors = titles.str.extract(pattern, flags=re.I)\n",
        "sql_flavors_frequency = sql_flavors[0].value_counts()\n",
        "print(sql_flavors_frequency)"
      ],
      "execution_count": 25,
      "outputs": [
        {
          "output_type": "stream",
          "text": [
            "PostgreSQL       352\n",
            "MySQL            206\n",
            "NoSQL            106\n",
            "Postgresql        16\n",
            "mysql             13\n",
            "Mysql             12\n",
            "MemSQL            10\n",
            "postgresql         7\n",
            "WebSQL             5\n",
            "MSSQL              4\n",
            "TSQL               4\n",
            "NOSQL              3\n",
            "MySql              3\n",
            "nosql              3\n",
            "SparkSQL           3\n",
            "NewSQL             2\n",
            "PubSubSQL          2\n",
            "Pgsql              1\n",
            "SimpleSQL          1\n",
            "ContinuouSQL       1\n",
            "PostreSQL          1\n",
            "CloudSQL           1\n",
            "FirebirdSQL        1\n",
            "Hgsql              1\n",
            "PhxSQL             1\n",
            "html5sql           1\n",
            "psql               1\n",
            "SuperiorMySQL      1\n",
            "PowerUpSQL         1\n",
            "NoSql              1\n",
            "mySql              1\n",
            "NoNoSQL            1\n",
            "HTSQL              1\n",
            "tSQL               1\n",
            "PrefSQL            1\n",
            "noSQL              1\n",
            "DeepSQL            1\n",
            "HoTTSQL            1\n",
            "pgSQL              1\n",
            "KnowSQL            1\n",
            "Psql               1\n",
            "Name: 0, dtype: int64\n"
          ],
          "name": "stdout"
        }
      ]
    },
    {
      "cell_type": "markdown",
      "metadata": {
        "id": "AAiX8CP7X8JJ",
        "colab_type": "text"
      },
      "source": [
        "Notice how there is some duplication due to varied capitalization in this frequency table.\n",
        "\n",
        "In this exercise, we're going to extract the mentions of different SQL flavors into a new column and clean those duplicates by making them all lowercase. We'll then analyze the results to look at the average number of comments for each flavor."
      ]
    },
    {
      "cell_type": "code",
      "metadata": {
        "id": "wG3Lfg3JXhyr",
        "colab_type": "code",
        "outputId": "1e488336-3117-4e0c-a70b-5e3157642b75",
        "colab": {
          "base_uri": "https://localhost:8080/",
          "height": 279
        }
      },
      "source": [
        "#create a new dataframe, hn_sql, including only rows that mention a SQL flavor.\n",
        "hn_sql = hn[hn['title'].str.contains(r\"\\w+SQL\", flags=re.I)].copy()\n",
        "hn_sql.head()"
      ],
      "execution_count": 26,
      "outputs": [
        {
          "output_type": "execute_result",
          "data": {
            "text/html": [
              "<div>\n",
              "<style scoped>\n",
              "    .dataframe tbody tr th:only-of-type {\n",
              "        vertical-align: middle;\n",
              "    }\n",
              "\n",
              "    .dataframe tbody tr th {\n",
              "        vertical-align: top;\n",
              "    }\n",
              "\n",
              "    .dataframe thead th {\n",
              "        text-align: right;\n",
              "    }\n",
              "</style>\n",
              "<table border=\"1\" class=\"dataframe\">\n",
              "  <thead>\n",
              "    <tr style=\"text-align: right;\">\n",
              "      <th></th>\n",
              "      <th>id</th>\n",
              "      <th>title</th>\n",
              "      <th>url</th>\n",
              "      <th>num_points</th>\n",
              "      <th>num_comments</th>\n",
              "      <th>author</th>\n",
              "      <th>created_at</th>\n",
              "    </tr>\n",
              "  </thead>\n",
              "  <tbody>\n",
              "    <tr>\n",
              "      <th>43</th>\n",
              "      <td>12578514</td>\n",
              "      <td>PostgreSQL RDS pg-stat-ramdisk-size new featur...</td>\n",
              "      <td>http://www.3manuek.com/pgstatramdisksize</td>\n",
              "      <td>1</td>\n",
              "      <td>0</td>\n",
              "      <td>3manuek</td>\n",
              "      <td>9/26/2016 1:16</td>\n",
              "    </tr>\n",
              "    <tr>\n",
              "      <th>240</th>\n",
              "      <td>12576116</td>\n",
              "      <td>Bidirectional Replication is coming to Postgre...</td>\n",
              "      <td>http://blog.2ndquadrant.com/bdr-is-coming-to-p...</td>\n",
              "      <td>200</td>\n",
              "      <td>38</td>\n",
              "      <td>iamd3vil</td>\n",
              "      <td>9/25/2016 16:54</td>\n",
              "    </tr>\n",
              "    <tr>\n",
              "      <th>257</th>\n",
              "      <td>12576002</td>\n",
              "      <td>A fast PostgreSQL client library for Python: 3...</td>\n",
              "      <td>https://github.com/MagicStack/asyncpg</td>\n",
              "      <td>3</td>\n",
              "      <td>1</td>\n",
              "      <td>arjun27</td>\n",
              "      <td>9/25/2016 16:33</td>\n",
              "    </tr>\n",
              "    <tr>\n",
              "      <th>452</th>\n",
              "      <td>12573947</td>\n",
              "      <td>4 N00b MySQL Mistakes Every Programmer Makes</td>\n",
              "      <td>http://devops.com/2016/08/11/4-n00b-mysql-mist...</td>\n",
              "      <td>5</td>\n",
              "      <td>0</td>\n",
              "      <td>agsw</td>\n",
              "      <td>9/25/2016 4:22</td>\n",
              "    </tr>\n",
              "    <tr>\n",
              "      <th>569</th>\n",
              "      <td>12572611</td>\n",
              "      <td>Postgresql 9.6.0 release schedule (9-29-2016)</td>\n",
              "      <td>https://www.postgresql.org/message-id/27572.14...</td>\n",
              "      <td>1</td>\n",
              "      <td>0</td>\n",
              "      <td>phaas</td>\n",
              "      <td>9/24/2016 20:58</td>\n",
              "    </tr>\n",
              "  </tbody>\n",
              "</table>\n",
              "</div>"
            ],
            "text/plain": [
              "           id  ...       created_at\n",
              "43   12578514  ...   9/26/2016 1:16\n",
              "240  12576116  ...  9/25/2016 16:54\n",
              "257  12576002  ...  9/25/2016 16:33\n",
              "452  12573947  ...   9/25/2016 4:22\n",
              "569  12572611  ...  9/24/2016 20:58\n",
              "\n",
              "[5 rows x 7 columns]"
            ]
          },
          "metadata": {
            "tags": []
          },
          "execution_count": 26
        }
      ]
    },
    {
      "cell_type": "code",
      "metadata": {
        "id": "jaaO8X2UYnwX",
        "colab_type": "code",
        "outputId": "ccd60ced-d4b9-4c79-e004-c81401f03862",
        "colab": {
          "base_uri": "https://localhost:8080/",
          "height": 287
        }
      },
      "source": [
        "#Create a new column called flavor in the hn_sql dataframe, containing extracted mentions of SQL flavors, defined as:\n",
        "#Any time 'SQL' is preceded by one or more word characters.\n",
        "#Ignoring all case variation.\n",
        "\n",
        "pattern = r'(\\w+sql)'\n",
        "hn_sql['flavor'] = hn_sql['title'].str.extract(pattern, flags = re.I)\n",
        "hn_sql.head(3)"
      ],
      "execution_count": 27,
      "outputs": [
        {
          "output_type": "execute_result",
          "data": {
            "text/html": [
              "<div>\n",
              "<style scoped>\n",
              "    .dataframe tbody tr th:only-of-type {\n",
              "        vertical-align: middle;\n",
              "    }\n",
              "\n",
              "    .dataframe tbody tr th {\n",
              "        vertical-align: top;\n",
              "    }\n",
              "\n",
              "    .dataframe thead th {\n",
              "        text-align: right;\n",
              "    }\n",
              "</style>\n",
              "<table border=\"1\" class=\"dataframe\">\n",
              "  <thead>\n",
              "    <tr style=\"text-align: right;\">\n",
              "      <th></th>\n",
              "      <th>id</th>\n",
              "      <th>title</th>\n",
              "      <th>url</th>\n",
              "      <th>num_points</th>\n",
              "      <th>num_comments</th>\n",
              "      <th>author</th>\n",
              "      <th>created_at</th>\n",
              "      <th>flavor</th>\n",
              "    </tr>\n",
              "  </thead>\n",
              "  <tbody>\n",
              "    <tr>\n",
              "      <th>43</th>\n",
              "      <td>12578514</td>\n",
              "      <td>PostgreSQL RDS pg-stat-ramdisk-size new featur...</td>\n",
              "      <td>http://www.3manuek.com/pgstatramdisksize</td>\n",
              "      <td>1</td>\n",
              "      <td>0</td>\n",
              "      <td>3manuek</td>\n",
              "      <td>9/26/2016 1:16</td>\n",
              "      <td>PostgreSQL</td>\n",
              "    </tr>\n",
              "    <tr>\n",
              "      <th>240</th>\n",
              "      <td>12576116</td>\n",
              "      <td>Bidirectional Replication is coming to Postgre...</td>\n",
              "      <td>http://blog.2ndquadrant.com/bdr-is-coming-to-p...</td>\n",
              "      <td>200</td>\n",
              "      <td>38</td>\n",
              "      <td>iamd3vil</td>\n",
              "      <td>9/25/2016 16:54</td>\n",
              "      <td>PostgreSQL</td>\n",
              "    </tr>\n",
              "    <tr>\n",
              "      <th>257</th>\n",
              "      <td>12576002</td>\n",
              "      <td>A fast PostgreSQL client library for Python: 3...</td>\n",
              "      <td>https://github.com/MagicStack/asyncpg</td>\n",
              "      <td>3</td>\n",
              "      <td>1</td>\n",
              "      <td>arjun27</td>\n",
              "      <td>9/25/2016 16:33</td>\n",
              "      <td>PostgreSQL</td>\n",
              "    </tr>\n",
              "  </tbody>\n",
              "</table>\n",
              "</div>"
            ],
            "text/plain": [
              "           id  ...      flavor\n",
              "43   12578514  ...  PostgreSQL\n",
              "240  12576116  ...  PostgreSQL\n",
              "257  12576002  ...  PostgreSQL\n",
              "\n",
              "[3 rows x 8 columns]"
            ]
          },
          "metadata": {
            "tags": []
          },
          "execution_count": 27
        }
      ]
    },
    {
      "cell_type": "code",
      "metadata": {
        "id": "D8hl3hbtZfv1",
        "colab_type": "code",
        "outputId": "1f46c8cf-eda5-41fd-bfdb-355f14ae8a91",
        "colab": {
          "base_uri": "https://localhost:8080/",
          "height": 254
        }
      },
      "source": [
        "#Use the Series.str.lower() method to clean the values in the flavor column by converting them to lowercase. \n",
        "#Assign the values back to the column in hn_sql.\n",
        "\n",
        "hn_sql['flavor'] = hn_sql['flavor'].str.lower()\n",
        "hn_sql.head(3)"
      ],
      "execution_count": 28,
      "outputs": [
        {
          "output_type": "execute_result",
          "data": {
            "text/html": [
              "<div>\n",
              "<style scoped>\n",
              "    .dataframe tbody tr th:only-of-type {\n",
              "        vertical-align: middle;\n",
              "    }\n",
              "\n",
              "    .dataframe tbody tr th {\n",
              "        vertical-align: top;\n",
              "    }\n",
              "\n",
              "    .dataframe thead th {\n",
              "        text-align: right;\n",
              "    }\n",
              "</style>\n",
              "<table border=\"1\" class=\"dataframe\">\n",
              "  <thead>\n",
              "    <tr style=\"text-align: right;\">\n",
              "      <th></th>\n",
              "      <th>id</th>\n",
              "      <th>title</th>\n",
              "      <th>url</th>\n",
              "      <th>num_points</th>\n",
              "      <th>num_comments</th>\n",
              "      <th>author</th>\n",
              "      <th>created_at</th>\n",
              "      <th>flavor</th>\n",
              "    </tr>\n",
              "  </thead>\n",
              "  <tbody>\n",
              "    <tr>\n",
              "      <th>43</th>\n",
              "      <td>12578514</td>\n",
              "      <td>PostgreSQL RDS pg-stat-ramdisk-size new featur...</td>\n",
              "      <td>http://www.3manuek.com/pgstatramdisksize</td>\n",
              "      <td>1</td>\n",
              "      <td>0</td>\n",
              "      <td>3manuek</td>\n",
              "      <td>9/26/2016 1:16</td>\n",
              "      <td>postgresql</td>\n",
              "    </tr>\n",
              "    <tr>\n",
              "      <th>240</th>\n",
              "      <td>12576116</td>\n",
              "      <td>Bidirectional Replication is coming to Postgre...</td>\n",
              "      <td>http://blog.2ndquadrant.com/bdr-is-coming-to-p...</td>\n",
              "      <td>200</td>\n",
              "      <td>38</td>\n",
              "      <td>iamd3vil</td>\n",
              "      <td>9/25/2016 16:54</td>\n",
              "      <td>postgresql</td>\n",
              "    </tr>\n",
              "    <tr>\n",
              "      <th>257</th>\n",
              "      <td>12576002</td>\n",
              "      <td>A fast PostgreSQL client library for Python: 3...</td>\n",
              "      <td>https://github.com/MagicStack/asyncpg</td>\n",
              "      <td>3</td>\n",
              "      <td>1</td>\n",
              "      <td>arjun27</td>\n",
              "      <td>9/25/2016 16:33</td>\n",
              "      <td>postgresql</td>\n",
              "    </tr>\n",
              "  </tbody>\n",
              "</table>\n",
              "</div>"
            ],
            "text/plain": [
              "           id  ...      flavor\n",
              "43   12578514  ...  postgresql\n",
              "240  12576116  ...  postgresql\n",
              "257  12576002  ...  postgresql\n",
              "\n",
              "[3 rows x 8 columns]"
            ]
          },
          "metadata": {
            "tags": []
          },
          "execution_count": 28
        }
      ]
    },
    {
      "cell_type": "code",
      "metadata": {
        "id": "2B1HaON1Z-J8",
        "colab_type": "code",
        "outputId": "080a37f8-ffd0-4258-a4a8-7b94f9eec1eb",
        "colab": {
          "base_uri": "https://localhost:8080/",
          "height": 225
        }
      },
      "source": [
        "#Use the DataFrame.pivot_table() method to create a pivot table, sql_pivot.\n",
        "\n",
        "sql_pivot = hn_sql.pivot_table(values= 'num_comments', index = 'flavor')\n",
        "sql_pivot.head()"
      ],
      "execution_count": 29,
      "outputs": [
        {
          "output_type": "execute_result",
          "data": {
            "text/html": [
              "<div>\n",
              "<style scoped>\n",
              "    .dataframe tbody tr th:only-of-type {\n",
              "        vertical-align: middle;\n",
              "    }\n",
              "\n",
              "    .dataframe tbody tr th {\n",
              "        vertical-align: top;\n",
              "    }\n",
              "\n",
              "    .dataframe thead th {\n",
              "        text-align: right;\n",
              "    }\n",
              "</style>\n",
              "<table border=\"1\" class=\"dataframe\">\n",
              "  <thead>\n",
              "    <tr style=\"text-align: right;\">\n",
              "      <th></th>\n",
              "      <th>num_comments</th>\n",
              "    </tr>\n",
              "    <tr>\n",
              "      <th>flavor</th>\n",
              "      <th></th>\n",
              "    </tr>\n",
              "  </thead>\n",
              "  <tbody>\n",
              "    <tr>\n",
              "      <th>cloudsql</th>\n",
              "      <td>5.0</td>\n",
              "    </tr>\n",
              "    <tr>\n",
              "      <th>continuousql</th>\n",
              "      <td>7.0</td>\n",
              "    </tr>\n",
              "    <tr>\n",
              "      <th>deepsql</th>\n",
              "      <td>0.0</td>\n",
              "    </tr>\n",
              "    <tr>\n",
              "      <th>firebirdsql</th>\n",
              "      <td>0.0</td>\n",
              "    </tr>\n",
              "    <tr>\n",
              "      <th>hgsql</th>\n",
              "      <td>0.0</td>\n",
              "    </tr>\n",
              "  </tbody>\n",
              "</table>\n",
              "</div>"
            ],
            "text/plain": [
              "              num_comments\n",
              "flavor                    \n",
              "cloudsql               5.0\n",
              "continuousql           7.0\n",
              "deepsql                0.0\n",
              "firebirdsql            0.0\n",
              "hgsql                  0.0"
            ]
          },
          "metadata": {
            "tags": []
          },
          "execution_count": 29
        }
      ]
    },
    {
      "cell_type": "markdown",
      "metadata": {
        "id": "bzl7VClAp6xJ",
        "colab_type": "text"
      },
      "source": [
        "## Using capture Groups to Extract Data"
      ]
    },
    {
      "cell_type": "markdown",
      "metadata": {
        "id": "xt1a8inLq8um",
        "colab_type": "text"
      },
      "source": [
        "All of these examples have a number after the word \"Python,\" which indicates a version number.\n",
        "\n",
        "We can use capture groups to extract the version of Python that is mentioned most often in our dataset by wrapping parentheses around the part of our regular expression which captures the version number.\n",
        "\n",
        "We'll use a capture group to capture the version number after the word \"Python,\" and then build a frequency table of the different versions."
      ]
    },
    {
      "cell_type": "code",
      "metadata": {
        "id": "IBCeKF7OapjC",
        "colab_type": "code",
        "outputId": "6ed21475-2de5-46b7-bc66-eb2caf4fcbba",
        "colab": {
          "base_uri": "https://localhost:8080/",
          "height": 54
        }
      },
      "source": [
        "#Extract python versions frequency in titles and save in a dictionary\n",
        "pattern = r'[Pp]ython\\s([\\d.]+)'\n",
        "py_versions = titles.str.extract(pattern)[0].value_counts()\n",
        "py_versions_freq = dict(py_versions)\n",
        "print(py_versions_freq)"
      ],
      "execution_count": 30,
      "outputs": [
        {
          "output_type": "stream",
          "text": [
            "{'3': 108, '3.5': 16, '201': 15, '2': 15, '2.7': 12, '3.6': 10, '101': 7, '2.7.11': 5, '3.5.1': 5, '3.6.0': 4, '3.4': 4, '3.5.0': 3, '4': 3, '2.7.': 3, '5': 3, '2.7.12': 1, '8': 1, '2.': 1, '2.7.2': 1, '5.0': 1, '1.5': 1, '1.8.1': 1, '0.6': 1, '2016': 1, '3.5.2': 1, '1.7': 1}\n"
          ],
          "name": "stdout"
        }
      ]
    },
    {
      "cell_type": "code",
      "metadata": {
        "id": "J_facS8zwY0D",
        "colab_type": "code",
        "outputId": "624f3d51-a70e-4b07-a39f-de26c0303f41",
        "colab": {
          "base_uri": "https://localhost:8080/",
          "height": 386
        }
      },
      "source": [
        "# Counting mentions of the 'C' Language\n",
        "pattern = r\"\\b[Cc]\\b[^.+]\"\n",
        "\n",
        "c_lang = titles[titles.str.contains(pattern)]\n",
        "print(len(c_lang))\n",
        "c_lang.head(20)"
      ],
      "execution_count": 31,
      "outputs": [
        {
          "output_type": "stream",
          "text": [
            "1044\n"
          ],
          "name": "stdout"
        },
        {
          "output_type": "execute_result",
          "data": {
            "text/plain": [
              "252     Show HN: openemacs  a tiny emacs clone, ? 1024...\n",
              "457            Talking to C Programmers about C++ [video]\n",
              "517            Booksbyus/scalable-c: Scalable C  The Book\n",
              "519                                  Python by the C side\n",
              "906                                       Tiny C Compiler\n",
              "914     What is the difference between String and stri...\n",
              "1662                         Lesser-known C coding styles\n",
              "2215    UniLua -A pure c# implementation of Lua 5.2 fo...\n",
              "2558    C# functional language extensions and 'Erlang ...\n",
              "3024        Local Static Variables in Visual Basic and C#\n",
              "3178    New release of the unit testing framework cmoc...\n",
              "3634    RoslynLinqRewrite  Compiles C# by rewriting an...\n",
              "3959    Ask HN: Any distributed-db has redis-like cust...\n",
              "4161    How to run C programs on the BeagleBone's PRU ...\n",
              "4175                     Stabilizing C's Quicksort (2014)\n",
              "4329     Automatic C library binding generator for Golang\n",
              "4803           Calling a simple C function from D  strcmp\n",
              "5383    C Preprocessor Trick for Implementing Similar ...\n",
              "5684               Tiny C program to limit volume on OS X\n",
              "5916                                Priority Queues in C#\n",
              "Name: title, dtype: object"
            ]
          },
          "metadata": {
            "tags": []
          },
          "execution_count": 31
        }
      ]
    },
    {
      "cell_type": "markdown",
      "metadata": {
        "id": "KZye7Q1p-Nbf",
        "colab_type": "text"
      },
      "source": [
        "# **Using Lookarounds to Control Matches Based on Surrounding Text**"
      ]
    },
    {
      "cell_type": "markdown",
      "metadata": {
        "id": "7Fa4gGud-bdf",
        "colab_type": "text"
      },
      "source": [
        "It looks like we're getting close. In our first 10 matches we have one irrelevant result, which is about \"Series C,\" a term used to represent a particular type of startup fundraising.\n",
        "\n",
        "Additionally, we've run into the same issue as we did in the previous mission — by using a negative set, we may have eliminated any instances where the last character of the title is \"C\" (the second last line of output matches in spite of the fact that it ends with \"C,\" because it also has \"C\" earlier in the string).\n",
        "\n",
        "Neither of these can be avoided using negative sets, which are used to allow multiple matches for a single character. Instead we'll need a new tool: lookarounds.\n",
        "\n",
        "Lookarounds let us define a character or sequence of characters that either must or must not come before or after our regex match. There are four types of lookarounds.\n",
        "\n",
        "The contents of a lookaround can include any other regular expression component.\n",
        "\n",
        "Sometimes programming languages won't implement support for all lookarounds (notably, lookbehinds are not in the official JavaScript specification). As an example, to get full support in the RegExr tool, you'll need to set it to use the PCRE regex engine.\n",
        "\n",
        "In this exercise, we're going to use lookarounds to refine the regular expression we build on the last screen to capture mentions of the \"C\" programming language. \n",
        "\n",
        "Let's now use lookarounds to exclude the matches we don't want. We want to:\n",
        "\n",
        "Keep excluding matches that are followed by . or +, but still match cases where \"C\" falls at the end of the string.\n",
        "Exclude matches that have the word 'Series' immediately preceding them."
      ]
    },
    {
      "cell_type": "code",
      "metadata": {
        "id": "QFABWGJ-0Gh4",
        "colab_type": "code",
        "outputId": "87d9318c-8fbd-492c-8475-5a3f00eea5f0",
        "colab": {
          "base_uri": "https://localhost:8080/",
          "height": 386
        }
      },
      "source": [
        "pattern = r'(?<!Series\\s)\\b[Cc]\\b(?![#\\.\\+])'\n",
        "c_language = titles[titles.str.contains(pattern, flags=re.I)]\n",
        "c_mentions = titles.str.contains(pattern,flags=re.I).sum()\n",
        "print(c_mentions)\n",
        "c_language.head(20)"
      ],
      "execution_count": 32,
      "outputs": [
        {
          "output_type": "stream",
          "text": [
            "965\n"
          ],
          "name": "stdout"
        },
        {
          "output_type": "execute_result",
          "data": {
            "text/plain": [
              "252     Show HN: openemacs  a tiny emacs clone, ? 1024...\n",
              "457            Talking to C Programmers about C++ [video]\n",
              "517            Booksbyus/scalable-c: Scalable C  The Book\n",
              "519                                  Python by the C side\n",
              "906                                       Tiny C Compiler\n",
              "1662                         Lesser-known C coding styles\n",
              "2469    The oil and gas we have already tapped will ta...\n",
              "3178    New release of the unit testing framework cmoc...\n",
              "3959    Ask HN: Any distributed-db has redis-like cust...\n",
              "4161    How to run C programs on the BeagleBone's PRU ...\n",
              "4175                     Stabilizing C's Quicksort (2014)\n",
              "4329     Automatic C library binding generator for Golang\n",
              "4803           Calling a simple C function from D  strcmp\n",
              "5383    C Preprocessor Trick for Implementing Similar ...\n",
              "5684               Tiny C program to limit volume on OS X\n",
              "6110    C2ats  An utility to generate ATS interface fr...\n",
              "6117    Realm Objective-C and Swift 1.1.0  Official Sw...\n",
              "6281    JavaScript vs. C, Java, Python, Ruby, and C#in...\n",
              "6324    Ask HN: What are some examples of well written...\n",
              "8147    How to trick C/C++ compilers into generating t...\n",
              "Name: title, dtype: object"
            ]
          },
          "metadata": {
            "tags": []
          },
          "execution_count": 32
        }
      ]
    },
    {
      "cell_type": "markdown",
      "metadata": {
        "id": "zSbH8RoCL7tc",
        "colab_type": "text"
      },
      "source": [
        "# **Backreferences: Using Capture Groups in a Regex Pattern**"
      ]
    },
    {
      "cell_type": "markdown",
      "metadata": {
        "id": "QY5W26JuMKTr",
        "colab_type": "text"
      },
      "source": [
        "Let's say we wanted to identify strings that had words with double letters, like the \"ee\" in \"feed.\" Because we don't know ahead of time what letters might be repeated, we need a way to specify a capture group and then to repeat it. We can do this with backreferences.\n",
        "\n",
        "Whenever we have one or more capture groups, we can refer to them using integers left to right i.e 1,2,...\n",
        "\n",
        "Within a regular expression, we can use a backslash followed by that integer to refer to the group.\n",
        "\n",
        "Let's look at how we could write a regex to capture instances of the same two word characters in a row: \n",
        "          r'(\\w)\\1)\n",
        "\n",
        "NB: the above doesnt match instances where one of the double lettsers is capital e.g. Aa, Oo\n",
        "\n",
        "Let's use this technique to identify story titles that have repeated words."
      ]
    },
    {
      "cell_type": "code",
      "metadata": {
        "id": "2YtiijZWLQhF",
        "colab_type": "code",
        "outputId": "99d25716-fdf8-42ed-f9e8-10eb518510a0",
        "colab": {
          "base_uri": "https://localhost:8080/",
          "height": 423
        }
      },
      "source": [
        "pattern = r'\\b(\\w+)\\s\\1\\b'\n",
        "repeated_words = titles[titles.str.contains(pattern)]\n",
        "repeated_words.head(20)"
      ],
      "execution_count": 33,
      "outputs": [
        {
          "output_type": "stream",
          "text": [
            "/usr/local/lib/python3.6/dist-packages/pandas/core/strings.py:1954: UserWarning: This pattern has match groups. To actually get the groups, use str.extract.\n",
            "  return func(self, *args, **kwargs)\n"
          ],
          "name": "stderr"
        },
        {
          "output_type": "execute_result",
          "data": {
            "text/plain": [
              "2597     The Log Log Prior for the Frequency of Extrate...\n",
              "2804         AI Is the New New Thing (And Its Taking Over)\n",
              "9592     A very very very good vacation responder. The ...\n",
              "10487    The Last Last Summer:  Donald Trump and the Fa...\n",
              "10722    Grunt 1.0.1 1+ What is the difference and what...\n",
              "12493    SAs Public Representatives Are All Hypocrites ...\n",
              "13489    ElixirConf Slides, What Keeps You from Using U...\n",
              "14059    If you use use document.write, you suck at Jav...\n",
              "20024     Ask HN: Allowance for for fun post and comments?\n",
              "21585                             IEX Active Active system\n",
              "22062    Why Duck Duck Moose Donated Itself to Khan Aca...\n",
              "22508              His Name Is Meow Meow, and He Hacks DNA\n",
              "25109    Solve All Your Performance Issues with with So...\n",
              "25554             Mirror Mirror: File to Cloud in 25 Lines\n",
              "27625    Show HN: Term Term Revolution  Dance Dance Rev...\n",
              "27643                              An anti-torpedo torpedo\n",
              "29016                                  The new new economy\n",
              "29121    Powershell on Linux  Powershell Is Open Open S...\n",
              "29299    Uncovering the truth about the British empire ...\n",
              "30727    Ask HN: Will Facebook support support Markdown...\n",
              "Name: title, dtype: object"
            ]
          },
          "metadata": {
            "tags": []
          },
          "execution_count": 33
        }
      ]
    },
    {
      "cell_type": "markdown",
      "metadata": {
        "id": "Q44n6B1gS7lC",
        "colab_type": "text"
      },
      "source": [
        "# **Subtstituting RegEx Matches**"
      ]
    },
    {
      "cell_type": "markdown",
      "metadata": {
        "id": "uActSCiZUhzG",
        "colab_type": "text"
      },
      "source": [
        "When we learned to work with basic string methods, we used the str.replace() method to replace simple substrings. We can achieve the same with regular expressions using the re.sub() function.\n",
        "\n",
        "When working in pandas, we can use the Series.str.replace() method, which uses nearly identical syntax\n",
        "\n",
        "Earlier, we discovered that there were multiple different capitalizations for SQL in our dataset. Let's look at how we could make these uniform with the Series.str.replace() method and a regular expression.\n",
        "\n"
      ]
    },
    {
      "cell_type": "markdown",
      "metadata": {
        "id": "DgIeMTyWrlfH",
        "colab_type": "text"
      },
      "source": [
        "Let's use the same technique to make all the different variations of \"email\" in the dataset uniform."
      ]
    },
    {
      "cell_type": "code",
      "metadata": {
        "id": "nrJ9SyHFSkdl",
        "colab_type": "code",
        "outputId": "5867cdd9-2973-4ee5-fec2-1c39543faecb",
        "colab": {
          "base_uri": "https://localhost:8080/",
          "height": 370
        }
      },
      "source": [
        "pattern = r'e-? ?mail'\n",
        "\n",
        "titles_clean = titles.str.replace(pattern, 'email', flags=re.I)\n",
        "titles.head(20)"
      ],
      "execution_count": 34,
      "outputs": [
        {
          "output_type": "execute_result",
          "data": {
            "text/plain": [
              "0     You have two days to comment if you want stem ...\n",
              "1                            SQLAR  the SQLite Archiver\n",
              "2     What if we just printed a flatscreen televisio...\n",
              "3                                     algorithmic music\n",
              "4     How the Data Vault Enables the Next-Gen Data W...\n",
              "5                         Saving the Hassle of Shopping\n",
              "6     Macalifa  A new open-source music app for UWP ...\n",
              "7     GitHub  theweavrs/Macalifa: A music player wri...\n",
              "8                         Google Allo  first Impression\n",
              "9         Advanced Multimedia on the Linux Command Line\n",
              "10    Ask HN: What TLD do you use for local developm...\n",
              "11                                           Muroc Maru\n",
              "12              Why companies make their products worse\n",
              "13                                Tuning AWS SQS Queues\n",
              "14                                The Promise of GitHub\n",
              "15                      Joint R&D Has Its Ups and Downs\n",
              "16    IBM announces next implementation of Apples Sw...\n",
              "17      Amazons Algorithms Dont Find You the Best Deals\n",
              "18                                     Ruffled Feathers\n",
              "19       The Veil of Ignorance  Design and Accessbility\n",
              "Name: title, dtype: object"
            ]
          },
          "metadata": {
            "tags": []
          },
          "execution_count": 34
        }
      ]
    },
    {
      "cell_type": "markdown",
      "metadata": {
        "id": "L-4mg-zir9uT",
        "colab_type": "text"
      },
      "source": [
        "# **Extracting Domains from URLs**"
      ]
    },
    {
      "cell_type": "markdown",
      "metadata": {
        "id": "4WNfFv2ysNcb",
        "colab_type": "text"
      },
      "source": [
        "Here, we'll extract components of URLs from our dataset. As a reminder, most stories on Hacker News contain a link to an external resource.\n",
        "\n",
        "The task we will be performing first is extracting the different components of the URLs in order to analyze them. On this screen, we'll start by extracting just the domains.\n",
        "\n",
        "The domain of each URL excludes the protocol (e.g. https://) and the page path (e.g. /Technology-Ventures-Enterprise-Thomas-Byers/dp/0073523429).\n",
        "\n",
        "There are several ways that you could use regular expressions to extract the domain, but we suggest the following technique:\n",
        "\n",
        "Using a series of characters that will match the protocol.\n",
        "Inside a capture group, using a set that will match the character classes used in the domain.\n",
        "Because all of the URLs either end with the domain, or continue with page path which starts with / (a character not found in any domains), we don't need to cater for this part of the URL in our regular expression.\n",
        "Once you have extracted the domains, you will be building a frequency table so we can determine the most popular domains.\n",
        "\n",
        "There are several ways that you could use regular expressions to extract the domain, but we suggest the following technique:\n",
        "\n",
        "Using a series of characters that will match the protocol.\n",
        "Inside a capture group, using a set that will match the character classes used in the domain.\n",
        "Because all of the URLs either end with the domain, or continue with page path which starts with / (a character not found in any domains), we don't need to cater for this part of the URL in our regular expression.\n",
        "\n",
        "Once you have extracted the domains, you will be building a frequency table so we can determine the most popular domains."
      ]
    },
    {
      "cell_type": "code",
      "metadata": {
        "id": "bSdcVppxrtBH",
        "colab_type": "code",
        "outputId": "9196607a-afc2-4221-88d2-f8a8c0675244",
        "colab": {
          "base_uri": "https://localhost:8080/",
          "height": 370
        }
      },
      "source": [
        "pattern = r'https?://([\\w\\.\\-]+)'\n",
        "domains = hn['url'].str.extract(pattern, flags=re.I)\n",
        "top_domains = domains[0].value_counts().head(20)\n",
        "top_domains"
      ],
      "execution_count": 35,
      "outputs": [
        {
          "output_type": "execute_result",
          "data": {
            "text/plain": [
              "medium.com                 15929\n",
              "github.com                 14419\n",
              "www.nytimes.com             5985\n",
              "www.youtube.com             5232\n",
              "techcrunch.com              4114\n",
              "www.theguardian.com         3429\n",
              "arstechnica.com             2979\n",
              "www.bloomberg.com           2742\n",
              "en.wikipedia.org            2321\n",
              "www.bbc.com                 1992\n",
              "www.wsj.com                 1979\n",
              "www.washingtonpost.com      1939\n",
              "www.wired.com               1827\n",
              "www.theverge.com            1811\n",
              "www.theatlantic.com         1515\n",
              "www.bbc.co.uk               1335\n",
              "qz.com                      1200\n",
              "www.businessinsider.com     1191\n",
              "nautil.us                   1189\n",
              "motherboard.vice.com        1133\n",
              "Name: 0, dtype: int64"
            ]
          },
          "metadata": {
            "tags": []
          },
          "execution_count": 35
        }
      ]
    },
    {
      "cell_type": "markdown",
      "metadata": {
        "id": "u8WztsXmOA2J",
        "colab_type": "text"
      },
      "source": [
        "# **Extracting URL Parts Using Multiple Capture Groups**"
      ]
    },
    {
      "cell_type": "markdown",
      "metadata": {
        "id": "pxo8BUAkQ2iF",
        "colab_type": "text"
      },
      "source": [
        "Having extracted just the domains from the URLs, on this final screen we'll extract each of the three component parts of the URLs:\n",
        "\n",
        "1. Protocol\n",
        "2. Domain\n",
        "3. Page path\n",
        "\n",
        "In order to do this, we'll create a regular expression with multiple capture groups.\n",
        "\n",
        "The result is a dataframe with each of our capture groups defining a column of data.\n",
        "\n",
        "Now let's write a regular expression that will extract the URL components into individual columns of a dataframe."
      ]
    },
    {
      "cell_type": "code",
      "metadata": {
        "id": "fM0r-RvfMMRg",
        "colab_type": "code",
        "outputId": "2edf9306-b794-4104-baf6-f35b28db9b3f",
        "colab": {
          "base_uri": "https://localhost:8080/",
          "height": 195
        }
      },
      "source": [
        "pattern = r'(https?)://([\\w\\.\\-]+)/?(.*)'\n",
        "url_parts = hn['url'].str.extract(pattern, flags=re.I)\n",
        "url_parts.head()"
      ],
      "execution_count": 36,
      "outputs": [
        {
          "output_type": "execute_result",
          "data": {
            "text/html": [
              "<div>\n",
              "<style scoped>\n",
              "    .dataframe tbody tr th:only-of-type {\n",
              "        vertical-align: middle;\n",
              "    }\n",
              "\n",
              "    .dataframe tbody tr th {\n",
              "        vertical-align: top;\n",
              "    }\n",
              "\n",
              "    .dataframe thead th {\n",
              "        text-align: right;\n",
              "    }\n",
              "</style>\n",
              "<table border=\"1\" class=\"dataframe\">\n",
              "  <thead>\n",
              "    <tr style=\"text-align: right;\">\n",
              "      <th></th>\n",
              "      <th>0</th>\n",
              "      <th>1</th>\n",
              "      <th>2</th>\n",
              "    </tr>\n",
              "  </thead>\n",
              "  <tbody>\n",
              "    <tr>\n",
              "      <th>0</th>\n",
              "      <td>http</td>\n",
              "      <td>www.regulations.gov</td>\n",
              "      <td>document?D=FDA-2015-D-3719-0018</td>\n",
              "    </tr>\n",
              "    <tr>\n",
              "      <th>1</th>\n",
              "      <td>https</td>\n",
              "      <td>www.sqlite.org</td>\n",
              "      <td>sqlar/doc/trunk/README.md</td>\n",
              "    </tr>\n",
              "    <tr>\n",
              "      <th>2</th>\n",
              "      <td>https</td>\n",
              "      <td>medium.com</td>\n",
              "      <td>vanmoof/our-secrets-out-f21c1f03fdc8#.ietxmez43</td>\n",
              "    </tr>\n",
              "    <tr>\n",
              "      <th>3</th>\n",
              "      <td>http</td>\n",
              "      <td>cacm.acm.org</td>\n",
              "      <td>magazines/2011/7/109891-algorithmic-compositio...</td>\n",
              "    </tr>\n",
              "    <tr>\n",
              "      <th>4</th>\n",
              "      <td>https</td>\n",
              "      <td>www.talend.com</td>\n",
              "      <td>blog/2016/05/12/talend-and-Âthe-data-vaultÂ</td>\n",
              "    </tr>\n",
              "  </tbody>\n",
              "</table>\n",
              "</div>"
            ],
            "text/plain": [
              "       0  ...                                                  2\n",
              "0   http  ...                    document?D=FDA-2015-D-3719-0018\n",
              "1  https  ...                          sqlar/doc/trunk/README.md\n",
              "2  https  ...    vanmoof/our-secrets-out-f21c1f03fdc8#.ietxmez43\n",
              "3   http  ...  magazines/2011/7/109891-algorithmic-compositio...\n",
              "4  https  ...      blog/2016/05/12/talend-and-Âthe-data-vaultÂ\n",
              "\n",
              "[5 rows x 3 columns]"
            ]
          },
          "metadata": {
            "tags": []
          },
          "execution_count": 36
        }
      ]
    },
    {
      "cell_type": "code",
      "metadata": {
        "id": "Lc9teCiOaOq3",
        "colab_type": "code",
        "colab": {
          "base_uri": "https://localhost:8080/",
          "height": 639
        },
        "outputId": "5642d6dc-429d-49b0-9375-bce91f4df966"
      },
      "source": [
        "pattern = r\"(?P<protocol>https?)://(?P<domain>[\\w\\.\\-]+)/?(?P<path>.*)\"\n",
        "url_parts=hn['url'].str.extract(pattern, flags=re.I)\n",
        "url_parts.head(20)"
      ],
      "execution_count": 38,
      "outputs": [
        {
          "output_type": "execute_result",
          "data": {
            "text/html": [
              "<div>\n",
              "<style scoped>\n",
              "    .dataframe tbody tr th:only-of-type {\n",
              "        vertical-align: middle;\n",
              "    }\n",
              "\n",
              "    .dataframe tbody tr th {\n",
              "        vertical-align: top;\n",
              "    }\n",
              "\n",
              "    .dataframe thead th {\n",
              "        text-align: right;\n",
              "    }\n",
              "</style>\n",
              "<table border=\"1\" class=\"dataframe\">\n",
              "  <thead>\n",
              "    <tr style=\"text-align: right;\">\n",
              "      <th></th>\n",
              "      <th>protocol</th>\n",
              "      <th>domain</th>\n",
              "      <th>path</th>\n",
              "    </tr>\n",
              "  </thead>\n",
              "  <tbody>\n",
              "    <tr>\n",
              "      <th>0</th>\n",
              "      <td>http</td>\n",
              "      <td>www.regulations.gov</td>\n",
              "      <td>document?D=FDA-2015-D-3719-0018</td>\n",
              "    </tr>\n",
              "    <tr>\n",
              "      <th>1</th>\n",
              "      <td>https</td>\n",
              "      <td>www.sqlite.org</td>\n",
              "      <td>sqlar/doc/trunk/README.md</td>\n",
              "    </tr>\n",
              "    <tr>\n",
              "      <th>2</th>\n",
              "      <td>https</td>\n",
              "      <td>medium.com</td>\n",
              "      <td>vanmoof/our-secrets-out-f21c1f03fdc8#.ietxmez43</td>\n",
              "    </tr>\n",
              "    <tr>\n",
              "      <th>3</th>\n",
              "      <td>http</td>\n",
              "      <td>cacm.acm.org</td>\n",
              "      <td>magazines/2011/7/109891-algorithmic-compositio...</td>\n",
              "    </tr>\n",
              "    <tr>\n",
              "      <th>4</th>\n",
              "      <td>https</td>\n",
              "      <td>www.talend.com</td>\n",
              "      <td>blog/2016/05/12/talend-and-Âthe-data-vaultÂ</td>\n",
              "    </tr>\n",
              "    <tr>\n",
              "      <th>5</th>\n",
              "      <td>https</td>\n",
              "      <td>blog.menswr.com</td>\n",
              "      <td>2016/09/07/whats-new-with-your-style-feed/</td>\n",
              "    </tr>\n",
              "    <tr>\n",
              "      <th>6</th>\n",
              "      <td>http</td>\n",
              "      <td>forums.windowscentral.com</td>\n",
              "      <td>windows-phone-apps/440523-macalifa-new-open-so...</td>\n",
              "    </tr>\n",
              "    <tr>\n",
              "      <th>7</th>\n",
              "      <td>https</td>\n",
              "      <td>github.com</td>\n",
              "      <td>theweavrs/Macalifa</td>\n",
              "    </tr>\n",
              "    <tr>\n",
              "      <th>8</th>\n",
              "      <td>http</td>\n",
              "      <td>prodissues.com</td>\n",
              "      <td>2016/09/google-allo-first-impression.html</td>\n",
              "    </tr>\n",
              "    <tr>\n",
              "      <th>9</th>\n",
              "      <td>https</td>\n",
              "      <td>avi.alkalay.net</td>\n",
              "      <td>2016/09/multimedia-linux-cli.html</td>\n",
              "    </tr>\n",
              "    <tr>\n",
              "      <th>10</th>\n",
              "      <td>NaN</td>\n",
              "      <td>NaN</td>\n",
              "      <td>NaN</td>\n",
              "    </tr>\n",
              "    <tr>\n",
              "      <th>11</th>\n",
              "      <td>http</td>\n",
              "      <td>www.weirdca.com</td>\n",
              "      <td>location.php?location=511</td>\n",
              "    </tr>\n",
              "    <tr>\n",
              "      <th>12</th>\n",
              "      <td>https</td>\n",
              "      <td>www.1843magazine.com</td>\n",
              "      <td>ideas/the-daily/why-companies-make-their-produ...</td>\n",
              "    </tr>\n",
              "    <tr>\n",
              "      <th>13</th>\n",
              "      <td>http</td>\n",
              "      <td>blog.simontaranto.com</td>\n",
              "      <td>post/2016-09-25-tuning-aws-sqs.html/</td>\n",
              "    </tr>\n",
              "    <tr>\n",
              "      <th>14</th>\n",
              "      <td>http</td>\n",
              "      <td>constantbetasoftware.com</td>\n",
              "      <td>2016/09/26/github.html</td>\n",
              "    </tr>\n",
              "    <tr>\n",
              "      <th>15</th>\n",
              "      <td>http</td>\n",
              "      <td>semiengineering.com</td>\n",
              "      <td>joint-rd-has-its-ups-and-downs/</td>\n",
              "    </tr>\n",
              "    <tr>\n",
              "      <th>16</th>\n",
              "      <td>https</td>\n",
              "      <td>9to5mac.com</td>\n",
              "      <td>2016/09/25/ibm-announces-next-implementation-o...</td>\n",
              "    </tr>\n",
              "    <tr>\n",
              "      <th>17</th>\n",
              "      <td>https</td>\n",
              "      <td>www.technologyreview.com</td>\n",
              "      <td>s/602442/amazons-algorithms-dont-find-you-the-...</td>\n",
              "    </tr>\n",
              "    <tr>\n",
              "      <th>18</th>\n",
              "      <td>http</td>\n",
              "      <td>www.texasmonthly.com</td>\n",
              "      <td>articles/whooping-cranes-texas/</td>\n",
              "    </tr>\n",
              "    <tr>\n",
              "      <th>19</th>\n",
              "      <td>https</td>\n",
              "      <td>blog.marvelapp.com</td>\n",
              "      <td>the-veil-of-ignorance/</td>\n",
              "    </tr>\n",
              "  </tbody>\n",
              "</table>\n",
              "</div>"
            ],
            "text/plain": [
              "   protocol  ...                                               path\n",
              "0      http  ...                    document?D=FDA-2015-D-3719-0018\n",
              "1     https  ...                          sqlar/doc/trunk/README.md\n",
              "2     https  ...    vanmoof/our-secrets-out-f21c1f03fdc8#.ietxmez43\n",
              "3      http  ...  magazines/2011/7/109891-algorithmic-compositio...\n",
              "4     https  ...      blog/2016/05/12/talend-and-Âthe-data-vaultÂ\n",
              "5     https  ...         2016/09/07/whats-new-with-your-style-feed/\n",
              "6      http  ...  windows-phone-apps/440523-macalifa-new-open-so...\n",
              "7     https  ...                                 theweavrs/Macalifa\n",
              "8      http  ...          2016/09/google-allo-first-impression.html\n",
              "9     https  ...                  2016/09/multimedia-linux-cli.html\n",
              "10      NaN  ...                                                NaN\n",
              "11     http  ...                          location.php?location=511\n",
              "12    https  ...  ideas/the-daily/why-companies-make-their-produ...\n",
              "13     http  ...               post/2016-09-25-tuning-aws-sqs.html/\n",
              "14     http  ...                             2016/09/26/github.html\n",
              "15     http  ...                    joint-rd-has-its-ups-and-downs/\n",
              "16    https  ...  2016/09/25/ibm-announces-next-implementation-o...\n",
              "17    https  ...  s/602442/amazons-algorithms-dont-find-you-the-...\n",
              "18     http  ...                    articles/whooping-cranes-texas/\n",
              "19    https  ...                             the-veil-of-ignorance/\n",
              "\n",
              "[20 rows x 3 columns]"
            ]
          },
          "metadata": {
            "tags": []
          },
          "execution_count": 38
        }
      ]
    },
    {
      "cell_type": "code",
      "metadata": {
        "id": "anHtTIYarVaC",
        "colab_type": "code",
        "colab": {}
      },
      "source": [
        ""
      ],
      "execution_count": 0,
      "outputs": []
    }
  ]
}