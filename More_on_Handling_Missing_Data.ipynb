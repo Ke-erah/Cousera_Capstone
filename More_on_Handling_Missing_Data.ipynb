{
  "nbformat": 4,
  "nbformat_minor": 0,
  "metadata": {
    "colab": {
      "name": "More on Handling Missing Data.ipynb",
      "provenance": [],
      "collapsed_sections": [],
      "authorship_tag": "ABX9TyNgIFtpmyuIaPXJLIBxzso/",
      "include_colab_link": true
    },
    "kernelspec": {
      "name": "python3",
      "display_name": "Python 3"
    }
  },
  "cells": [
    {
      "cell_type": "markdown",
      "metadata": {
        "id": "view-in-github",
        "colab_type": "text"
      },
      "source": [
        "<a href=\"https://colab.research.google.com/github/Ke-erah/Cousera_Capstone/blob/master/More_on_Handling_Missing_Data.ipynb\" target=\"_parent\"><img src=\"https://colab.research.google.com/assets/colab-badge.svg\" alt=\"Open In Colab\"/></a>"
      ]
    },
    {
      "cell_type": "markdown",
      "metadata": {
        "id": "Bjn1AidjRDvV",
        "colab_type": "text"
      },
      "source": [
        "# ** Introduction**"
      ]
    },
    {
      "cell_type": "code",
      "metadata": {
        "id": "bTru_VueVSjK",
        "colab_type": "code",
        "colab": {}
      },
      "source": [
        "import pandas as pd\n",
        "import numpy as np"
      ],
      "execution_count": 0,
      "outputs": []
    },
    {
      "cell_type": "code",
      "metadata": {
        "id": "ZAYXuNV6Vt2B",
        "colab_type": "code",
        "colab": {
          "resources": {
            "http://localhost:8080/nbextensions/google.colab/files.js": {
              "data": "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",
              "ok": true,
              "headers": [
                [
                  "content-type",
                  "application/javascript"
                ]
              ],
              "status": 200,
              "status_text": ""
            }
          },
          "base_uri": "https://localhost:8080/",
          "height": 74
        },
        "outputId": "f8441533-fec5-4828-824d-e3358f0224ef"
      },
      "source": [
        "from google.colab import files\n",
        "uploaded = files.upload()"
      ],
      "execution_count": 2,
      "outputs": [
        {
          "output_type": "display_data",
          "data": {
            "text/html": [
              "\n",
              "     <input type=\"file\" id=\"files-cfe33a2a-b1ba-4229-a31f-2fba99f8f7b8\" name=\"files[]\" multiple disabled />\n",
              "     <output id=\"result-cfe33a2a-b1ba-4229-a31f-2fba99f8f7b8\">\n",
              "      Upload widget is only available when the cell has been executed in the\n",
              "      current browser session. Please rerun this cell to enable.\n",
              "      </output>\n",
              "      <script src=\"/nbextensions/google.colab/files.js\"></script> "
            ],
            "text/plain": [
              "<IPython.core.display.HTML object>"
            ]
          },
          "metadata": {
            "tags": []
          }
        },
        {
          "output_type": "stream",
          "text": [
            "Saving nypd_mvc_2018.csv to nypd_mvc_2018 (1).csv\n"
          ],
          "name": "stdout"
        }
      ]
    },
    {
      "cell_type": "code",
      "metadata": {
        "id": "fo7nNvIQV639",
        "colab_type": "code",
        "colab": {
          "base_uri": "https://localhost:8080/",
          "height": 366
        },
        "outputId": "91e075e1-9b24-4cc3-e95b-3c0d34746ebf"
      },
      "source": [
        "import io\n",
        "mvc = pd.read_csv(io.BytesIO(uploaded['nypd_mvc_2018.csv']))\n",
        "mvc.head()"
      ],
      "execution_count": 4,
      "outputs": [
        {
          "output_type": "execute_result",
          "data": {
            "text/html": [
              "<div>\n",
              "<style scoped>\n",
              "    .dataframe tbody tr th:only-of-type {\n",
              "        vertical-align: middle;\n",
              "    }\n",
              "\n",
              "    .dataframe tbody tr th {\n",
              "        vertical-align: top;\n",
              "    }\n",
              "\n",
              "    .dataframe thead th {\n",
              "        text-align: right;\n",
              "    }\n",
              "</style>\n",
              "<table border=\"1\" class=\"dataframe\">\n",
              "  <thead>\n",
              "    <tr style=\"text-align: right;\">\n",
              "      <th></th>\n",
              "      <th>unique_key</th>\n",
              "      <th>date</th>\n",
              "      <th>time</th>\n",
              "      <th>borough</th>\n",
              "      <th>location</th>\n",
              "      <th>on_street</th>\n",
              "      <th>cross_street</th>\n",
              "      <th>off_street</th>\n",
              "      <th>pedestrians_injured</th>\n",
              "      <th>cyclist_injured</th>\n",
              "      <th>motorist_injured</th>\n",
              "      <th>total_injured</th>\n",
              "      <th>pedestrians_killed</th>\n",
              "      <th>cyclist_killed</th>\n",
              "      <th>motorist_killed</th>\n",
              "      <th>total_killed</th>\n",
              "      <th>vehicle_1</th>\n",
              "      <th>vehicle_2</th>\n",
              "      <th>vehicle_3</th>\n",
              "      <th>vehicle_4</th>\n",
              "      <th>vehicle_5</th>\n",
              "      <th>cause_vehicle_1</th>\n",
              "      <th>cause_vehicle_2</th>\n",
              "      <th>cause_vehicle_3</th>\n",
              "      <th>cause_vehicle_4</th>\n",
              "      <th>cause_vehicle_5</th>\n",
              "    </tr>\n",
              "  </thead>\n",
              "  <tbody>\n",
              "    <tr>\n",
              "      <th>0</th>\n",
              "      <td>3869058</td>\n",
              "      <td>2018-03-23</td>\n",
              "      <td>21:40</td>\n",
              "      <td>MANHATTAN</td>\n",
              "      <td>(40.742832, -74.00771)</td>\n",
              "      <td>WEST 15 STREET</td>\n",
              "      <td>10 AVENUE</td>\n",
              "      <td>NaN</td>\n",
              "      <td>0</td>\n",
              "      <td>0</td>\n",
              "      <td>0</td>\n",
              "      <td>0.0</td>\n",
              "      <td>0</td>\n",
              "      <td>0</td>\n",
              "      <td>0</td>\n",
              "      <td>0.0</td>\n",
              "      <td>PASSENGER VEHICLE</td>\n",
              "      <td>NaN</td>\n",
              "      <td>NaN</td>\n",
              "      <td>NaN</td>\n",
              "      <td>NaN</td>\n",
              "      <td>Following Too Closely</td>\n",
              "      <td>Unspecified</td>\n",
              "      <td>NaN</td>\n",
              "      <td>NaN</td>\n",
              "      <td>NaN</td>\n",
              "    </tr>\n",
              "    <tr>\n",
              "      <th>1</th>\n",
              "      <td>3847947</td>\n",
              "      <td>2018-02-13</td>\n",
              "      <td>14:45</td>\n",
              "      <td>BROOKLYN</td>\n",
              "      <td>(40.623714, -73.99314)</td>\n",
              "      <td>16 AVENUE</td>\n",
              "      <td>62 STREET</td>\n",
              "      <td>NaN</td>\n",
              "      <td>0</td>\n",
              "      <td>0</td>\n",
              "      <td>0</td>\n",
              "      <td>0.0</td>\n",
              "      <td>0</td>\n",
              "      <td>0</td>\n",
              "      <td>0</td>\n",
              "      <td>0.0</td>\n",
              "      <td>SPORT UTILITY / STATION WAGON</td>\n",
              "      <td>DS</td>\n",
              "      <td>NaN</td>\n",
              "      <td>NaN</td>\n",
              "      <td>NaN</td>\n",
              "      <td>Backing Unsafely</td>\n",
              "      <td>Unspecified</td>\n",
              "      <td>NaN</td>\n",
              "      <td>NaN</td>\n",
              "      <td>NaN</td>\n",
              "    </tr>\n",
              "    <tr>\n",
              "      <th>2</th>\n",
              "      <td>3914294</td>\n",
              "      <td>2018-06-04</td>\n",
              "      <td>0:00</td>\n",
              "      <td>NaN</td>\n",
              "      <td>(40.591755, -73.9083)</td>\n",
              "      <td>BELT PARKWAY</td>\n",
              "      <td>NaN</td>\n",
              "      <td>NaN</td>\n",
              "      <td>0</td>\n",
              "      <td>0</td>\n",
              "      <td>1</td>\n",
              "      <td>1.0</td>\n",
              "      <td>0</td>\n",
              "      <td>0</td>\n",
              "      <td>0</td>\n",
              "      <td>0.0</td>\n",
              "      <td>Station Wagon/Sport Utility Vehicle</td>\n",
              "      <td>Sedan</td>\n",
              "      <td>NaN</td>\n",
              "      <td>NaN</td>\n",
              "      <td>NaN</td>\n",
              "      <td>Following Too Closely</td>\n",
              "      <td>Unspecified</td>\n",
              "      <td>NaN</td>\n",
              "      <td>NaN</td>\n",
              "      <td>NaN</td>\n",
              "    </tr>\n",
              "    <tr>\n",
              "      <th>3</th>\n",
              "      <td>3915069</td>\n",
              "      <td>2018-06-05</td>\n",
              "      <td>6:36</td>\n",
              "      <td>QUEENS</td>\n",
              "      <td>(40.73602, -73.87954)</td>\n",
              "      <td>GRAND AVENUE</td>\n",
              "      <td>VANLOON STREET</td>\n",
              "      <td>NaN</td>\n",
              "      <td>0</td>\n",
              "      <td>0</td>\n",
              "      <td>0</td>\n",
              "      <td>0.0</td>\n",
              "      <td>0</td>\n",
              "      <td>0</td>\n",
              "      <td>0</td>\n",
              "      <td>0.0</td>\n",
              "      <td>Sedan</td>\n",
              "      <td>Sedan</td>\n",
              "      <td>NaN</td>\n",
              "      <td>NaN</td>\n",
              "      <td>NaN</td>\n",
              "      <td>Glare</td>\n",
              "      <td>Passing Too Closely</td>\n",
              "      <td>NaN</td>\n",
              "      <td>NaN</td>\n",
              "      <td>NaN</td>\n",
              "    </tr>\n",
              "    <tr>\n",
              "      <th>4</th>\n",
              "      <td>3923123</td>\n",
              "      <td>2018-06-16</td>\n",
              "      <td>15:45</td>\n",
              "      <td>BRONX</td>\n",
              "      <td>(40.884727, -73.89945)</td>\n",
              "      <td>NaN</td>\n",
              "      <td>NaN</td>\n",
              "      <td>208       WEST 238 STREET</td>\n",
              "      <td>0</td>\n",
              "      <td>0</td>\n",
              "      <td>0</td>\n",
              "      <td>0.0</td>\n",
              "      <td>0</td>\n",
              "      <td>0</td>\n",
              "      <td>0</td>\n",
              "      <td>0.0</td>\n",
              "      <td>Station Wagon/Sport Utility Vehicle</td>\n",
              "      <td>Sedan</td>\n",
              "      <td>NaN</td>\n",
              "      <td>NaN</td>\n",
              "      <td>NaN</td>\n",
              "      <td>Turning Improperly</td>\n",
              "      <td>Unspecified</td>\n",
              "      <td>NaN</td>\n",
              "      <td>NaN</td>\n",
              "      <td>NaN</td>\n",
              "    </tr>\n",
              "  </tbody>\n",
              "</table>\n",
              "</div>"
            ],
            "text/plain": [
              "   unique_key        date  ... cause_vehicle_4 cause_vehicle_5\n",
              "0     3869058  2018-03-23  ...             NaN             NaN\n",
              "1     3847947  2018-02-13  ...             NaN             NaN\n",
              "2     3914294  2018-06-04  ...             NaN             NaN\n",
              "3     3915069  2018-06-05  ...             NaN             NaN\n",
              "4     3923123  2018-06-16  ...             NaN             NaN\n",
              "\n",
              "[5 rows x 26 columns]"
            ]
          },
          "metadata": {
            "tags": []
          },
          "execution_count": 4
        }
      ]
    },
    {
      "cell_type": "markdown",
      "metadata": {
        "id": "yq78DRhvB82d",
        "colab_type": "text"
      },
      "source": [
        "Data can be missing for a variety of reasons.\n",
        "\n",
        "In this mission, we'll learn how to handle missing data without having to drop rows and columns using data on motor vehicle collisions released by New York City and published on the NYC OpenData website. There is data on over 1.5 million collisions dating back to 2012, with additional data continuously added.\n",
        "\n",
        "We'll work with an extract of the full data: Crashes from the year 2018. We made several modifications to the data for teaching purposes, including randomly sampling the data to reduce its size. You can download the data set from this mission by using the data set preview tool at the top of the \"script.py\" codebox on the right.\n",
        "\n",
        "Next, we can use the DataFrame.isnull() method to identify which values are null\n",
        "\n"
      ]
    },
    {
      "cell_type": "code",
      "metadata": {
        "id": "z7pd5NmhXJSC",
        "colab_type": "code",
        "colab": {
          "base_uri": "https://localhost:8080/",
          "height": 470
        },
        "outputId": "c5d85a58-3fc5-40a3-f27a-5aa500785687"
      },
      "source": [
        "null_counts = mvc.isnull().sum() \n",
        "null_counts"
      ],
      "execution_count": 5,
      "outputs": [
        {
          "output_type": "execute_result",
          "data": {
            "text/plain": [
              "unique_key                 0\n",
              "date                       0\n",
              "time                       0\n",
              "borough                20646\n",
              "location                3885\n",
              "on_street              13961\n",
              "cross_street           29249\n",
              "off_street             44093\n",
              "pedestrians_injured        0\n",
              "cyclist_injured            0\n",
              "motorist_injured           0\n",
              "total_injured              1\n",
              "pedestrians_killed         0\n",
              "cyclist_killed             0\n",
              "motorist_killed            0\n",
              "total_killed               5\n",
              "vehicle_1                355\n",
              "vehicle_2              12262\n",
              "vehicle_3              54352\n",
              "vehicle_4              57158\n",
              "vehicle_5              57681\n",
              "cause_vehicle_1          175\n",
              "cause_vehicle_2         8692\n",
              "cause_vehicle_3        54134\n",
              "cause_vehicle_4        57111\n",
              "cause_vehicle_5        57671\n",
              "dtype: int64"
            ]
          },
          "metadata": {
            "tags": []
          },
          "execution_count": 5
        }
      ]
    },
    {
      "cell_type": "markdown",
      "metadata": {
        "id": "fbpIQQGYRNwp",
        "colab_type": "text"
      },
      "source": [
        "# **Verifying Total Columns**"
      ]
    },
    {
      "cell_type": "markdown",
      "metadata": {
        "id": "_iHtyzfyRNk6",
        "colab_type": "text"
      },
      "source": [
        ""
      ]
    },
    {
      "cell_type": "markdown",
      "metadata": {
        "id": "LwYVnSfhC3cx",
        "colab_type": "text"
      },
      "source": [
        "To give us a better picture of the null values in the data, let's calculate the percentage of null values in each column. Below, we divide the number of null values in each column by the total number of values in the data set.\n",
        "\n"
      ]
    },
    {
      "cell_type": "code",
      "metadata": {
        "id": "mhZPFopnDWyg",
        "colab_type": "code",
        "colab": {
          "base_uri": "https://localhost:8080/",
          "height": 470
        },
        "outputId": "3938dcd4-eb91-44a7-923c-e6a90c364c54"
      },
      "source": [
        "null_counts_pct = null_counts / mvc.shape[0] * 100\n",
        "null_counts_pct"
      ],
      "execution_count": 6,
      "outputs": [
        {
          "output_type": "execute_result",
          "data": {
            "text/plain": [
              "unique_key              0.000000\n",
              "date                    0.000000\n",
              "time                    0.000000\n",
              "borough                35.680216\n",
              "location                6.714019\n",
              "on_street              24.127264\n",
              "cross_street           50.547836\n",
              "off_street             76.201092\n",
              "pedestrians_injured     0.000000\n",
              "cyclist_injured         0.000000\n",
              "motorist_injured        0.000000\n",
              "total_injured           0.001728\n",
              "pedestrians_killed      0.000000\n",
              "cyclist_killed          0.000000\n",
              "motorist_killed         0.000000\n",
              "total_killed            0.008641\n",
              "vehicle_1               0.613508\n",
              "vehicle_2              21.191069\n",
              "vehicle_3              93.930596\n",
              "vehicle_4              98.779898\n",
              "vehicle_5              99.683741\n",
              "cause_vehicle_1         0.302433\n",
              "cause_vehicle_2        15.021430\n",
              "cause_vehicle_3        93.553850\n",
              "cause_vehicle_4        98.698673\n",
              "cause_vehicle_5        99.666459\n",
              "dtype: float64"
            ]
          },
          "metadata": {
            "tags": []
          },
          "execution_count": 6
        }
      ]
    },
    {
      "cell_type": "markdown",
      "metadata": {
        "id": "n1uzJT5KX6FU",
        "colab_type": "text"
      },
      "source": [
        "We'll then add both the counts and percentages to a dataframe to make them easier to compare:"
      ]
    },
    {
      "cell_type": "code",
      "metadata": {
        "id": "hKaZNQTtDycn",
        "colab_type": "code",
        "colab": {
          "base_uri": "https://localhost:8080/",
          "height": 101
        },
        "outputId": "11b8e721-60d1-4768-e193-ead5bb0f16c0"
      },
      "source": [
        "null_df = pd.DataFrame({'null_counts': null_counts, 'null_pct': null_counts_pct})\n",
        "# Rotate the dataframe so that rows become columns and vice-versa\n",
        "null_df = null_df.T.astype(int)\n",
        "\n",
        "print(null_df)"
      ],
      "execution_count": 7,
      "outputs": [
        {
          "output_type": "stream",
          "text": [
            "             unique_key  date  ...  cause_vehicle_4  cause_vehicle_5\n",
            "null_counts           0     0  ...            57111            57671\n",
            "null_pct              0     0  ...               98               99\n",
            "\n",
            "[2 rows x 26 columns]\n"
          ],
          "name": "stdout"
        }
      ]
    },
    {
      "cell_type": "markdown",
      "metadata": {
        "id": "LGS5HhbAECyE",
        "colab_type": "text"
      },
      "source": [
        "About a third of the columns have no null values, with the rest ranging from less than 1% to 99%!\n",
        "\n",
        "To make things easier, let's start by looking at the group of columns that relate to people killed in collisions.\n",
        "\n",
        "We'll use list comprehension to reduce our summary dataframe to just those columns:"
      ]
    },
    {
      "cell_type": "code",
      "metadata": {
        "id": "-B3v8D3kEFIs",
        "colab_type": "code",
        "colab": {
          "base_uri": "https://localhost:8080/",
          "height": 106
        },
        "outputId": "2f04a8dd-7558-4359-ef74-44674f35dc5f"
      },
      "source": [
        "killed_cols = [col for col in mvc.columns if 'killed' in col]\n",
        "null_df[killed_cols]"
      ],
      "execution_count": 50,
      "outputs": [
        {
          "output_type": "execute_result",
          "data": {
            "text/html": [
              "<div>\n",
              "<style scoped>\n",
              "    .dataframe tbody tr th:only-of-type {\n",
              "        vertical-align: middle;\n",
              "    }\n",
              "\n",
              "    .dataframe tbody tr th {\n",
              "        vertical-align: top;\n",
              "    }\n",
              "\n",
              "    .dataframe thead th {\n",
              "        text-align: right;\n",
              "    }\n",
              "</style>\n",
              "<table border=\"1\" class=\"dataframe\">\n",
              "  <thead>\n",
              "    <tr style=\"text-align: right;\">\n",
              "      <th></th>\n",
              "      <th>pedestrians_killed</th>\n",
              "      <th>cyclist_killed</th>\n",
              "      <th>motorist_killed</th>\n",
              "      <th>total_killed</th>\n",
              "    </tr>\n",
              "  </thead>\n",
              "  <tbody>\n",
              "    <tr>\n",
              "      <th>null_counts</th>\n",
              "      <td>0</td>\n",
              "      <td>0</td>\n",
              "      <td>0</td>\n",
              "      <td>5</td>\n",
              "    </tr>\n",
              "    <tr>\n",
              "      <th>null_pct</th>\n",
              "      <td>0</td>\n",
              "      <td>0</td>\n",
              "      <td>0</td>\n",
              "      <td>0</td>\n",
              "    </tr>\n",
              "  </tbody>\n",
              "</table>\n",
              "</div>"
            ],
            "text/plain": [
              "             pedestrians_killed  cyclist_killed  motorist_killed  total_killed\n",
              "null_counts                   0               0                0             5\n",
              "null_pct                      0               0                0             0"
            ]
          },
          "metadata": {
            "tags": []
          },
          "execution_count": 50
        }
      ]
    },
    {
      "cell_type": "markdown",
      "metadata": {
        "id": "S-Hvl2GzEMTh",
        "colab_type": "text"
      },
      "source": [
        "We can see that each of the individual categories have no missing values, but the total_killed column has five missing values.\n",
        "\n",
        "One option for handling this would be to remove – or drop – those five rows. This would be a reasonably valid choice since it's a tiny portion of the data, but let's think about what other options we have first.\n",
        "\n",
        "If you think about it, the total number of people killed should be the sum of each of the individual categories. We might be able to \"fill in\" the missing values with the sums of the individual columns for that row. The technical name for filling in a missing value with a replacement value is called imputation.\n",
        "\n",
        "Let's look at how we could explore the values where the total_killed isn't equal to the sum of the other three columns. We'll illustrate this process using a series of diagrams. The diagrams won't contain values, they'll just show a grid to represent the values."
      ]
    },
    {
      "cell_type": "code",
      "metadata": {
        "id": "SIPPeOznDL53",
        "colab_type": "code",
        "colab": {}
      },
      "source": [
        "killed_cols = [col for col in mvc.columns if 'killed' in col]\n",
        "killed = mvc[killed_cols].copy()\n",
        "\n",
        "killed_manual_sum = killed.iloc[:,0:3].sum(axis=1)\n",
        "\n",
        "killed_mask = killed_manual_sum != killed['total_killed']\n",
        "\n",
        "killed_non_eq = killed[killed_mask]"
      ],
      "execution_count": 0,
      "outputs": []
    },
    {
      "cell_type": "code",
      "metadata": {
        "id": "P6b_JHwrEL1p",
        "colab_type": "code",
        "colab": {
          "base_uri": "https://localhost:8080/",
          "height": 225
        },
        "outputId": "b58f34cc-36e6-40d0-8f39-7e5fc13a6e21"
      },
      "source": [
        "killed_non_eq"
      ],
      "execution_count": 10,
      "outputs": [
        {
          "output_type": "execute_result",
          "data": {
            "text/html": [
              "<div>\n",
              "<style scoped>\n",
              "    .dataframe tbody tr th:only-of-type {\n",
              "        vertical-align: middle;\n",
              "    }\n",
              "\n",
              "    .dataframe tbody tr th {\n",
              "        vertical-align: top;\n",
              "    }\n",
              "\n",
              "    .dataframe thead th {\n",
              "        text-align: right;\n",
              "    }\n",
              "</style>\n",
              "<table border=\"1\" class=\"dataframe\">\n",
              "  <thead>\n",
              "    <tr style=\"text-align: right;\">\n",
              "      <th></th>\n",
              "      <th>pedestrians_killed</th>\n",
              "      <th>cyclist_killed</th>\n",
              "      <th>motorist_killed</th>\n",
              "      <th>total_killed</th>\n",
              "    </tr>\n",
              "  </thead>\n",
              "  <tbody>\n",
              "    <tr>\n",
              "      <th>3508</th>\n",
              "      <td>0</td>\n",
              "      <td>0</td>\n",
              "      <td>0</td>\n",
              "      <td>NaN</td>\n",
              "    </tr>\n",
              "    <tr>\n",
              "      <th>20163</th>\n",
              "      <td>0</td>\n",
              "      <td>0</td>\n",
              "      <td>0</td>\n",
              "      <td>NaN</td>\n",
              "    </tr>\n",
              "    <tr>\n",
              "      <th>22046</th>\n",
              "      <td>0</td>\n",
              "      <td>0</td>\n",
              "      <td>1</td>\n",
              "      <td>0.0</td>\n",
              "    </tr>\n",
              "    <tr>\n",
              "      <th>48719</th>\n",
              "      <td>0</td>\n",
              "      <td>0</td>\n",
              "      <td>0</td>\n",
              "      <td>NaN</td>\n",
              "    </tr>\n",
              "    <tr>\n",
              "      <th>55148</th>\n",
              "      <td>0</td>\n",
              "      <td>0</td>\n",
              "      <td>0</td>\n",
              "      <td>NaN</td>\n",
              "    </tr>\n",
              "    <tr>\n",
              "      <th>55699</th>\n",
              "      <td>0</td>\n",
              "      <td>0</td>\n",
              "      <td>0</td>\n",
              "      <td>NaN</td>\n",
              "    </tr>\n",
              "  </tbody>\n",
              "</table>\n",
              "</div>"
            ],
            "text/plain": [
              "       pedestrians_killed  cyclist_killed  motorist_killed  total_killed\n",
              "3508                    0               0                0           NaN\n",
              "20163                   0               0                0           NaN\n",
              "22046                   0               0                1           0.0\n",
              "48719                   0               0                0           NaN\n",
              "55148                   0               0                0           NaN\n",
              "55699                   0               0                0           NaN"
            ]
          },
          "metadata": {
            "tags": []
          },
          "execution_count": 10
        }
      ]
    },
    {
      "cell_type": "markdown",
      "metadata": {
        "id": "kYGnSJsGRnMZ",
        "colab_type": "text"
      },
      "source": [
        "# **Filling and Verifying the Killed and Injured Data**"
      ]
    },
    {
      "cell_type": "markdown",
      "metadata": {
        "id": "EBj6-v_TFCKl",
        "colab_type": "text"
      },
      "source": [
        "We can categorize these into two categories:\n",
        "\n",
        "Five rows where the total_killed is not equal to the sum of the other columns because the total value is missing.\n",
        "One row where the total_killed is less than the sum of the other columns.\n",
        "From this, we can conclude that filling null values with the sum of the columns is a fairly good choice for our imputation, given that only six rows out of around 58,000 don't match this pattern.\n",
        "\n",
        "We've also identified a row that has suspicious data - one that doesn't sum correctly. Once we have imputed values for all rows with missing values for total_killed, we'll mark this suspect row by setting its value to NaN.\n",
        "\n",
        "In order to execute this, we'll learn to use the Series.mask() method. Series.mask() is useful when you want to replace certain values in a series based off a boolean mask. \n",
        "\n",
        "Let's look at how we'd use this technique to update the values in the total_killed column. First, we'll replace all null values with the equivalent values from our killed_manual_sum series:\n"
      ]
    },
    {
      "cell_type": "code",
      "metadata": {
        "id": "o4wY6EixDNrk",
        "colab_type": "code",
        "colab": {}
      },
      "source": [
        "killed_null = killed['total_killed'].isnull()\n",
        "killed['total_killed'] = killed['total_killed'].mask(killed_null, killed_manual_sum)"
      ],
      "execution_count": 0,
      "outputs": []
    },
    {
      "cell_type": "markdown",
      "metadata": {
        "id": "EAvlUluRFoq6",
        "colab_type": "text"
      },
      "source": [
        "Next, we'll replace any values where the manual sum and the total column aren't equal with np.nan. This time we'll define the boolean series directly into Series.mask():"
      ]
    },
    {
      "cell_type": "code",
      "metadata": {
        "id": "I1IUscbbFijn",
        "colab_type": "code",
        "colab": {}
      },
      "source": [
        "killed['total_killed'] = killed['total_killed'].mask(killed['total_killed'] != killed_manual_sum, np.nan)"
      ],
      "execution_count": 0,
      "outputs": []
    },
    {
      "cell_type": "markdown",
      "metadata": {
        "id": "4nahdu0EF3E6",
        "colab_type": "text"
      },
      "source": [
        "Now let's look at the values we've changed:\n"
      ]
    },
    {
      "cell_type": "code",
      "metadata": {
        "id": "S2Jyq7EnFj56",
        "colab_type": "code",
        "colab": {
          "base_uri": "https://localhost:8080/",
          "height": 225
        },
        "outputId": "f532d992-a3b2-420d-f7cb-69a464ae1fe4"
      },
      "source": [
        "killed[killed_mask]"
      ],
      "execution_count": 51,
      "outputs": [
        {
          "output_type": "execute_result",
          "data": {
            "text/html": [
              "<div>\n",
              "<style scoped>\n",
              "    .dataframe tbody tr th:only-of-type {\n",
              "        vertical-align: middle;\n",
              "    }\n",
              "\n",
              "    .dataframe tbody tr th {\n",
              "        vertical-align: top;\n",
              "    }\n",
              "\n",
              "    .dataframe thead th {\n",
              "        text-align: right;\n",
              "    }\n",
              "</style>\n",
              "<table border=\"1\" class=\"dataframe\">\n",
              "  <thead>\n",
              "    <tr style=\"text-align: right;\">\n",
              "      <th></th>\n",
              "      <th>pedestrians_killed</th>\n",
              "      <th>cyclist_killed</th>\n",
              "      <th>motorist_killed</th>\n",
              "      <th>total_killed</th>\n",
              "    </tr>\n",
              "  </thead>\n",
              "  <tbody>\n",
              "    <tr>\n",
              "      <th>3508</th>\n",
              "      <td>0</td>\n",
              "      <td>0</td>\n",
              "      <td>0</td>\n",
              "      <td>0.0</td>\n",
              "    </tr>\n",
              "    <tr>\n",
              "      <th>20163</th>\n",
              "      <td>0</td>\n",
              "      <td>0</td>\n",
              "      <td>0</td>\n",
              "      <td>0.0</td>\n",
              "    </tr>\n",
              "    <tr>\n",
              "      <th>22046</th>\n",
              "      <td>0</td>\n",
              "      <td>0</td>\n",
              "      <td>1</td>\n",
              "      <td>1.0</td>\n",
              "    </tr>\n",
              "    <tr>\n",
              "      <th>48719</th>\n",
              "      <td>0</td>\n",
              "      <td>0</td>\n",
              "      <td>0</td>\n",
              "      <td>0.0</td>\n",
              "    </tr>\n",
              "    <tr>\n",
              "      <th>55148</th>\n",
              "      <td>0</td>\n",
              "      <td>0</td>\n",
              "      <td>0</td>\n",
              "      <td>0.0</td>\n",
              "    </tr>\n",
              "    <tr>\n",
              "      <th>55699</th>\n",
              "      <td>0</td>\n",
              "      <td>0</td>\n",
              "      <td>0</td>\n",
              "      <td>0.0</td>\n",
              "    </tr>\n",
              "  </tbody>\n",
              "</table>\n",
              "</div>"
            ],
            "text/plain": [
              "       pedestrians_killed  cyclist_killed  motorist_killed  total_killed\n",
              "3508                    0               0                0           0.0\n",
              "20163                   0               0                0           0.0\n",
              "22046                   0               0                1           1.0\n",
              "48719                   0               0                0           0.0\n",
              "55148                   0               0                0           0.0\n",
              "55699                   0               0                0           0.0"
            ]
          },
          "metadata": {
            "tags": []
          },
          "execution_count": 51
        }
      ]
    },
    {
      "cell_type": "markdown",
      "metadata": {
        "id": "NobXq0nOGCaA",
        "colab_type": "text"
      },
      "source": [
        "We've gone from five null values to one, and flagged some suspicious data. Let's do the same for the injured columns."
      ]
    },
    {
      "cell_type": "code",
      "metadata": {
        "id": "zq9rBDYJF87F",
        "colab_type": "code",
        "colab": {}
      },
      "source": [
        "import numpy as np\n",
        "\n",
        "# fix the killed values\n",
        "killed['total_killed'] = killed['total_killed'].mask(killed['total_killed'].isnull(), killed_manual_sum)\n",
        "killed['total_killed'] = killed['total_killed'].mask(killed['total_killed'] != killed_manual_sum, np.nan)"
      ],
      "execution_count": 0,
      "outputs": []
    },
    {
      "cell_type": "code",
      "metadata": {
        "id": "5KGGmb2FGPMq",
        "colab_type": "code",
        "colab": {}
      },
      "source": [
        "# Create an injured dataframe and manually sum values\n",
        "injured = mvc[[col for col in mvc.columns if 'injured' in col]].copy()\n",
        "injured_manual_sum = injured.iloc[:,:3].sum(axis=1)\n",
        "\n",
        "injured['total_injured'] = injured['total_injured'].mask(injured['total_injured'].isnull(), injured_manual_sum)\n",
        "\n",
        "injured['total_injured'] = injured['total_injured'].mask(injured['total_injured'] != injured_manual_sum, np.nan)"
      ],
      "execution_count": 0,
      "outputs": []
    },
    {
      "cell_type": "code",
      "metadata": {
        "id": "e93x0XyUGdEo",
        "colab_type": "code",
        "colab": {
          "base_uri": "https://localhost:8080/",
          "height": 402
        },
        "outputId": "16686530-edb3-4273-db8e-c9dfda7743d2"
      },
      "source": [
        "injured"
      ],
      "execution_count": 16,
      "outputs": [
        {
          "output_type": "execute_result",
          "data": {
            "text/html": [
              "<div>\n",
              "<style scoped>\n",
              "    .dataframe tbody tr th:only-of-type {\n",
              "        vertical-align: middle;\n",
              "    }\n",
              "\n",
              "    .dataframe tbody tr th {\n",
              "        vertical-align: top;\n",
              "    }\n",
              "\n",
              "    .dataframe thead th {\n",
              "        text-align: right;\n",
              "    }\n",
              "</style>\n",
              "<table border=\"1\" class=\"dataframe\">\n",
              "  <thead>\n",
              "    <tr style=\"text-align: right;\">\n",
              "      <th></th>\n",
              "      <th>pedestrians_injured</th>\n",
              "      <th>cyclist_injured</th>\n",
              "      <th>motorist_injured</th>\n",
              "      <th>total_injured</th>\n",
              "    </tr>\n",
              "  </thead>\n",
              "  <tbody>\n",
              "    <tr>\n",
              "      <th>0</th>\n",
              "      <td>0</td>\n",
              "      <td>0</td>\n",
              "      <td>0</td>\n",
              "      <td>0.0</td>\n",
              "    </tr>\n",
              "    <tr>\n",
              "      <th>1</th>\n",
              "      <td>0</td>\n",
              "      <td>0</td>\n",
              "      <td>0</td>\n",
              "      <td>0.0</td>\n",
              "    </tr>\n",
              "    <tr>\n",
              "      <th>2</th>\n",
              "      <td>0</td>\n",
              "      <td>0</td>\n",
              "      <td>1</td>\n",
              "      <td>1.0</td>\n",
              "    </tr>\n",
              "    <tr>\n",
              "      <th>3</th>\n",
              "      <td>0</td>\n",
              "      <td>0</td>\n",
              "      <td>0</td>\n",
              "      <td>0.0</td>\n",
              "    </tr>\n",
              "    <tr>\n",
              "      <th>4</th>\n",
              "      <td>0</td>\n",
              "      <td>0</td>\n",
              "      <td>0</td>\n",
              "      <td>0.0</td>\n",
              "    </tr>\n",
              "    <tr>\n",
              "      <th>...</th>\n",
              "      <td>...</td>\n",
              "      <td>...</td>\n",
              "      <td>...</td>\n",
              "      <td>...</td>\n",
              "    </tr>\n",
              "    <tr>\n",
              "      <th>57859</th>\n",
              "      <td>3</td>\n",
              "      <td>0</td>\n",
              "      <td>0</td>\n",
              "      <td>3.0</td>\n",
              "    </tr>\n",
              "    <tr>\n",
              "      <th>57860</th>\n",
              "      <td>0</td>\n",
              "      <td>0</td>\n",
              "      <td>0</td>\n",
              "      <td>0.0</td>\n",
              "    </tr>\n",
              "    <tr>\n",
              "      <th>57861</th>\n",
              "      <td>0</td>\n",
              "      <td>0</td>\n",
              "      <td>1</td>\n",
              "      <td>1.0</td>\n",
              "    </tr>\n",
              "    <tr>\n",
              "      <th>57862</th>\n",
              "      <td>0</td>\n",
              "      <td>0</td>\n",
              "      <td>0</td>\n",
              "      <td>0.0</td>\n",
              "    </tr>\n",
              "    <tr>\n",
              "      <th>57863</th>\n",
              "      <td>0</td>\n",
              "      <td>0</td>\n",
              "      <td>0</td>\n",
              "      <td>0.0</td>\n",
              "    </tr>\n",
              "  </tbody>\n",
              "</table>\n",
              "<p>57864 rows × 4 columns</p>\n",
              "</div>"
            ],
            "text/plain": [
              "       pedestrians_injured  cyclist_injured  motorist_injured  total_injured\n",
              "0                        0                0                 0            0.0\n",
              "1                        0                0                 0            0.0\n",
              "2                        0                0                 1            1.0\n",
              "3                        0                0                 0            0.0\n",
              "4                        0                0                 0            0.0\n",
              "...                    ...              ...               ...            ...\n",
              "57859                    3                0                 0            3.0\n",
              "57860                    0                0                 0            0.0\n",
              "57861                    0                0                 1            1.0\n",
              "57862                    0                0                 0            0.0\n",
              "57863                    0                0                 0            0.0\n",
              "\n",
              "[57864 rows x 4 columns]"
            ]
          },
          "metadata": {
            "tags": []
          },
          "execution_count": 16
        }
      ]
    },
    {
      "cell_type": "markdown",
      "metadata": {
        "id": "4s8fLYStR3Vb",
        "colab_type": "text"
      },
      "source": [
        "# **Assigning the Corrected Data Back to the Main Dataframe**"
      ]
    },
    {
      "cell_type": "markdown",
      "metadata": {
        "id": "EzlTK9OqG7VL",
        "colab_type": "text"
      },
      "source": [
        "Let's summarize the count of null values before and after our changes:"
      ]
    },
    {
      "cell_type": "code",
      "metadata": {
        "id": "UDWAD2oXGeUu",
        "colab_type": "code",
        "colab": {
          "base_uri": "https://localhost:8080/",
          "height": 67
        },
        "outputId": "f29657de-8575-48e9-e641-a4b5ac249306"
      },
      "source": [
        "null_counts_pct = null_counts / mvc.shape[0] * 100\n",
        "summary = {\n",
        "    'injured': [\n",
        "        mvc['total_injured'].isnull().sum(),\n",
        "        injured['total_injured'].isnull().sum()\n",
        "    ],\n",
        "    'killed': [\n",
        "        mvc['total_killed'].isnull().sum(),\n",
        "        killed['total_killed'].isnull().sum()\n",
        "    ]\n",
        "}\n",
        "print(pd.DataFrame(summary, index=['before','after']))"
      ],
      "execution_count": 17,
      "outputs": [
        {
          "output_type": "stream",
          "text": [
            "        injured  killed\n",
            "before        1       5\n",
            "after        21       0\n"
          ],
          "name": "stdout"
        }
      ]
    },
    {
      "cell_type": "markdown",
      "metadata": {
        "id": "yYFx3ZpzHMq4",
        "colab_type": "text"
      },
      "source": [
        "For the total_killed column, the number of values has gone down from 5 to 1. For the total_injured column, the number of values has actually gone up — from 1 to 21. This might sound like we've done the opposite of what we set out to do, but what we've actually done is fill all the null values and identify values that have suspect data. This will make any analysis we do on this data more accurate in the long run.\n",
        "\n",
        "Let's assign the values from the killed and injured dataframe back to the main mvc dataframe."
      ]
    },
    {
      "cell_type": "code",
      "metadata": {
        "id": "S-w-NzCCHBUl",
        "colab_type": "code",
        "colab": {
          "base_uri": "https://localhost:8080/",
          "height": 774
        },
        "outputId": "92aa3127-1e13-45a1-92e2-39555cf9e83e"
      },
      "source": [
        "mvc['total_injured'] = injured['total_injured']\n",
        "mvc['total_killed'] = killed['total_killed']\n",
        "mvc"
      ],
      "execution_count": 18,
      "outputs": [
        {
          "output_type": "execute_result",
          "data": {
            "text/html": [
              "<div>\n",
              "<style scoped>\n",
              "    .dataframe tbody tr th:only-of-type {\n",
              "        vertical-align: middle;\n",
              "    }\n",
              "\n",
              "    .dataframe tbody tr th {\n",
              "        vertical-align: top;\n",
              "    }\n",
              "\n",
              "    .dataframe thead th {\n",
              "        text-align: right;\n",
              "    }\n",
              "</style>\n",
              "<table border=\"1\" class=\"dataframe\">\n",
              "  <thead>\n",
              "    <tr style=\"text-align: right;\">\n",
              "      <th></th>\n",
              "      <th>unique_key</th>\n",
              "      <th>date</th>\n",
              "      <th>time</th>\n",
              "      <th>borough</th>\n",
              "      <th>location</th>\n",
              "      <th>on_street</th>\n",
              "      <th>cross_street</th>\n",
              "      <th>off_street</th>\n",
              "      <th>pedestrians_injured</th>\n",
              "      <th>cyclist_injured</th>\n",
              "      <th>motorist_injured</th>\n",
              "      <th>total_injured</th>\n",
              "      <th>pedestrians_killed</th>\n",
              "      <th>cyclist_killed</th>\n",
              "      <th>motorist_killed</th>\n",
              "      <th>total_killed</th>\n",
              "      <th>vehicle_1</th>\n",
              "      <th>vehicle_2</th>\n",
              "      <th>vehicle_3</th>\n",
              "      <th>vehicle_4</th>\n",
              "      <th>vehicle_5</th>\n",
              "      <th>cause_vehicle_1</th>\n",
              "      <th>cause_vehicle_2</th>\n",
              "      <th>cause_vehicle_3</th>\n",
              "      <th>cause_vehicle_4</th>\n",
              "      <th>cause_vehicle_5</th>\n",
              "    </tr>\n",
              "  </thead>\n",
              "  <tbody>\n",
              "    <tr>\n",
              "      <th>0</th>\n",
              "      <td>3869058</td>\n",
              "      <td>2018-03-23</td>\n",
              "      <td>21:40</td>\n",
              "      <td>MANHATTAN</td>\n",
              "      <td>(40.742832, -74.00771)</td>\n",
              "      <td>WEST 15 STREET</td>\n",
              "      <td>10 AVENUE</td>\n",
              "      <td>NaN</td>\n",
              "      <td>0</td>\n",
              "      <td>0</td>\n",
              "      <td>0</td>\n",
              "      <td>0.0</td>\n",
              "      <td>0</td>\n",
              "      <td>0</td>\n",
              "      <td>0</td>\n",
              "      <td>0.0</td>\n",
              "      <td>PASSENGER VEHICLE</td>\n",
              "      <td>NaN</td>\n",
              "      <td>NaN</td>\n",
              "      <td>NaN</td>\n",
              "      <td>NaN</td>\n",
              "      <td>Following Too Closely</td>\n",
              "      <td>Unspecified</td>\n",
              "      <td>NaN</td>\n",
              "      <td>NaN</td>\n",
              "      <td>NaN</td>\n",
              "    </tr>\n",
              "    <tr>\n",
              "      <th>1</th>\n",
              "      <td>3847947</td>\n",
              "      <td>2018-02-13</td>\n",
              "      <td>14:45</td>\n",
              "      <td>BROOKLYN</td>\n",
              "      <td>(40.623714, -73.99314)</td>\n",
              "      <td>16 AVENUE</td>\n",
              "      <td>62 STREET</td>\n",
              "      <td>NaN</td>\n",
              "      <td>0</td>\n",
              "      <td>0</td>\n",
              "      <td>0</td>\n",
              "      <td>0.0</td>\n",
              "      <td>0</td>\n",
              "      <td>0</td>\n",
              "      <td>0</td>\n",
              "      <td>0.0</td>\n",
              "      <td>SPORT UTILITY / STATION WAGON</td>\n",
              "      <td>DS</td>\n",
              "      <td>NaN</td>\n",
              "      <td>NaN</td>\n",
              "      <td>NaN</td>\n",
              "      <td>Backing Unsafely</td>\n",
              "      <td>Unspecified</td>\n",
              "      <td>NaN</td>\n",
              "      <td>NaN</td>\n",
              "      <td>NaN</td>\n",
              "    </tr>\n",
              "    <tr>\n",
              "      <th>2</th>\n",
              "      <td>3914294</td>\n",
              "      <td>2018-06-04</td>\n",
              "      <td>0:00</td>\n",
              "      <td>NaN</td>\n",
              "      <td>(40.591755, -73.9083)</td>\n",
              "      <td>BELT PARKWAY</td>\n",
              "      <td>NaN</td>\n",
              "      <td>NaN</td>\n",
              "      <td>0</td>\n",
              "      <td>0</td>\n",
              "      <td>1</td>\n",
              "      <td>1.0</td>\n",
              "      <td>0</td>\n",
              "      <td>0</td>\n",
              "      <td>0</td>\n",
              "      <td>0.0</td>\n",
              "      <td>Station Wagon/Sport Utility Vehicle</td>\n",
              "      <td>Sedan</td>\n",
              "      <td>NaN</td>\n",
              "      <td>NaN</td>\n",
              "      <td>NaN</td>\n",
              "      <td>Following Too Closely</td>\n",
              "      <td>Unspecified</td>\n",
              "      <td>NaN</td>\n",
              "      <td>NaN</td>\n",
              "      <td>NaN</td>\n",
              "    </tr>\n",
              "    <tr>\n",
              "      <th>3</th>\n",
              "      <td>3915069</td>\n",
              "      <td>2018-06-05</td>\n",
              "      <td>6:36</td>\n",
              "      <td>QUEENS</td>\n",
              "      <td>(40.73602, -73.87954)</td>\n",
              "      <td>GRAND AVENUE</td>\n",
              "      <td>VANLOON STREET</td>\n",
              "      <td>NaN</td>\n",
              "      <td>0</td>\n",
              "      <td>0</td>\n",
              "      <td>0</td>\n",
              "      <td>0.0</td>\n",
              "      <td>0</td>\n",
              "      <td>0</td>\n",
              "      <td>0</td>\n",
              "      <td>0.0</td>\n",
              "      <td>Sedan</td>\n",
              "      <td>Sedan</td>\n",
              "      <td>NaN</td>\n",
              "      <td>NaN</td>\n",
              "      <td>NaN</td>\n",
              "      <td>Glare</td>\n",
              "      <td>Passing Too Closely</td>\n",
              "      <td>NaN</td>\n",
              "      <td>NaN</td>\n",
              "      <td>NaN</td>\n",
              "    </tr>\n",
              "    <tr>\n",
              "      <th>4</th>\n",
              "      <td>3923123</td>\n",
              "      <td>2018-06-16</td>\n",
              "      <td>15:45</td>\n",
              "      <td>BRONX</td>\n",
              "      <td>(40.884727, -73.89945)</td>\n",
              "      <td>NaN</td>\n",
              "      <td>NaN</td>\n",
              "      <td>208       WEST 238 STREET</td>\n",
              "      <td>0</td>\n",
              "      <td>0</td>\n",
              "      <td>0</td>\n",
              "      <td>0.0</td>\n",
              "      <td>0</td>\n",
              "      <td>0</td>\n",
              "      <td>0</td>\n",
              "      <td>0.0</td>\n",
              "      <td>Station Wagon/Sport Utility Vehicle</td>\n",
              "      <td>Sedan</td>\n",
              "      <td>NaN</td>\n",
              "      <td>NaN</td>\n",
              "      <td>NaN</td>\n",
              "      <td>Turning Improperly</td>\n",
              "      <td>Unspecified</td>\n",
              "      <td>NaN</td>\n",
              "      <td>NaN</td>\n",
              "      <td>NaN</td>\n",
              "    </tr>\n",
              "    <tr>\n",
              "      <th>...</th>\n",
              "      <td>...</td>\n",
              "      <td>...</td>\n",
              "      <td>...</td>\n",
              "      <td>...</td>\n",
              "      <td>...</td>\n",
              "      <td>...</td>\n",
              "      <td>...</td>\n",
              "      <td>...</td>\n",
              "      <td>...</td>\n",
              "      <td>...</td>\n",
              "      <td>...</td>\n",
              "      <td>...</td>\n",
              "      <td>...</td>\n",
              "      <td>...</td>\n",
              "      <td>...</td>\n",
              "      <td>...</td>\n",
              "      <td>...</td>\n",
              "      <td>...</td>\n",
              "      <td>...</td>\n",
              "      <td>...</td>\n",
              "      <td>...</td>\n",
              "      <td>...</td>\n",
              "      <td>...</td>\n",
              "      <td>...</td>\n",
              "      <td>...</td>\n",
              "      <td>...</td>\n",
              "    </tr>\n",
              "    <tr>\n",
              "      <th>57859</th>\n",
              "      <td>3835191</td>\n",
              "      <td>2018-01-26</td>\n",
              "      <td>14:51</td>\n",
              "      <td>BRONX</td>\n",
              "      <td>(40.85477, -73.90299)</td>\n",
              "      <td>CRESTON AVENUE</td>\n",
              "      <td>EAST 181 STREET</td>\n",
              "      <td>NaN</td>\n",
              "      <td>3</td>\n",
              "      <td>0</td>\n",
              "      <td>0</td>\n",
              "      <td>3.0</td>\n",
              "      <td>0</td>\n",
              "      <td>0</td>\n",
              "      <td>0</td>\n",
              "      <td>0.0</td>\n",
              "      <td>PASSENGER VEHICLE</td>\n",
              "      <td>NaN</td>\n",
              "      <td>NaN</td>\n",
              "      <td>NaN</td>\n",
              "      <td>NaN</td>\n",
              "      <td>Unspecified</td>\n",
              "      <td>NaN</td>\n",
              "      <td>NaN</td>\n",
              "      <td>NaN</td>\n",
              "      <td>NaN</td>\n",
              "    </tr>\n",
              "    <tr>\n",
              "      <th>57860</th>\n",
              "      <td>3890674</td>\n",
              "      <td>2018-04-29</td>\n",
              "      <td>18:30</td>\n",
              "      <td>QUEENS</td>\n",
              "      <td>(40.78419, -73.84582)</td>\n",
              "      <td>COLLEGE POINT BOULEVARD</td>\n",
              "      <td>15 AVENUE</td>\n",
              "      <td>NaN</td>\n",
              "      <td>0</td>\n",
              "      <td>0</td>\n",
              "      <td>0</td>\n",
              "      <td>0.0</td>\n",
              "      <td>0</td>\n",
              "      <td>0</td>\n",
              "      <td>0</td>\n",
              "      <td>0.0</td>\n",
              "      <td>PASSENGER VEHICLE</td>\n",
              "      <td>SPORT UTILITY / STATION WAGON</td>\n",
              "      <td>NaN</td>\n",
              "      <td>NaN</td>\n",
              "      <td>NaN</td>\n",
              "      <td>Backing Unsafely</td>\n",
              "      <td>Unspecified</td>\n",
              "      <td>NaN</td>\n",
              "      <td>NaN</td>\n",
              "      <td>NaN</td>\n",
              "    </tr>\n",
              "    <tr>\n",
              "      <th>57861</th>\n",
              "      <td>3946458</td>\n",
              "      <td>2018-07-21</td>\n",
              "      <td>16:45</td>\n",
              "      <td>NaN</td>\n",
              "      <td>(40.711926, -74.0061)</td>\n",
              "      <td>PARK ROW</td>\n",
              "      <td>NaN</td>\n",
              "      <td>NaN</td>\n",
              "      <td>0</td>\n",
              "      <td>0</td>\n",
              "      <td>1</td>\n",
              "      <td>1.0</td>\n",
              "      <td>0</td>\n",
              "      <td>0</td>\n",
              "      <td>0</td>\n",
              "      <td>0.0</td>\n",
              "      <td>Station Wagon/Sport Utility Vehicle</td>\n",
              "      <td>Sedan</td>\n",
              "      <td>NaN</td>\n",
              "      <td>NaN</td>\n",
              "      <td>NaN</td>\n",
              "      <td>Turning Improperly</td>\n",
              "      <td>Unspecified</td>\n",
              "      <td>NaN</td>\n",
              "      <td>NaN</td>\n",
              "      <td>NaN</td>\n",
              "    </tr>\n",
              "    <tr>\n",
              "      <th>57862</th>\n",
              "      <td>3914574</td>\n",
              "      <td>2018-06-04</td>\n",
              "      <td>5:45</td>\n",
              "      <td>NaN</td>\n",
              "      <td>(40.71976, -73.94476)</td>\n",
              "      <td>BROOKLYN QUEENS EXPRESSWAY</td>\n",
              "      <td>NaN</td>\n",
              "      <td>NaN</td>\n",
              "      <td>0</td>\n",
              "      <td>0</td>\n",
              "      <td>0</td>\n",
              "      <td>0.0</td>\n",
              "      <td>0</td>\n",
              "      <td>0</td>\n",
              "      <td>0</td>\n",
              "      <td>0.0</td>\n",
              "      <td>Sedan</td>\n",
              "      <td>Tractor Truck Diesel</td>\n",
              "      <td>Station Wagon/Sport Utility Vehicle</td>\n",
              "      <td>NaN</td>\n",
              "      <td>NaN</td>\n",
              "      <td>Other Vehicular</td>\n",
              "      <td>Unspecified</td>\n",
              "      <td>Unspecified</td>\n",
              "      <td>NaN</td>\n",
              "      <td>NaN</td>\n",
              "    </tr>\n",
              "    <tr>\n",
              "      <th>57863</th>\n",
              "      <td>4034882</td>\n",
              "      <td>2018-11-29</td>\n",
              "      <td>8:26</td>\n",
              "      <td>NaN</td>\n",
              "      <td>(40.69181, -73.988235)</td>\n",
              "      <td>FULTON STREET</td>\n",
              "      <td>NaN</td>\n",
              "      <td>NaN</td>\n",
              "      <td>0</td>\n",
              "      <td>0</td>\n",
              "      <td>0</td>\n",
              "      <td>0.0</td>\n",
              "      <td>0</td>\n",
              "      <td>0</td>\n",
              "      <td>0</td>\n",
              "      <td>0.0</td>\n",
              "      <td>Pick-up Truck</td>\n",
              "      <td>Station Wagon/Sport Utility Vehicle</td>\n",
              "      <td>NaN</td>\n",
              "      <td>NaN</td>\n",
              "      <td>NaN</td>\n",
              "      <td>Passing Too Closely</td>\n",
              "      <td>Passing Too Closely</td>\n",
              "      <td>NaN</td>\n",
              "      <td>NaN</td>\n",
              "      <td>NaN</td>\n",
              "    </tr>\n",
              "  </tbody>\n",
              "</table>\n",
              "<p>57864 rows × 26 columns</p>\n",
              "</div>"
            ],
            "text/plain": [
              "       unique_key        date  ... cause_vehicle_4 cause_vehicle_5\n",
              "0         3869058  2018-03-23  ...             NaN             NaN\n",
              "1         3847947  2018-02-13  ...             NaN             NaN\n",
              "2         3914294  2018-06-04  ...             NaN             NaN\n",
              "3         3915069  2018-06-05  ...             NaN             NaN\n",
              "4         3923123  2018-06-16  ...             NaN             NaN\n",
              "...           ...         ...  ...             ...             ...\n",
              "57859     3835191  2018-01-26  ...             NaN             NaN\n",
              "57860     3890674  2018-04-29  ...             NaN             NaN\n",
              "57861     3946458  2018-07-21  ...             NaN             NaN\n",
              "57862     3914574  2018-06-04  ...             NaN             NaN\n",
              "57863     4034882  2018-11-29  ...             NaN             NaN\n",
              "\n",
              "[57864 rows x 26 columns]"
            ]
          },
          "metadata": {
            "tags": []
          },
          "execution_count": 18
        }
      ]
    },
    {
      "cell_type": "markdown",
      "metadata": {
        "id": "rfTtfOr6SJNF",
        "colab_type": "text"
      },
      "source": [
        "# **Visualizing Missing Data with Plots**"
      ]
    },
    {
      "cell_type": "markdown",
      "metadata": {
        "id": "YFEActsYHb6X",
        "colab_type": "text"
      },
      "source": [
        "Earlier, we used a table of numbers to understand the number of missing values in our dataframe. A different approach we can take is to use a plot to visualize the missing values. The function below uses seaborn.heatmap() to represent null values as light squares and non-null values as dark squares"
      ]
    },
    {
      "cell_type": "code",
      "metadata": {
        "id": "3QljOYV5HuBC",
        "colab_type": "code",
        "colab": {
          "base_uri": "https://localhost:8080/",
          "height": 70
        },
        "outputId": "83110bc2-f856-4f9e-b46d-9bb722c2b27b"
      },
      "source": [
        "import matplotlib.pyplot as plt\n",
        "import seaborn as sns"
      ],
      "execution_count": 19,
      "outputs": [
        {
          "output_type": "stream",
          "text": [
            "/usr/local/lib/python3.6/dist-packages/statsmodels/tools/_testing.py:19: FutureWarning: pandas.util.testing is deprecated. Use the functions in the public API at pandas.testing instead.\n",
            "  import pandas.util.testing as tm\n"
          ],
          "name": "stderr"
        }
      ]
    },
    {
      "cell_type": "code",
      "metadata": {
        "id": "WgaxS91BHQ1y",
        "colab_type": "code",
        "colab": {}
      },
      "source": [
        "null_counts_pct = null_counts / mvc.shape[0] * 100\n",
        "def plot_null_matrix(df, figsize=(18,15)):\n",
        "    # initiate the figure\n",
        "    plt.figure(figsize=figsize)\n",
        "    # create a boolean dataframe based on whether values are null\n",
        "    df_null = df.isnull()\n",
        "    # create a heatmap of the boolean dataframe\n",
        "    sns.heatmap(~df_null, cbar=False, yticklabels=False)\n",
        "    plt.xticks(rotation=90, size='x-large')\n",
        "    plt.show()"
      ],
      "execution_count": 0,
      "outputs": []
    },
    {
      "cell_type": "markdown",
      "metadata": {
        "id": "HlM3ymSpHl17",
        "colab_type": "text"
      },
      "source": [
        "Let's look at how the function works by using it to plot just the first row of our mvc dataframe. We'll display the first row as a table immediately below so it's easy to compare:"
      ]
    },
    {
      "cell_type": "code",
      "metadata": {
        "id": "LOUep7c-HflJ",
        "colab_type": "code",
        "colab": {
          "base_uri": "https://localhost:8080/",
          "height": 224
        },
        "outputId": "3cd77c2c-a8d1-4a9d-ab67-3e02dbede126"
      },
      "source": [
        "plot_null_matrix(mvc.head(1), figsize=(18,1))"
      ],
      "execution_count": 21,
      "outputs": [
        {
          "output_type": "display_data",
          "data": {
            "image/png": "[encoded data removed]",
            "text/plain": [
              "<Figure size 1296x72 with 1 Axes>"
            ]
          },
          "metadata": {
            "tags": [],
            "needs_background": "light"
          }
        }
      ]
    },
    {
      "cell_type": "code",
      "metadata": {
        "id": "p97vYL_cHpWe",
        "colab_type": "code",
        "colab": {
          "base_uri": "https://localhost:8080/",
          "height": 114
        },
        "outputId": "e445742c-3ed7-48a3-cc11-cbd1a00a38af"
      },
      "source": [
        "mvc.head(1)"
      ],
      "execution_count": 22,
      "outputs": [
        {
          "output_type": "execute_result",
          "data": {
            "text/html": [
              "<div>\n",
              "<style scoped>\n",
              "    .dataframe tbody tr th:only-of-type {\n",
              "        vertical-align: middle;\n",
              "    }\n",
              "\n",
              "    .dataframe tbody tr th {\n",
              "        vertical-align: top;\n",
              "    }\n",
              "\n",
              "    .dataframe thead th {\n",
              "        text-align: right;\n",
              "    }\n",
              "</style>\n",
              "<table border=\"1\" class=\"dataframe\">\n",
              "  <thead>\n",
              "    <tr style=\"text-align: right;\">\n",
              "      <th></th>\n",
              "      <th>unique_key</th>\n",
              "      <th>date</th>\n",
              "      <th>time</th>\n",
              "      <th>borough</th>\n",
              "      <th>location</th>\n",
              "      <th>on_street</th>\n",
              "      <th>cross_street</th>\n",
              "      <th>off_street</th>\n",
              "      <th>pedestrians_injured</th>\n",
              "      <th>cyclist_injured</th>\n",
              "      <th>motorist_injured</th>\n",
              "      <th>total_injured</th>\n",
              "      <th>pedestrians_killed</th>\n",
              "      <th>cyclist_killed</th>\n",
              "      <th>motorist_killed</th>\n",
              "      <th>total_killed</th>\n",
              "      <th>vehicle_1</th>\n",
              "      <th>vehicle_2</th>\n",
              "      <th>vehicle_3</th>\n",
              "      <th>vehicle_4</th>\n",
              "      <th>vehicle_5</th>\n",
              "      <th>cause_vehicle_1</th>\n",
              "      <th>cause_vehicle_2</th>\n",
              "      <th>cause_vehicle_3</th>\n",
              "      <th>cause_vehicle_4</th>\n",
              "      <th>cause_vehicle_5</th>\n",
              "    </tr>\n",
              "  </thead>\n",
              "  <tbody>\n",
              "    <tr>\n",
              "      <th>0</th>\n",
              "      <td>3869058</td>\n",
              "      <td>2018-03-23</td>\n",
              "      <td>21:40</td>\n",
              "      <td>MANHATTAN</td>\n",
              "      <td>(40.742832, -74.00771)</td>\n",
              "      <td>WEST 15 STREET</td>\n",
              "      <td>10 AVENUE</td>\n",
              "      <td>NaN</td>\n",
              "      <td>0</td>\n",
              "      <td>0</td>\n",
              "      <td>0</td>\n",
              "      <td>0.0</td>\n",
              "      <td>0</td>\n",
              "      <td>0</td>\n",
              "      <td>0</td>\n",
              "      <td>0.0</td>\n",
              "      <td>PASSENGER VEHICLE</td>\n",
              "      <td>NaN</td>\n",
              "      <td>NaN</td>\n",
              "      <td>NaN</td>\n",
              "      <td>NaN</td>\n",
              "      <td>Following Too Closely</td>\n",
              "      <td>Unspecified</td>\n",
              "      <td>NaN</td>\n",
              "      <td>NaN</td>\n",
              "      <td>NaN</td>\n",
              "    </tr>\n",
              "  </tbody>\n",
              "</table>\n",
              "</div>"
            ],
            "text/plain": [
              "   unique_key        date  ... cause_vehicle_4 cause_vehicle_5\n",
              "0     3869058  2018-03-23  ...             NaN             NaN\n",
              "\n",
              "[1 rows x 26 columns]"
            ]
          },
          "metadata": {
            "tags": []
          },
          "execution_count": 22
        }
      ]
    },
    {
      "cell_type": "markdown",
      "metadata": {
        "id": "WI83-p5tILnY",
        "colab_type": "text"
      },
      "source": [
        "Each value is represented by a dark square, and each missing value is represented by a light square.\n",
        "\n",
        "Let's look at what a plot matrix looks like for the whole dataframe."
      ]
    },
    {
      "cell_type": "code",
      "metadata": {
        "id": "UWzpjY5-H6y-",
        "colab_type": "code",
        "colab": {
          "base_uri": "https://localhost:8080/",
          "height": 951
        },
        "outputId": "eff2b793-1610-48d3-f3dc-7255bd404193"
      },
      "source": [
        "plot_null_matrix(mvc)"
      ],
      "execution_count": 23,
      "outputs": [
        {
          "output_type": "display_data",
          "data": {
            "image/png": "[encoded data removed]",
            "text/plain": [
              "<Figure size 1296x1080 with 1 Axes>"
            ]
          },
          "metadata": {
            "tags": [],
            "needs_background": "light"
          }
        }
      ]
    },
    {
      "cell_type": "markdown",
      "metadata": {
        "id": "SHzghwmoIZl8",
        "colab_type": "text"
      },
      "source": [
        "We can make some immediate interpretations about our dataframe:\n",
        "\n",
        "The first three columns have few to no missing values.\n",
        "The next five columns have missing values scattered throughout, with each column seeming to have its own density of missing values.\n",
        "The next eight columns are the injury and killed columns we just cleaned, and only have a few missing values.\n",
        "The last 10 columns seem to break into two groups of five, with each group of five having similar patterns of null/non-null values.\n",
        "Let's examine the pattern in the last 10 columns a little more closely. We can calculate the relationship between two sets of columns, known as correlation. To calculate this we use the dataframe.corr() method (You'll learn more about correlation in a later course). Here's what that looks like:"
      ]
    },
    {
      "cell_type": "code",
      "metadata": {
        "id": "es0CoOTZIOO1",
        "colab_type": "code",
        "colab": {
          "base_uri": "https://localhost:8080/",
          "height": 541
        },
        "outputId": "81611027-b042-4671-bbd7-4d6abd17fc66"
      },
      "source": [
        "cols_with_missing_vals = mvc.columns[mvc.isnull().sum() > 0]\n",
        "missing_corr = mvc[cols_with_missing_vals].isnull().corr()\n",
        "missing_corr"
      ],
      "execution_count": 24,
      "outputs": [
        {
          "output_type": "execute_result",
          "data": {
            "text/html": [
              "<div>\n",
              "<style scoped>\n",
              "    .dataframe tbody tr th:only-of-type {\n",
              "        vertical-align: middle;\n",
              "    }\n",
              "\n",
              "    .dataframe tbody tr th {\n",
              "        vertical-align: top;\n",
              "    }\n",
              "\n",
              "    .dataframe thead th {\n",
              "        text-align: right;\n",
              "    }\n",
              "</style>\n",
              "<table border=\"1\" class=\"dataframe\">\n",
              "  <thead>\n",
              "    <tr style=\"text-align: right;\">\n",
              "      <th></th>\n",
              "      <th>borough</th>\n",
              "      <th>location</th>\n",
              "      <th>on_street</th>\n",
              "      <th>cross_street</th>\n",
              "      <th>off_street</th>\n",
              "      <th>total_injured</th>\n",
              "      <th>vehicle_1</th>\n",
              "      <th>vehicle_2</th>\n",
              "      <th>vehicle_3</th>\n",
              "      <th>vehicle_4</th>\n",
              "      <th>vehicle_5</th>\n",
              "      <th>cause_vehicle_1</th>\n",
              "      <th>cause_vehicle_2</th>\n",
              "      <th>cause_vehicle_3</th>\n",
              "      <th>cause_vehicle_4</th>\n",
              "      <th>cause_vehicle_5</th>\n",
              "    </tr>\n",
              "  </thead>\n",
              "  <tbody>\n",
              "    <tr>\n",
              "      <th>borough</th>\n",
              "      <td>1.000000</td>\n",
              "      <td>0.190105</td>\n",
              "      <td>-0.350190</td>\n",
              "      <td>0.409107</td>\n",
              "      <td>0.362189</td>\n",
              "      <td>-0.002827</td>\n",
              "      <td>-0.018325</td>\n",
              "      <td>-0.077516</td>\n",
              "      <td>-0.061932</td>\n",
              "      <td>-0.020406</td>\n",
              "      <td>-0.010733</td>\n",
              "      <td>-0.012115</td>\n",
              "      <td>-0.058596</td>\n",
              "      <td>-0.060542</td>\n",
              "      <td>-0.020158</td>\n",
              "      <td>-0.011348</td>\n",
              "    </tr>\n",
              "    <tr>\n",
              "      <th>location</th>\n",
              "      <td>0.190105</td>\n",
              "      <td>1.000000</td>\n",
              "      <td>-0.073975</td>\n",
              "      <td>-0.069719</td>\n",
              "      <td>0.084579</td>\n",
              "      <td>-0.001486</td>\n",
              "      <td>-0.010466</td>\n",
              "      <td>-0.033842</td>\n",
              "      <td>-0.000927</td>\n",
              "      <td>0.004655</td>\n",
              "      <td>-0.005797</td>\n",
              "      <td>-0.003458</td>\n",
              "      <td>-0.021373</td>\n",
              "      <td>0.000684</td>\n",
              "      <td>0.004604</td>\n",
              "      <td>-0.004841</td>\n",
              "    </tr>\n",
              "    <tr>\n",
              "      <th>on_street</th>\n",
              "      <td>-0.350190</td>\n",
              "      <td>-0.073975</td>\n",
              "      <td>1.000000</td>\n",
              "      <td>0.557767</td>\n",
              "      <td>-0.991030</td>\n",
              "      <td>0.006220</td>\n",
              "      <td>-0.001889</td>\n",
              "      <td>0.119647</td>\n",
              "      <td>0.020867</td>\n",
              "      <td>0.004172</td>\n",
              "      <td>-0.002768</td>\n",
              "      <td>0.001307</td>\n",
              "      <td>0.087374</td>\n",
              "      <td>0.017426</td>\n",
              "      <td>0.002737</td>\n",
              "      <td>-0.003107</td>\n",
              "    </tr>\n",
              "    <tr>\n",
              "      <th>cross_street</th>\n",
              "      <td>0.409107</td>\n",
              "      <td>-0.069719</td>\n",
              "      <td>0.557767</td>\n",
              "      <td>1.000000</td>\n",
              "      <td>-0.552763</td>\n",
              "      <td>0.002513</td>\n",
              "      <td>-0.017018</td>\n",
              "      <td>0.043799</td>\n",
              "      <td>-0.049910</td>\n",
              "      <td>-0.021137</td>\n",
              "      <td>-0.012003</td>\n",
              "      <td>-0.009102</td>\n",
              "      <td>0.031189</td>\n",
              "      <td>-0.052159</td>\n",
              "      <td>-0.022074</td>\n",
              "      <td>-0.013455</td>\n",
              "    </tr>\n",
              "    <tr>\n",
              "      <th>off_street</th>\n",
              "      <td>0.362189</td>\n",
              "      <td>0.084579</td>\n",
              "      <td>-0.991030</td>\n",
              "      <td>-0.552763</td>\n",
              "      <td>1.000000</td>\n",
              "      <td>-0.004266</td>\n",
              "      <td>0.001812</td>\n",
              "      <td>-0.121129</td>\n",
              "      <td>-0.022404</td>\n",
              "      <td>-0.004074</td>\n",
              "      <td>0.002492</td>\n",
              "      <td>-0.001738</td>\n",
              "      <td>-0.088187</td>\n",
              "      <td>-0.019120</td>\n",
              "      <td>-0.002580</td>\n",
              "      <td>0.002863</td>\n",
              "    </tr>\n",
              "    <tr>\n",
              "      <th>total_injured</th>\n",
              "      <td>-0.002827</td>\n",
              "      <td>-0.001486</td>\n",
              "      <td>0.006220</td>\n",
              "      <td>0.002513</td>\n",
              "      <td>-0.004266</td>\n",
              "      <td>1.000000</td>\n",
              "      <td>0.079840</td>\n",
              "      <td>0.025644</td>\n",
              "      <td>-0.002757</td>\n",
              "      <td>0.002118</td>\n",
              "      <td>0.001073</td>\n",
              "      <td>0.131140</td>\n",
              "      <td>0.030082</td>\n",
              "      <td>-0.002388</td>\n",
              "      <td>0.002188</td>\n",
              "      <td>0.001102</td>\n",
              "    </tr>\n",
              "    <tr>\n",
              "      <th>vehicle_1</th>\n",
              "      <td>-0.018325</td>\n",
              "      <td>-0.010466</td>\n",
              "      <td>-0.001889</td>\n",
              "      <td>-0.017018</td>\n",
              "      <td>0.001812</td>\n",
              "      <td>0.079840</td>\n",
              "      <td>1.000000</td>\n",
              "      <td>0.151516</td>\n",
              "      <td>0.019972</td>\n",
              "      <td>0.008732</td>\n",
              "      <td>0.004425</td>\n",
              "      <td>0.604281</td>\n",
              "      <td>0.180678</td>\n",
              "      <td>0.020624</td>\n",
              "      <td>0.009022</td>\n",
              "      <td>0.004545</td>\n",
              "    </tr>\n",
              "    <tr>\n",
              "      <th>vehicle_2</th>\n",
              "      <td>-0.077516</td>\n",
              "      <td>-0.033842</td>\n",
              "      <td>0.119647</td>\n",
              "      <td>0.043799</td>\n",
              "      <td>-0.121129</td>\n",
              "      <td>0.025644</td>\n",
              "      <td>0.151516</td>\n",
              "      <td>1.000000</td>\n",
              "      <td>0.131813</td>\n",
              "      <td>0.057631</td>\n",
              "      <td>0.029208</td>\n",
              "      <td>0.106214</td>\n",
              "      <td>0.784402</td>\n",
              "      <td>0.132499</td>\n",
              "      <td>0.058050</td>\n",
              "      <td>0.029264</td>\n",
              "    </tr>\n",
              "    <tr>\n",
              "      <th>vehicle_3</th>\n",
              "      <td>-0.061932</td>\n",
              "      <td>-0.000927</td>\n",
              "      <td>0.020867</td>\n",
              "      <td>-0.049910</td>\n",
              "      <td>-0.022404</td>\n",
              "      <td>-0.002757</td>\n",
              "      <td>0.019972</td>\n",
              "      <td>0.131813</td>\n",
              "      <td>1.000000</td>\n",
              "      <td>0.437214</td>\n",
              "      <td>0.221585</td>\n",
              "      <td>0.014000</td>\n",
              "      <td>0.106874</td>\n",
              "      <td>0.961316</td>\n",
              "      <td>0.448525</td>\n",
              "      <td>0.225067</td>\n",
              "    </tr>\n",
              "    <tr>\n",
              "      <th>vehicle_4</th>\n",
              "      <td>-0.020406</td>\n",
              "      <td>0.004655</td>\n",
              "      <td>0.004172</td>\n",
              "      <td>-0.021137</td>\n",
              "      <td>-0.004074</td>\n",
              "      <td>0.002118</td>\n",
              "      <td>0.008732</td>\n",
              "      <td>0.057631</td>\n",
              "      <td>0.437214</td>\n",
              "      <td>1.000000</td>\n",
              "      <td>0.506810</td>\n",
              "      <td>0.006121</td>\n",
              "      <td>0.046727</td>\n",
              "      <td>0.423394</td>\n",
              "      <td>0.963723</td>\n",
              "      <td>0.515058</td>\n",
              "    </tr>\n",
              "    <tr>\n",
              "      <th>vehicle_5</th>\n",
              "      <td>-0.010733</td>\n",
              "      <td>-0.005797</td>\n",
              "      <td>-0.002768</td>\n",
              "      <td>-0.012003</td>\n",
              "      <td>0.002492</td>\n",
              "      <td>0.001073</td>\n",
              "      <td>0.004425</td>\n",
              "      <td>0.029208</td>\n",
              "      <td>0.221585</td>\n",
              "      <td>0.506810</td>\n",
              "      <td>1.000000</td>\n",
              "      <td>0.003102</td>\n",
              "      <td>0.023682</td>\n",
              "      <td>0.214580</td>\n",
              "      <td>0.490537</td>\n",
              "      <td>0.973664</td>\n",
              "    </tr>\n",
              "    <tr>\n",
              "      <th>cause_vehicle_1</th>\n",
              "      <td>-0.012115</td>\n",
              "      <td>-0.003458</td>\n",
              "      <td>0.001307</td>\n",
              "      <td>-0.009102</td>\n",
              "      <td>-0.001738</td>\n",
              "      <td>0.131140</td>\n",
              "      <td>0.604281</td>\n",
              "      <td>0.106214</td>\n",
              "      <td>0.014000</td>\n",
              "      <td>0.006121</td>\n",
              "      <td>0.003102</td>\n",
              "      <td>1.000000</td>\n",
              "      <td>0.131000</td>\n",
              "      <td>0.014457</td>\n",
              "      <td>0.006324</td>\n",
              "      <td>0.003186</td>\n",
              "    </tr>\n",
              "    <tr>\n",
              "      <th>cause_vehicle_2</th>\n",
              "      <td>-0.058596</td>\n",
              "      <td>-0.021373</td>\n",
              "      <td>0.087374</td>\n",
              "      <td>0.031189</td>\n",
              "      <td>-0.088187</td>\n",
              "      <td>0.030082</td>\n",
              "      <td>0.180678</td>\n",
              "      <td>0.784402</td>\n",
              "      <td>0.106874</td>\n",
              "      <td>0.046727</td>\n",
              "      <td>0.023682</td>\n",
              "      <td>0.131000</td>\n",
              "      <td>1.000000</td>\n",
              "      <td>0.110362</td>\n",
              "      <td>0.048277</td>\n",
              "      <td>0.024322</td>\n",
              "    </tr>\n",
              "    <tr>\n",
              "      <th>cause_vehicle_3</th>\n",
              "      <td>-0.060542</td>\n",
              "      <td>0.000684</td>\n",
              "      <td>0.017426</td>\n",
              "      <td>-0.052159</td>\n",
              "      <td>-0.019120</td>\n",
              "      <td>-0.002388</td>\n",
              "      <td>0.020624</td>\n",
              "      <td>0.132499</td>\n",
              "      <td>0.961316</td>\n",
              "      <td>0.423394</td>\n",
              "      <td>0.214580</td>\n",
              "      <td>0.014457</td>\n",
              "      <td>0.110362</td>\n",
              "      <td>1.000000</td>\n",
              "      <td>0.437440</td>\n",
              "      <td>0.220384</td>\n",
              "    </tr>\n",
              "    <tr>\n",
              "      <th>cause_vehicle_4</th>\n",
              "      <td>-0.020158</td>\n",
              "      <td>0.004604</td>\n",
              "      <td>0.002737</td>\n",
              "      <td>-0.022074</td>\n",
              "      <td>-0.002580</td>\n",
              "      <td>0.002188</td>\n",
              "      <td>0.009022</td>\n",
              "      <td>0.058050</td>\n",
              "      <td>0.448525</td>\n",
              "      <td>0.963723</td>\n",
              "      <td>0.490537</td>\n",
              "      <td>0.006324</td>\n",
              "      <td>0.048277</td>\n",
              "      <td>0.437440</td>\n",
              "      <td>1.000000</td>\n",
              "      <td>0.503805</td>\n",
              "    </tr>\n",
              "    <tr>\n",
              "      <th>cause_vehicle_5</th>\n",
              "      <td>-0.011348</td>\n",
              "      <td>-0.004841</td>\n",
              "      <td>-0.003107</td>\n",
              "      <td>-0.013455</td>\n",
              "      <td>0.002863</td>\n",
              "      <td>0.001102</td>\n",
              "      <td>0.004545</td>\n",
              "      <td>0.029264</td>\n",
              "      <td>0.225067</td>\n",
              "      <td>0.515058</td>\n",
              "      <td>0.973664</td>\n",
              "      <td>0.003186</td>\n",
              "      <td>0.024322</td>\n",
              "      <td>0.220384</td>\n",
              "      <td>0.503805</td>\n",
              "      <td>1.000000</td>\n",
              "    </tr>\n",
              "  </tbody>\n",
              "</table>\n",
              "</div>"
            ],
            "text/plain": [
              "                  borough  location  ...  cause_vehicle_4  cause_vehicle_5\n",
              "borough          1.000000  0.190105  ...        -0.020158        -0.011348\n",
              "location         0.190105  1.000000  ...         0.004604        -0.004841\n",
              "on_street       -0.350190 -0.073975  ...         0.002737        -0.003107\n",
              "cross_street     0.409107 -0.069719  ...        -0.022074        -0.013455\n",
              "off_street       0.362189  0.084579  ...        -0.002580         0.002863\n",
              "total_injured   -0.002827 -0.001486  ...         0.002188         0.001102\n",
              "vehicle_1       -0.018325 -0.010466  ...         0.009022         0.004545\n",
              "vehicle_2       -0.077516 -0.033842  ...         0.058050         0.029264\n",
              "vehicle_3       -0.061932 -0.000927  ...         0.448525         0.225067\n",
              "vehicle_4       -0.020406  0.004655  ...         0.963723         0.515058\n",
              "vehicle_5       -0.010733 -0.005797  ...         0.490537         0.973664\n",
              "cause_vehicle_1 -0.012115 -0.003458  ...         0.006324         0.003186\n",
              "cause_vehicle_2 -0.058596 -0.021373  ...         0.048277         0.024322\n",
              "cause_vehicle_3 -0.060542  0.000684  ...         0.437440         0.220384\n",
              "cause_vehicle_4 -0.020158  0.004604  ...         1.000000         0.503805\n",
              "cause_vehicle_5 -0.011348 -0.004841  ...         0.503805         1.000000\n",
              "\n",
              "[16 rows x 16 columns]"
            ]
          },
          "metadata": {
            "tags": []
          },
          "execution_count": 24
        }
      ]
    },
    {
      "cell_type": "markdown",
      "metadata": {
        "id": "f6gIGTouIqCG",
        "colab_type": "text"
      },
      "source": [
        "Each value is between  and , and represents the relationship between two columns. A number close to  or  represents a strong relationship, where a number in the middle (close to ) represents a weak relationship.\n",
        "\n",
        "If you look closely, you can see a diagonal line of s going from top left to bottom right. These values represent each columns relationship with itself, which of course is a perfect relationship. The values on the top/right of this \"line of s\" mirror the values on the bottom/left of this line: The table actually repeats every value twice!\n",
        "\n",
        "Correlation tables can be hard to interpret. We can convert our table into a plot which will make this a lot easier. Let's see what this plot looks like:"
      ]
    },
    {
      "cell_type": "markdown",
      "metadata": {
        "id": "egLwJh-fI4wg",
        "colab_type": "text"
      },
      "source": [
        "We provided a helper function to create correlation plots. Let's create a correlation plot of just those last 10 columns to see if we can more closely identify the pattern we saw earlier in the matrix plot."
      ]
    },
    {
      "cell_type": "code",
      "metadata": {
        "id": "5ZEBV2d1IY67",
        "colab_type": "code",
        "colab": {
          "base_uri": "https://localhost:8080/",
          "height": 714
        },
        "outputId": "1d4d4cc5-aa32-4ed4-a1fc-313586bf01f2"
      },
      "source": [
        "import matplotlib.pyplot as plt\n",
        "import seaborn as sns\n",
        "\n",
        "def plot_null_correlations(df):\n",
        "    # create a correlation matrix only for columns with at least\n",
        "    # one missing value\n",
        "    cols_with_missing_vals = df.columns[df.isnull().sum() > 0]\n",
        "    missing_corr = df[cols_with_missing_vals].isnull().corr()\n",
        "    \n",
        "    # create a triangular mask to avoid repeated values and make\n",
        "    # the plot easier to read\n",
        "    missing_corr = missing_corr.iloc[1:, :-1]\n",
        "    mask = np.triu(np.ones_like(missing_corr), k=1)\n",
        "    \n",
        "    # plot a heatmap of the values\n",
        "    plt.figure(figsize=(20,14))\n",
        "    ax = sns.heatmap(missing_corr, vmin=-1, vmax=1, cbar=False,\n",
        "                     cmap='RdBu', mask=mask, annot=True)\n",
        "    \n",
        "    # format the text in the plot to make it easier to read\n",
        "    for text in ax.texts:\n",
        "        t = float(text.get_text())\n",
        "        if -0.05 < t < 0.01:\n",
        "            text.set_text('')\n",
        "        else:\n",
        "            text.set_text(round(t, 2))\n",
        "        text.set_fontsize('x-large')\n",
        "    plt.xticks(rotation=90, size='x-large')\n",
        "    plt.yticks(rotation=0, size='x-large')\n",
        "\n",
        "    plt.show()\n",
        "    \n",
        "veh_cols = [cols for cols in mvc.columns if 'vehicle' in cols]\n",
        "\n",
        "vehicle_columns = mvc[veh_cols]\n",
        "\n",
        "plot_null_correlations(vehicle_columns)"
      ],
      "execution_count": 25,
      "outputs": [
        {
          "output_type": "display_data",
          "data": {
            "image/png": "[encoded data removed]",
            "text/plain": [
              "<Figure size 1440x1008 with 1 Axes>"
            ]
          },
          "metadata": {
            "tags": [],
            "needs_background": "light"
          }
        }
      ]
    },
    {
      "cell_type": "markdown",
      "metadata": {
        "id": "k5ZwGzq0Sg3n",
        "colab_type": "text"
      },
      "source": [
        "# **Analyzing Correlation in Missing Data**"
      ]
    },
    {
      "cell_type": "markdown",
      "metadata": {
        "id": "ETsmC4_-JCqL",
        "colab_type": "text"
      },
      "source": [
        "We outlined a diagonal strip of five squares in green that have a higher correlation than the rest. The pairs of column names that make up these five correlations are:\n",
        "\n",
        "1. vehicle_1 and cause_vehicle_1\n",
        "2. vehicle_2 and cause_vehicle_2\n",
        "3. vehicle_3 and cause_vehicle_3\n",
        "4. vehicle_4 and cause_vehicle_4\n",
        "5. vehicle_5 and cause_vehicle_5\n",
        "\n",
        "If you think about it, this makes sense. When a vehicle is in an accident, there is likely to be a cause, and vice-versa.\n",
        "\n",
        "Let's explore the variations in missing values from these five pairs of columns. We'll create a dataframe that counts, for each pair:\n",
        "\n",
        "The number of values where the vehicle is missing when the cause is not missing.\n",
        "The number of values where the cause is missing when the vehicle is not missing."
      ]
    },
    {
      "cell_type": "code",
      "metadata": {
        "id": "cCy_2aYdIx_k",
        "colab_type": "code",
        "colab": {}
      },
      "source": [
        "col_labels = ['v_number', 'vehicle_missing', 'cause_missing']\n",
        "\n",
        "vc_null_data = []\n",
        "\n",
        "for v in range(1,6):\n",
        "    v_col = 'vehicle_{}'.format(v)\n",
        "    c_col = 'cause_vehicle_{}'.format(v)\n",
        "    \n",
        "    v_null = (mvc[v_col].isnull() & mvc[c_col].notnull()).sum()\n",
        "    c_null = (mvc[c_col].isnull() & mvc[v_col].notnull()).sum()\n",
        "    rows = [v, v_null, c_null]\n",
        "    vc_null_data.append(rows)\n",
        "    \n",
        "vc_null_df = pd.DataFrame(vc_null_data, columns = col_labels)"
      ],
      "execution_count": 0,
      "outputs": []
    },
    {
      "cell_type": "code",
      "metadata": {
        "id": "nWk0Jd_bJlcD",
        "colab_type": "code",
        "colab": {
          "base_uri": "https://localhost:8080/",
          "height": 195
        },
        "outputId": "e3c3ac64-217f-4c5c-d134-1416a6ce4bb6"
      },
      "source": [
        "vc_null_df"
      ],
      "execution_count": 27,
      "outputs": [
        {
          "output_type": "execute_result",
          "data": {
            "text/html": [
              "<div>\n",
              "<style scoped>\n",
              "    .dataframe tbody tr th:only-of-type {\n",
              "        vertical-align: middle;\n",
              "    }\n",
              "\n",
              "    .dataframe tbody tr th {\n",
              "        vertical-align: top;\n",
              "    }\n",
              "\n",
              "    .dataframe thead th {\n",
              "        text-align: right;\n",
              "    }\n",
              "</style>\n",
              "<table border=\"1\" class=\"dataframe\">\n",
              "  <thead>\n",
              "    <tr style=\"text-align: right;\">\n",
              "      <th></th>\n",
              "      <th>v_number</th>\n",
              "      <th>vehicle_missing</th>\n",
              "      <th>cause_missing</th>\n",
              "    </tr>\n",
              "  </thead>\n",
              "  <tbody>\n",
              "    <tr>\n",
              "      <th>0</th>\n",
              "      <td>1</td>\n",
              "      <td>204</td>\n",
              "      <td>24</td>\n",
              "    </tr>\n",
              "    <tr>\n",
              "      <th>1</th>\n",
              "      <td>2</td>\n",
              "      <td>3793</td>\n",
              "      <td>223</td>\n",
              "    </tr>\n",
              "    <tr>\n",
              "      <th>2</th>\n",
              "      <td>3</td>\n",
              "      <td>242</td>\n",
              "      <td>24</td>\n",
              "    </tr>\n",
              "    <tr>\n",
              "      <th>3</th>\n",
              "      <td>4</td>\n",
              "      <td>50</td>\n",
              "      <td>3</td>\n",
              "    </tr>\n",
              "    <tr>\n",
              "      <th>4</th>\n",
              "      <td>5</td>\n",
              "      <td>10</td>\n",
              "      <td>0</td>\n",
              "    </tr>\n",
              "  </tbody>\n",
              "</table>\n",
              "</div>"
            ],
            "text/plain": [
              "   v_number  vehicle_missing  cause_missing\n",
              "0         1              204             24\n",
              "1         2             3793            223\n",
              "2         3              242             24\n",
              "3         4               50              3\n",
              "4         5               10              0"
            ]
          },
          "metadata": {
            "tags": []
          },
          "execution_count": 27
        }
      ]
    },
    {
      "cell_type": "markdown",
      "metadata": {
        "id": "ckwMQkoqKGl8",
        "colab_type": "text"
      },
      "source": [
        "# **Finding the Most Common Values Across Multiple Columns**"
      ]
    },
    {
      "cell_type": "markdown",
      "metadata": {
        "id": "pW796BkCKYyF",
        "colab_type": "text"
      },
      "source": [
        "The analysis we did on the previous screen indicates that there are roughly 4,500 missing values across the 10 columns. The easiest option for handling these would be to drop the rows with missing values. This would mean losing almost 10% of the total data, which is something we ideally want to avoid.\n",
        "\n",
        "A better option is to impute the data, like we did earlier. Because the data in these columns is text data, we can't perform a numeric calculation to impute missing data like we did with the injuries and killed columns.\n",
        "\n",
        "One common option when imputing is to use the most common value to fill in data. Let's look at the common values across these columns and see if we can use that to make a decision.\n",
        "\n",
        "We've previously used the Series.value_counts() method to find the most common values in a single column. In this case, we want to find the most common values across multiple columns. In order to do this, we first need to convert our dataframe of multiple columns into one single column, and then we can use Series.value_counts() to count the items.\n",
        "\n",
        "To convert a dataframe to a single column of values, we use the DataFrame.stack() method, which stacks a dataframe object into a Series object.\n",
        "\n",
        "Once we have this stacked series, we can just use Series.value_counts() to count the values:\n",
        "\n",
        "Let's use this technique to count the most common values for the cause set of columns. We'll start by selecting only the columns containing the substring cause."
      ]
    },
    {
      "cell_type": "code",
      "metadata": {
        "id": "AUviEAxrJoGj",
        "colab_type": "code",
        "colab": {
          "base_uri": "https://localhost:8080/",
          "height": 195
        },
        "outputId": "2aad79c7-477d-4978-d1e6-f7d6ff1d414c"
      },
      "source": [
        "cause_cols = [c for c in mvc.columns if \"cause_\" in c]\n",
        "cause = mvc[cause_cols]\n",
        "cause.head()"
      ],
      "execution_count": 28,
      "outputs": [
        {
          "output_type": "execute_result",
          "data": {
            "text/html": [
              "<div>\n",
              "<style scoped>\n",
              "    .dataframe tbody tr th:only-of-type {\n",
              "        vertical-align: middle;\n",
              "    }\n",
              "\n",
              "    .dataframe tbody tr th {\n",
              "        vertical-align: top;\n",
              "    }\n",
              "\n",
              "    .dataframe thead th {\n",
              "        text-align: right;\n",
              "    }\n",
              "</style>\n",
              "<table border=\"1\" class=\"dataframe\">\n",
              "  <thead>\n",
              "    <tr style=\"text-align: right;\">\n",
              "      <th></th>\n",
              "      <th>cause_vehicle_1</th>\n",
              "      <th>cause_vehicle_2</th>\n",
              "      <th>cause_vehicle_3</th>\n",
              "      <th>cause_vehicle_4</th>\n",
              "      <th>cause_vehicle_5</th>\n",
              "    </tr>\n",
              "  </thead>\n",
              "  <tbody>\n",
              "    <tr>\n",
              "      <th>0</th>\n",
              "      <td>Following Too Closely</td>\n",
              "      <td>Unspecified</td>\n",
              "      <td>NaN</td>\n",
              "      <td>NaN</td>\n",
              "      <td>NaN</td>\n",
              "    </tr>\n",
              "    <tr>\n",
              "      <th>1</th>\n",
              "      <td>Backing Unsafely</td>\n",
              "      <td>Unspecified</td>\n",
              "      <td>NaN</td>\n",
              "      <td>NaN</td>\n",
              "      <td>NaN</td>\n",
              "    </tr>\n",
              "    <tr>\n",
              "      <th>2</th>\n",
              "      <td>Following Too Closely</td>\n",
              "      <td>Unspecified</td>\n",
              "      <td>NaN</td>\n",
              "      <td>NaN</td>\n",
              "      <td>NaN</td>\n",
              "    </tr>\n",
              "    <tr>\n",
              "      <th>3</th>\n",
              "      <td>Glare</td>\n",
              "      <td>Passing Too Closely</td>\n",
              "      <td>NaN</td>\n",
              "      <td>NaN</td>\n",
              "      <td>NaN</td>\n",
              "    </tr>\n",
              "    <tr>\n",
              "      <th>4</th>\n",
              "      <td>Turning Improperly</td>\n",
              "      <td>Unspecified</td>\n",
              "      <td>NaN</td>\n",
              "      <td>NaN</td>\n",
              "      <td>NaN</td>\n",
              "    </tr>\n",
              "  </tbody>\n",
              "</table>\n",
              "</div>"
            ],
            "text/plain": [
              "         cause_vehicle_1      cause_vehicle_2  ... cause_vehicle_4 cause_vehicle_5\n",
              "0  Following Too Closely          Unspecified  ...             NaN             NaN\n",
              "1       Backing Unsafely          Unspecified  ...             NaN             NaN\n",
              "2  Following Too Closely          Unspecified  ...             NaN             NaN\n",
              "3                  Glare  Passing Too Closely  ...             NaN             NaN\n",
              "4     Turning Improperly          Unspecified  ...             NaN             NaN\n",
              "\n",
              "[5 rows x 5 columns]"
            ]
          },
          "metadata": {
            "tags": []
          },
          "execution_count": 28
        }
      ]
    },
    {
      "cell_type": "code",
      "metadata": {
        "id": "YZ3J2cokKqfw",
        "colab_type": "code",
        "colab": {
          "base_uri": "https://localhost:8080/",
          "height": 118
        },
        "outputId": "9cd0c8f9-43b4-472f-f348-a5d334870710"
      },
      "source": [
        "#Next, we'll stack the values into a single series object:\n",
        "\n",
        "cause_1d = cause.stack()\n",
        "cause_1d.head()"
      ],
      "execution_count": 29,
      "outputs": [
        {
          "output_type": "execute_result",
          "data": {
            "text/plain": [
              "0  cause_vehicle_1    Following Too Closely\n",
              "   cause_vehicle_2              Unspecified\n",
              "1  cause_vehicle_1         Backing Unsafely\n",
              "   cause_vehicle_2              Unspecified\n",
              "2  cause_vehicle_1    Following Too Closely\n",
              "dtype: object"
            ]
          },
          "metadata": {
            "tags": []
          },
          "execution_count": 29
        }
      ]
    },
    {
      "cell_type": "markdown",
      "metadata": {
        "id": "LPc0Ab5aK35m",
        "colab_type": "text"
      },
      "source": [
        "You may notice that the stacked version omits null values - this is fine, as we're just interested in the most common non-null values."
      ]
    },
    {
      "cell_type": "code",
      "metadata": {
        "id": "Nxm8JZ1KKy9p",
        "colab_type": "code",
        "colab": {
          "base_uri": "https://localhost:8080/",
          "height": 202
        },
        "outputId": "0118b4ce-bc05-440d-f73e-2469cdef7090"
      },
      "source": [
        "#Finally, we count the values in the series:\n",
        "\n",
        "cause_counts = cause_1d.value_counts()\n",
        "top10_causes = cause_counts.head(10)\n",
        "top10_causes"
      ],
      "execution_count": 30,
      "outputs": [
        {
          "output_type": "execute_result",
          "data": {
            "text/plain": [
              "Unspecified                       57481\n",
              "Driver Inattention/Distraction    17650\n",
              "Following Too Closely              6567\n",
              "Failure to Yield Right-of-Way      4566\n",
              "Passing or Lane Usage Improper     3260\n",
              "Passing Too Closely                3045\n",
              "Backing Unsafely                   3001\n",
              "Other Vehicular                    2523\n",
              "Unsafe Lane Changing               2372\n",
              "Turning Improperly                 1590\n",
              "dtype: int64"
            ]
          },
          "metadata": {
            "tags": []
          },
          "execution_count": 30
        }
      ]
    },
    {
      "cell_type": "markdown",
      "metadata": {
        "id": "bSwWXO52LET1",
        "colab_type": "text"
      },
      "source": [
        "The most common non-null value for the cause columns is Unspecified, which presumably indicates that the officer reporting the collision was unable to determine the cause for that vehicle.\n",
        "\n",
        "Let's use the same technique to identify the most common non-null value for the vehicle columns."
      ]
    },
    {
      "cell_type": "code",
      "metadata": {
        "id": "ZsRK_UB4LAiD",
        "colab_type": "code",
        "colab": {
          "base_uri": "https://localhost:8080/",
          "height": 202
        },
        "outputId": "ffb6b03b-60c5-4f45-9df8-78af359aef8c"
      },
      "source": [
        "v_cols = [c for c in mvc.columns if c.startswith(\"vehicle\")]\n",
        "\n",
        "vehicle_df = mvc[v_cols]\n",
        "\n",
        "vehicles_1d = vehicle_df.stack()\n",
        "\n",
        "top10_vehicles = vehicles_1d.value_counts().head(10)\n",
        "top10_vehicles"
      ],
      "execution_count": 31,
      "outputs": [
        {
          "output_type": "execute_result",
          "data": {
            "text/plain": [
              "Sedan                                  33133\n",
              "Station Wagon/Sport Utility Vehicle    26124\n",
              "PASSENGER VEHICLE                      16026\n",
              "SPORT UTILITY / STATION WAGON          12356\n",
              "Taxi                                    3482\n",
              "Pick-up Truck                           2373\n",
              "TAXI                                    1892\n",
              "Box Truck                               1659\n",
              "Bike                                    1190\n",
              "Bus                                     1162\n",
              "dtype: int64"
            ]
          },
          "metadata": {
            "tags": []
          },
          "execution_count": 31
        }
      ]
    },
    {
      "cell_type": "markdown",
      "metadata": {
        "id": "avbVUP4_LKf7",
        "colab_type": "text"
      },
      "source": [
        "# **Filling Unknown Values with a Placeholder**"
      ]
    },
    {
      "cell_type": "code",
      "metadata": {
        "id": "AJWpiW4DLeH1",
        "colab_type": "code",
        "colab": {
          "base_uri": "https://localhost:8080/",
          "height": 202
        },
        "outputId": "5aa0ac1b-8cc2-43e8-b3b0-360a5f7789ef"
      },
      "source": [
        "top10_causes"
      ],
      "execution_count": 32,
      "outputs": [
        {
          "output_type": "execute_result",
          "data": {
            "text/plain": [
              "Unspecified                       57481\n",
              "Driver Inattention/Distraction    17650\n",
              "Following Too Closely              6567\n",
              "Failure to Yield Right-of-Way      4566\n",
              "Passing or Lane Usage Improper     3260\n",
              "Passing Too Closely                3045\n",
              "Backing Unsafely                   3001\n",
              "Other Vehicular                    2523\n",
              "Unsafe Lane Changing               2372\n",
              "Turning Improperly                 1590\n",
              "dtype: int64"
            ]
          },
          "metadata": {
            "tags": []
          },
          "execution_count": 32
        }
      ]
    },
    {
      "cell_type": "markdown",
      "metadata": {
        "id": "_6O_crK8LuNC",
        "colab_type": "text"
      },
      "source": [
        "The top \"cause\" is an \"Unspecified\" placeholder. This is useful instead of a null value as it makes the distinction between a value that is missing because there were only a certain number of vehicles in the collision versus one that is because the contributing cause for a particular vehicle is unknown.\n",
        "\n",
        "The vehicles columns don't have an equivalent, but we can still use the same technique. Here's the logic we'll need to do for each pair of vehicle/cause columns:\n",
        "\n",
        "For values where the vehicle is null and the cause is non-null, set the vehicle to Unspecified.\n",
        "For values where the cause is null and the vehicle is not-null, set the cause to Unspecified.\n",
        "We can use Series.mask() to replace the values, just like we did earlier in the mission. Let's look at code to perform this for the vehicle_1 and vehicle_cause_1 columns:"
      ]
    },
    {
      "cell_type": "code",
      "metadata": {
        "id": "un1ejIQcLkW6",
        "colab_type": "code",
        "colab": {
          "base_uri": "https://localhost:8080/",
          "height": 366
        },
        "outputId": "59f38c39-6add-4e97-8f19-64df1c445db2"
      },
      "source": [
        "# create a mask for each column\n",
        "v_missing_mask = mvc['vehicle_1'].isnull() & mvc['cause_vehicle_1'].notnull()\n",
        "c_missing_mask = mvc['cause_vehicle_1'].isnull() & mvc['vehicle_1'].notnull()\n",
        "\n",
        "# replace the values matching the mask for each column\n",
        "mvc['vehicle_1'] =  mvc['vehicle_1'].mask(v_missing_mask, \"Unspecified\")\n",
        "mvc['cause_vehicle_1'] =  mvc['cause_vehicle_1'].mask(c_missing_mask, \"Unspecified\")\n",
        "mvc.head()"
      ],
      "execution_count": 33,
      "outputs": [
        {
          "output_type": "execute_result",
          "data": {
            "text/html": [
              "<div>\n",
              "<style scoped>\n",
              "    .dataframe tbody tr th:only-of-type {\n",
              "        vertical-align: middle;\n",
              "    }\n",
              "\n",
              "    .dataframe tbody tr th {\n",
              "        vertical-align: top;\n",
              "    }\n",
              "\n",
              "    .dataframe thead th {\n",
              "        text-align: right;\n",
              "    }\n",
              "</style>\n",
              "<table border=\"1\" class=\"dataframe\">\n",
              "  <thead>\n",
              "    <tr style=\"text-align: right;\">\n",
              "      <th></th>\n",
              "      <th>unique_key</th>\n",
              "      <th>date</th>\n",
              "      <th>time</th>\n",
              "      <th>borough</th>\n",
              "      <th>location</th>\n",
              "      <th>on_street</th>\n",
              "      <th>cross_street</th>\n",
              "      <th>off_street</th>\n",
              "      <th>pedestrians_injured</th>\n",
              "      <th>cyclist_injured</th>\n",
              "      <th>motorist_injured</th>\n",
              "      <th>total_injured</th>\n",
              "      <th>pedestrians_killed</th>\n",
              "      <th>cyclist_killed</th>\n",
              "      <th>motorist_killed</th>\n",
              "      <th>total_killed</th>\n",
              "      <th>vehicle_1</th>\n",
              "      <th>vehicle_2</th>\n",
              "      <th>vehicle_3</th>\n",
              "      <th>vehicle_4</th>\n",
              "      <th>vehicle_5</th>\n",
              "      <th>cause_vehicle_1</th>\n",
              "      <th>cause_vehicle_2</th>\n",
              "      <th>cause_vehicle_3</th>\n",
              "      <th>cause_vehicle_4</th>\n",
              "      <th>cause_vehicle_5</th>\n",
              "    </tr>\n",
              "  </thead>\n",
              "  <tbody>\n",
              "    <tr>\n",
              "      <th>0</th>\n",
              "      <td>3869058</td>\n",
              "      <td>2018-03-23</td>\n",
              "      <td>21:40</td>\n",
              "      <td>MANHATTAN</td>\n",
              "      <td>(40.742832, -74.00771)</td>\n",
              "      <td>WEST 15 STREET</td>\n",
              "      <td>10 AVENUE</td>\n",
              "      <td>NaN</td>\n",
              "      <td>0</td>\n",
              "      <td>0</td>\n",
              "      <td>0</td>\n",
              "      <td>0.0</td>\n",
              "      <td>0</td>\n",
              "      <td>0</td>\n",
              "      <td>0</td>\n",
              "      <td>0.0</td>\n",
              "      <td>PASSENGER VEHICLE</td>\n",
              "      <td>NaN</td>\n",
              "      <td>NaN</td>\n",
              "      <td>NaN</td>\n",
              "      <td>NaN</td>\n",
              "      <td>Following Too Closely</td>\n",
              "      <td>Unspecified</td>\n",
              "      <td>NaN</td>\n",
              "      <td>NaN</td>\n",
              "      <td>NaN</td>\n",
              "    </tr>\n",
              "    <tr>\n",
              "      <th>1</th>\n",
              "      <td>3847947</td>\n",
              "      <td>2018-02-13</td>\n",
              "      <td>14:45</td>\n",
              "      <td>BROOKLYN</td>\n",
              "      <td>(40.623714, -73.99314)</td>\n",
              "      <td>16 AVENUE</td>\n",
              "      <td>62 STREET</td>\n",
              "      <td>NaN</td>\n",
              "      <td>0</td>\n",
              "      <td>0</td>\n",
              "      <td>0</td>\n",
              "      <td>0.0</td>\n",
              "      <td>0</td>\n",
              "      <td>0</td>\n",
              "      <td>0</td>\n",
              "      <td>0.0</td>\n",
              "      <td>SPORT UTILITY / STATION WAGON</td>\n",
              "      <td>DS</td>\n",
              "      <td>NaN</td>\n",
              "      <td>NaN</td>\n",
              "      <td>NaN</td>\n",
              "      <td>Backing Unsafely</td>\n",
              "      <td>Unspecified</td>\n",
              "      <td>NaN</td>\n",
              "      <td>NaN</td>\n",
              "      <td>NaN</td>\n",
              "    </tr>\n",
              "    <tr>\n",
              "      <th>2</th>\n",
              "      <td>3914294</td>\n",
              "      <td>2018-06-04</td>\n",
              "      <td>0:00</td>\n",
              "      <td>NaN</td>\n",
              "      <td>(40.591755, -73.9083)</td>\n",
              "      <td>BELT PARKWAY</td>\n",
              "      <td>NaN</td>\n",
              "      <td>NaN</td>\n",
              "      <td>0</td>\n",
              "      <td>0</td>\n",
              "      <td>1</td>\n",
              "      <td>1.0</td>\n",
              "      <td>0</td>\n",
              "      <td>0</td>\n",
              "      <td>0</td>\n",
              "      <td>0.0</td>\n",
              "      <td>Station Wagon/Sport Utility Vehicle</td>\n",
              "      <td>Sedan</td>\n",
              "      <td>NaN</td>\n",
              "      <td>NaN</td>\n",
              "      <td>NaN</td>\n",
              "      <td>Following Too Closely</td>\n",
              "      <td>Unspecified</td>\n",
              "      <td>NaN</td>\n",
              "      <td>NaN</td>\n",
              "      <td>NaN</td>\n",
              "    </tr>\n",
              "    <tr>\n",
              "      <th>3</th>\n",
              "      <td>3915069</td>\n",
              "      <td>2018-06-05</td>\n",
              "      <td>6:36</td>\n",
              "      <td>QUEENS</td>\n",
              "      <td>(40.73602, -73.87954)</td>\n",
              "      <td>GRAND AVENUE</td>\n",
              "      <td>VANLOON STREET</td>\n",
              "      <td>NaN</td>\n",
              "      <td>0</td>\n",
              "      <td>0</td>\n",
              "      <td>0</td>\n",
              "      <td>0.0</td>\n",
              "      <td>0</td>\n",
              "      <td>0</td>\n",
              "      <td>0</td>\n",
              "      <td>0.0</td>\n",
              "      <td>Sedan</td>\n",
              "      <td>Sedan</td>\n",
              "      <td>NaN</td>\n",
              "      <td>NaN</td>\n",
              "      <td>NaN</td>\n",
              "      <td>Glare</td>\n",
              "      <td>Passing Too Closely</td>\n",
              "      <td>NaN</td>\n",
              "      <td>NaN</td>\n",
              "      <td>NaN</td>\n",
              "    </tr>\n",
              "    <tr>\n",
              "      <th>4</th>\n",
              "      <td>3923123</td>\n",
              "      <td>2018-06-16</td>\n",
              "      <td>15:45</td>\n",
              "      <td>BRONX</td>\n",
              "      <td>(40.884727, -73.89945)</td>\n",
              "      <td>NaN</td>\n",
              "      <td>NaN</td>\n",
              "      <td>208       WEST 238 STREET</td>\n",
              "      <td>0</td>\n",
              "      <td>0</td>\n",
              "      <td>0</td>\n",
              "      <td>0.0</td>\n",
              "      <td>0</td>\n",
              "      <td>0</td>\n",
              "      <td>0</td>\n",
              "      <td>0.0</td>\n",
              "      <td>Station Wagon/Sport Utility Vehicle</td>\n",
              "      <td>Sedan</td>\n",
              "      <td>NaN</td>\n",
              "      <td>NaN</td>\n",
              "      <td>NaN</td>\n",
              "      <td>Turning Improperly</td>\n",
              "      <td>Unspecified</td>\n",
              "      <td>NaN</td>\n",
              "      <td>NaN</td>\n",
              "      <td>NaN</td>\n",
              "    </tr>\n",
              "  </tbody>\n",
              "</table>\n",
              "</div>"
            ],
            "text/plain": [
              "   unique_key        date  ... cause_vehicle_4 cause_vehicle_5\n",
              "0     3869058  2018-03-23  ...             NaN             NaN\n",
              "1     3847947  2018-02-13  ...             NaN             NaN\n",
              "2     3914294  2018-06-04  ...             NaN             NaN\n",
              "3     3915069  2018-06-05  ...             NaN             NaN\n",
              "4     3923123  2018-06-16  ...             NaN             NaN\n",
              "\n",
              "[5 rows x 26 columns]"
            ]
          },
          "metadata": {
            "tags": []
          },
          "execution_count": 33
        }
      ]
    },
    {
      "cell_type": "markdown",
      "metadata": {
        "id": "Zo_zjcX2L9rR",
        "colab_type": "text"
      },
      "source": [
        "Now let's use a loop to fill in these values across all columns. We've created a helper function summarize_missing() which contains the logic we used earlier to count missing values across the pairs of columns. Below is a quick demonstration on how it works:"
      ]
    },
    {
      "cell_type": "code",
      "metadata": {
        "id": "DVSroA6fMFQH",
        "colab_type": "code",
        "colab": {}
      },
      "source": [
        "def summarize_missing():\n",
        "    v_missing_data = []\n",
        "\n",
        "    for v in range(1,6):\n",
        "        v_col = 'vehicle_{}'.format(v)\n",
        "        c_col = 'cause_vehicle_{}'.format(v)\n",
        "\n",
        "        v_missing = (mvc[v_col].isnull() & mvc[c_col].notnull()).sum()\n",
        "        c_missing = (mvc[c_col].isnull() & mvc[v_col].notnull()).sum()\n",
        "\n",
        "        v_missing_data.append([v, v_missing, c_missing])\n",
        "\n",
        "    col_labels = columns=[\"vehicle_number\", \"vehicle_missing\", \"cause_missing\"]\n",
        "    return pd.DataFrame(v_missing_data, columns=col_labels)\n",
        "\n",
        "summary_before = summarize_missing()"
      ],
      "execution_count": 0,
      "outputs": []
    },
    {
      "cell_type": "code",
      "metadata": {
        "id": "vOD8bTeaL5Of",
        "colab_type": "code",
        "colab": {
          "base_uri": "https://localhost:8080/",
          "height": 195
        },
        "outputId": "aa3827f2-7eb7-4a68-c48d-e30e062a2d07"
      },
      "source": [
        "summarize_missing()"
      ],
      "execution_count": 35,
      "outputs": [
        {
          "output_type": "execute_result",
          "data": {
            "text/html": [
              "<div>\n",
              "<style scoped>\n",
              "    .dataframe tbody tr th:only-of-type {\n",
              "        vertical-align: middle;\n",
              "    }\n",
              "\n",
              "    .dataframe tbody tr th {\n",
              "        vertical-align: top;\n",
              "    }\n",
              "\n",
              "    .dataframe thead th {\n",
              "        text-align: right;\n",
              "    }\n",
              "</style>\n",
              "<table border=\"1\" class=\"dataframe\">\n",
              "  <thead>\n",
              "    <tr style=\"text-align: right;\">\n",
              "      <th></th>\n",
              "      <th>vehicle_number</th>\n",
              "      <th>vehicle_missing</th>\n",
              "      <th>cause_missing</th>\n",
              "    </tr>\n",
              "  </thead>\n",
              "  <tbody>\n",
              "    <tr>\n",
              "      <th>0</th>\n",
              "      <td>1</td>\n",
              "      <td>0</td>\n",
              "      <td>0</td>\n",
              "    </tr>\n",
              "    <tr>\n",
              "      <th>1</th>\n",
              "      <td>2</td>\n",
              "      <td>3793</td>\n",
              "      <td>223</td>\n",
              "    </tr>\n",
              "    <tr>\n",
              "      <th>2</th>\n",
              "      <td>3</td>\n",
              "      <td>242</td>\n",
              "      <td>24</td>\n",
              "    </tr>\n",
              "    <tr>\n",
              "      <th>3</th>\n",
              "      <td>4</td>\n",
              "      <td>50</td>\n",
              "      <td>3</td>\n",
              "    </tr>\n",
              "    <tr>\n",
              "      <th>4</th>\n",
              "      <td>5</td>\n",
              "      <td>10</td>\n",
              "      <td>0</td>\n",
              "    </tr>\n",
              "  </tbody>\n",
              "</table>\n",
              "</div>"
            ],
            "text/plain": [
              "   vehicle_number  vehicle_missing  cause_missing\n",
              "0               1                0              0\n",
              "1               2             3793            223\n",
              "2               3              242             24\n",
              "3               4               50              3\n",
              "4               5               10              0"
            ]
          },
          "metadata": {
            "tags": []
          },
          "execution_count": 35
        }
      ]
    },
    {
      "cell_type": "code",
      "metadata": {
        "id": "UuLtR9qPMAp9",
        "colab_type": "code",
        "colab": {}
      },
      "source": [
        "for v in range(1,6):\n",
        "    v_col = 'vehicle_{}'.format(v)\n",
        "    c_col = 'cause_vehicle_{}'.format(v)\n",
        "    \n",
        "    v_null = (mvc[v_col].isnull() & mvc[c_col].notnull())\n",
        "    c_null = (mvc[c_col].isnull() & mvc[v_col].notnull())\n",
        "    \n",
        "    mvc[v_col]=mvc[v_col].mask(v_null, 'Unspecified')\n",
        "    mvc[c_col]= mvc[c_col].mask(c_null, 'Unspecified')\n",
        "    \n",
        "summary_after = summarize_missing()"
      ],
      "execution_count": 0,
      "outputs": []
    },
    {
      "cell_type": "code",
      "metadata": {
        "id": "G_b5GStDOUtH",
        "colab_type": "code",
        "colab": {
          "base_uri": "https://localhost:8080/",
          "height": 195
        },
        "outputId": "9d59a02d-9e31-427c-b482-2f180606626e"
      },
      "source": [
        "summary_after"
      ],
      "execution_count": 39,
      "outputs": [
        {
          "output_type": "execute_result",
          "data": {
            "text/html": [
              "<div>\n",
              "<style scoped>\n",
              "    .dataframe tbody tr th:only-of-type {\n",
              "        vertical-align: middle;\n",
              "    }\n",
              "\n",
              "    .dataframe tbody tr th {\n",
              "        vertical-align: top;\n",
              "    }\n",
              "\n",
              "    .dataframe thead th {\n",
              "        text-align: right;\n",
              "    }\n",
              "</style>\n",
              "<table border=\"1\" class=\"dataframe\">\n",
              "  <thead>\n",
              "    <tr style=\"text-align: right;\">\n",
              "      <th></th>\n",
              "      <th>vehicle_number</th>\n",
              "      <th>vehicle_missing</th>\n",
              "      <th>cause_missing</th>\n",
              "    </tr>\n",
              "  </thead>\n",
              "  <tbody>\n",
              "    <tr>\n",
              "      <th>0</th>\n",
              "      <td>1</td>\n",
              "      <td>0</td>\n",
              "      <td>0</td>\n",
              "    </tr>\n",
              "    <tr>\n",
              "      <th>1</th>\n",
              "      <td>2</td>\n",
              "      <td>0</td>\n",
              "      <td>0</td>\n",
              "    </tr>\n",
              "    <tr>\n",
              "      <th>2</th>\n",
              "      <td>3</td>\n",
              "      <td>0</td>\n",
              "      <td>0</td>\n",
              "    </tr>\n",
              "    <tr>\n",
              "      <th>3</th>\n",
              "      <td>4</td>\n",
              "      <td>0</td>\n",
              "      <td>0</td>\n",
              "    </tr>\n",
              "    <tr>\n",
              "      <th>4</th>\n",
              "      <td>5</td>\n",
              "      <td>0</td>\n",
              "      <td>0</td>\n",
              "    </tr>\n",
              "  </tbody>\n",
              "</table>\n",
              "</div>"
            ],
            "text/plain": [
              "   vehicle_number  vehicle_missing  cause_missing\n",
              "0               1                0              0\n",
              "1               2                0              0\n",
              "2               3                0              0\n",
              "3               4                0              0\n",
              "4               5                0              0"
            ]
          },
          "metadata": {
            "tags": []
          },
          "execution_count": 39
        }
      ]
    },
    {
      "cell_type": "markdown",
      "metadata": {
        "id": "RTnAjFR3MeUq",
        "colab_type": "text"
      },
      "source": [
        "# **Missing Data in \"Location\" Columns**"
      ]
    },
    {
      "cell_type": "code",
      "metadata": {
        "id": "9r6Gii1vMWYu",
        "colab_type": "code",
        "colab": {
          "base_uri": "https://localhost:8080/",
          "height": 714
        },
        "outputId": "29831a67-ef0b-42fe-9331-d8a3c3e30613"
      },
      "source": [
        "#Let's view the work we've done across the past few screens by looking at the null correlation plot for the last 10 columns:\n",
        "veh_cols = [c for c in mvc.columns if 'vehicle' in c]\n",
        "plot_null_correlations(mvc[veh_cols])"
      ],
      "execution_count": 40,
      "outputs": [
        {
          "output_type": "display_data",
          "data": {
            "image/png": "[encoded data removed]",
            "text/plain": [
              "<Figure size 1440x1008 with 1 Axes>"
            ]
          },
          "metadata": {
            "tags": [],
            "needs_background": "light"
          }
        }
      ]
    },
    {
      "cell_type": "markdown",
      "metadata": {
        "id": "OU-GhnbnOswi",
        "colab_type": "text"
      },
      "source": [
        "You can see the perfect correlation between each pair of vehicle/cause columns represented by  in each square, which means that there is a perfect relationship between the five pairs of vehicle/cause columns.\n",
        "\n",
        "Let's now turn our focus to the final set of columns that contain missing values — the columns that relate to the location of the accident. We'll start by looking at the first few rows to refamiliarize ourselves with the data:"
      ]
    },
    {
      "cell_type": "code",
      "metadata": {
        "id": "9-peqEKhNPTx",
        "colab_type": "code",
        "colab": {
          "base_uri": "https://localhost:8080/",
          "height": 195
        },
        "outputId": "2886d359-8593-43a2-a003-298a9ce53790"
      },
      "source": [
        "loc_cols = ['borough', 'location', 'on_street', 'off_street', 'cross_street']\n",
        "location_data = mvc[loc_cols]\n",
        "location_data.head()"
      ],
      "execution_count": 41,
      "outputs": [
        {
          "output_type": "execute_result",
          "data": {
            "text/html": [
              "<div>\n",
              "<style scoped>\n",
              "    .dataframe tbody tr th:only-of-type {\n",
              "        vertical-align: middle;\n",
              "    }\n",
              "\n",
              "    .dataframe tbody tr th {\n",
              "        vertical-align: top;\n",
              "    }\n",
              "\n",
              "    .dataframe thead th {\n",
              "        text-align: right;\n",
              "    }\n",
              "</style>\n",
              "<table border=\"1\" class=\"dataframe\">\n",
              "  <thead>\n",
              "    <tr style=\"text-align: right;\">\n",
              "      <th></th>\n",
              "      <th>borough</th>\n",
              "      <th>location</th>\n",
              "      <th>on_street</th>\n",
              "      <th>off_street</th>\n",
              "      <th>cross_street</th>\n",
              "    </tr>\n",
              "  </thead>\n",
              "  <tbody>\n",
              "    <tr>\n",
              "      <th>0</th>\n",
              "      <td>MANHATTAN</td>\n",
              "      <td>(40.742832, -74.00771)</td>\n",
              "      <td>WEST 15 STREET</td>\n",
              "      <td>NaN</td>\n",
              "      <td>10 AVENUE</td>\n",
              "    </tr>\n",
              "    <tr>\n",
              "      <th>1</th>\n",
              "      <td>BROOKLYN</td>\n",
              "      <td>(40.623714, -73.99314)</td>\n",
              "      <td>16 AVENUE</td>\n",
              "      <td>NaN</td>\n",
              "      <td>62 STREET</td>\n",
              "    </tr>\n",
              "    <tr>\n",
              "      <th>2</th>\n",
              "      <td>NaN</td>\n",
              "      <td>(40.591755, -73.9083)</td>\n",
              "      <td>BELT PARKWAY</td>\n",
              "      <td>NaN</td>\n",
              "      <td>NaN</td>\n",
              "    </tr>\n",
              "    <tr>\n",
              "      <th>3</th>\n",
              "      <td>QUEENS</td>\n",
              "      <td>(40.73602, -73.87954)</td>\n",
              "      <td>GRAND AVENUE</td>\n",
              "      <td>NaN</td>\n",
              "      <td>VANLOON STREET</td>\n",
              "    </tr>\n",
              "    <tr>\n",
              "      <th>4</th>\n",
              "      <td>BRONX</td>\n",
              "      <td>(40.884727, -73.89945)</td>\n",
              "      <td>NaN</td>\n",
              "      <td>208       WEST 238 STREET</td>\n",
              "      <td>NaN</td>\n",
              "    </tr>\n",
              "  </tbody>\n",
              "</table>\n",
              "</div>"
            ],
            "text/plain": [
              "     borough  ...    cross_street\n",
              "0  MANHATTAN  ...       10 AVENUE\n",
              "1   BROOKLYN  ...       62 STREET\n",
              "2        NaN  ...             NaN\n",
              "3     QUEENS  ...  VANLOON STREET\n",
              "4      BRONX  ...             NaN\n",
              "\n",
              "[5 rows x 5 columns]"
            ]
          },
          "metadata": {
            "tags": []
          },
          "execution_count": 41
        }
      ]
    },
    {
      "cell_type": "markdown",
      "metadata": {
        "id": "qWUOiN8rN7EN",
        "colab_type": "text"
      },
      "source": [
        "Next, let's look at counts of the null values in each column:\n",
        "\n"
      ]
    },
    {
      "cell_type": "code",
      "metadata": {
        "id": "Aj7r3u__PBJH",
        "colab_type": "code",
        "colab": {
          "base_uri": "https://localhost:8080/",
          "height": 118
        },
        "outputId": "deefc23d-a6c2-4c2b-e67a-72cc435323cd"
      },
      "source": [
        "location_data.isnull().sum()"
      ],
      "execution_count": 42,
      "outputs": [
        {
          "output_type": "execute_result",
          "data": {
            "text/plain": [
              "borough         20646\n",
              "location         3885\n",
              "on_street       13961\n",
              "off_street      44093\n",
              "cross_street    29249\n",
              "dtype: int64"
            ]
          },
          "metadata": {
            "tags": []
          },
          "execution_count": 42
        }
      ]
    },
    {
      "cell_type": "markdown",
      "metadata": {
        "id": "OjL2B2s9PIOn",
        "colab_type": "text"
      },
      "source": [
        "These columns have a lot of missing values! Keep in mind that all of these five columns represent the same thing — the location of the collision. We can potentially use the non-null values to impute some of the null values.\n",
        "\n",
        "To see where we might be able to do this, let's look for correlations between the missing values:"
      ]
    },
    {
      "cell_type": "code",
      "metadata": {
        "id": "tUJLyHqAPEQc",
        "colab_type": "code",
        "colab": {
          "base_uri": "https://localhost:8080/",
          "height": 693
        },
        "outputId": "c528ae9f-8624-452f-82cb-bb86f34174be"
      },
      "source": [
        "plot_null_correlations(location_data)"
      ],
      "execution_count": 43,
      "outputs": [
        {
          "output_type": "display_data",
          "data": {
            "image/png": "[encoded data removed]",
            "text/plain": [
              "<Figure size 1440x1008 with 1 Axes>"
            ]
          },
          "metadata": {
            "tags": [],
            "needs_background": "light"
          }
        }
      ]
    },
    {
      "cell_type": "markdown",
      "metadata": {
        "id": "4osVQ34TPPjN",
        "colab_type": "text"
      },
      "source": [
        "None of these columns have strong correlations except for off_street and on_street which have a near perfect negative correlation. That means for almost every row that has a null value in one column, the other has a non-null value and vice-versa.\n",
        "\n",
        "The final way we'll look at the null values in these columns is to plot a null matrix, but we'll sort the data first. This will gather some of the null and non-null values together and make patterns more obvious:"
      ]
    },
    {
      "cell_type": "code",
      "metadata": {
        "id": "hZNIifo3PLOA",
        "colab_type": "code",
        "colab": {
          "base_uri": "https://localhost:8080/",
          "height": 899
        },
        "outputId": "d9271fb5-9114-496d-d9a4-7fc38a915692"
      },
      "source": [
        "sorted_location_data = location_data.sort_values(loc_cols)\n",
        "plot_null_matrix(sorted_location_data)"
      ],
      "execution_count": 44,
      "outputs": [
        {
          "output_type": "display_data",
          "data": {
            "image/png": "[encoded data removed]",
            "text/plain": [
              "<Figure size 1296x1080 with 1 Axes>"
            ]
          },
          "metadata": {
            "tags": [],
            "needs_background": "light"
          }
        }
      ]
    },
    {
      "cell_type": "markdown",
      "metadata": {
        "id": "fhkJsK5iPbm7",
        "colab_type": "text"
      },
      "source": [
        "Let's make some observations about the missing values across these columns:\n",
        "\n",
        "About two-thirds of rows have non-null values for borough, but of those values that are missing, most have non-null values for location and one or more of the street name columns.\n",
        "Less than one-tenth of rows have missing values in the location column, but most of these have non-null values in one or more of the street name columns.\n",
        "Most rows have a non-null value for either on_street or off_street, and some also have a value for cross_street.\n",
        "Combined, this means that we will be able to impute a lot of the missing values by using the other columns in each row. To do this, we can use geolocation APIs that take either an address or location coordinates, and return information about that location.\n",
        "\n",
        "Because the focus of this mission is working with missing data, we have pre-prepared supplemental data using APIs. On the next screen, we'll learn more about how that data was prepared and then use it to fill in missing values."
      ]
    },
    {
      "cell_type": "markdown",
      "metadata": {
        "id": "TnaLAuPSQ3GP",
        "colab_type": "text"
      },
      "source": [
        "# **Imputing Location Data**"
      ]
    },
    {
      "cell_type": "markdown",
      "metadata": {
        "id": "FTSSzYkyPoJ6",
        "colab_type": "text"
      },
      "source": [
        "We prepared the supplemental data using the GeoPy package, which makes working with Geocoding APIs like the Google Maps API easier. Here's the strategy we used to prepare the supplemental data:\n",
        "\n",
        "For rows with location values but missing values in either borough or the street name columns, we used geocoding APIs to look up the location coordinates to find the missing data.\n",
        "For rows with values in the street name columns missing borough and/or location data, we used geocoding APIs to look up the address to find the missing data.\n",
        "You can learn more about working with APIs in our APIs and Web Scraping course.\n",
        "\n",
        "The supplemental data is in a CSV called supplemental_data.csv, let's read this into a pandas dataframe and familiarize ourself with the data:"
      ]
    },
    {
      "cell_type": "code",
      "metadata": {
        "id": "lLrKimVvPniS",
        "colab_type": "code",
        "colab": {
          "resources": {
            "http://localhost:8080/nbextensions/google.colab/files.js": {
              "data": "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",
              "ok": true,
              "headers": [
                [
                  "content-type",
                  "application/javascript"
                ]
              ],
              "status": 200,
              "status_text": ""
            }
          },
          "base_uri": "https://localhost:8080/",
          "height": 74
        },
        "outputId": "3daf2eb1-f269-4c03-93d5-885cd2365a4e"
      },
      "source": [
        "uploaded = files.upload()"
      ],
      "execution_count": 45,
      "outputs": [
        {
          "output_type": "display_data",
          "data": {
            "text/html": [
              "\n",
              "     <input type=\"file\" id=\"files-11b1b941-d32f-4c07-92bc-f14efe29a6d0\" name=\"files[]\" multiple disabled />\n",
              "     <output id=\"result-11b1b941-d32f-4c07-92bc-f14efe29a6d0\">\n",
              "      Upload widget is only available when the cell has been executed in the\n",
              "      current browser session. Please rerun this cell to enable.\n",
              "      </output>\n",
              "      <script src=\"/nbextensions/google.colab/files.js\"></script> "
            ],
            "text/plain": [
              "<IPython.core.display.HTML object>"
            ]
          },
          "metadata": {
            "tags": []
          }
        },
        {
          "output_type": "stream",
          "text": [
            "Saving supplemental_data.csv to supplemental_data.csv\n"
          ],
          "name": "stdout"
        }
      ]
    },
    {
      "cell_type": "code",
      "metadata": {
        "id": "FhmPwh75PXXd",
        "colab_type": "code",
        "colab": {
          "base_uri": "https://localhost:8080/",
          "height": 195
        },
        "outputId": "71a9f0b2-eff7-4b4b-8409-3acdad54d661"
      },
      "source": [
        "sup_data = pd.read_csv('supplemental_data.csv')\n",
        "sup_data.head()"
      ],
      "execution_count": 46,
      "outputs": [
        {
          "output_type": "execute_result",
          "data": {
            "text/html": [
              "<div>\n",
              "<style scoped>\n",
              "    .dataframe tbody tr th:only-of-type {\n",
              "        vertical-align: middle;\n",
              "    }\n",
              "\n",
              "    .dataframe tbody tr th {\n",
              "        vertical-align: top;\n",
              "    }\n",
              "\n",
              "    .dataframe thead th {\n",
              "        text-align: right;\n",
              "    }\n",
              "</style>\n",
              "<table border=\"1\" class=\"dataframe\">\n",
              "  <thead>\n",
              "    <tr style=\"text-align: right;\">\n",
              "      <th></th>\n",
              "      <th>unique_key</th>\n",
              "      <th>location</th>\n",
              "      <th>on_street</th>\n",
              "      <th>off_street</th>\n",
              "      <th>borough</th>\n",
              "    </tr>\n",
              "  </thead>\n",
              "  <tbody>\n",
              "    <tr>\n",
              "      <th>0</th>\n",
              "      <td>3869058</td>\n",
              "      <td>NaN</td>\n",
              "      <td>NaN</td>\n",
              "      <td>NaN</td>\n",
              "      <td>NaN</td>\n",
              "    </tr>\n",
              "    <tr>\n",
              "      <th>1</th>\n",
              "      <td>3847947</td>\n",
              "      <td>NaN</td>\n",
              "      <td>NaN</td>\n",
              "      <td>NaN</td>\n",
              "      <td>NaN</td>\n",
              "    </tr>\n",
              "    <tr>\n",
              "      <th>2</th>\n",
              "      <td>3914294</td>\n",
              "      <td>NaN</td>\n",
              "      <td>BELT PARKWAY</td>\n",
              "      <td>NaN</td>\n",
              "      <td>BROOKLYN</td>\n",
              "    </tr>\n",
              "    <tr>\n",
              "      <th>3</th>\n",
              "      <td>3915069</td>\n",
              "      <td>NaN</td>\n",
              "      <td>NaN</td>\n",
              "      <td>NaN</td>\n",
              "      <td>NaN</td>\n",
              "    </tr>\n",
              "    <tr>\n",
              "      <th>4</th>\n",
              "      <td>3923123</td>\n",
              "      <td>NaN</td>\n",
              "      <td>NaN</td>\n",
              "      <td>NaN</td>\n",
              "      <td>NaN</td>\n",
              "    </tr>\n",
              "  </tbody>\n",
              "</table>\n",
              "</div>"
            ],
            "text/plain": [
              "   unique_key location     on_street off_street   borough\n",
              "0     3869058      NaN           NaN        NaN       NaN\n",
              "1     3847947      NaN           NaN        NaN       NaN\n",
              "2     3914294      NaN  BELT PARKWAY        NaN  BROOKLYN\n",
              "3     3915069      NaN           NaN        NaN       NaN\n",
              "4     3923123      NaN           NaN        NaN       NaN"
            ]
          },
          "metadata": {
            "tags": []
          },
          "execution_count": 46
        }
      ]
    },
    {
      "cell_type": "markdown",
      "metadata": {
        "id": "lKcvE2fjQAh8",
        "colab_type": "text"
      },
      "source": [
        "The supplemental data has five columns from our original data set — the unique_key that identifies each collision, and four of the five location columns. The cross_street column is not included because the geocoding APIs we used don't include data on the nearest cross street to any single location.\n",
        "\n",
        "Let's take a look at a null matrix for the supplemental data:"
      ]
    },
    {
      "cell_type": "code",
      "metadata": {
        "id": "1ZiMEI8EP7HZ",
        "colab_type": "code",
        "colab": {}
      },
      "source": [
        "plot_null_matrix(sup_data)"
      ],
      "execution_count": 0,
      "outputs": []
    },
    {
      "cell_type": "markdown",
      "metadata": {
        "id": "x-4uu6vAQZb6",
        "colab_type": "text"
      },
      "source": [
        "Apart from the unique_key column, you'll notice that there are a lot more missing values than our main data set. This makes sense, as we didn't prepare supplemental data where the original data set had non-null values.\n",
        "\n",
        "If the unique_key column in both the original and supplemental data has the same values in the same order, we'll be able to use Series.mask() to add our supplemental data to our original data. We can check this using the Series.equals() method:"
      ]
    },
    {
      "cell_type": "code",
      "metadata": {
        "id": "cXbr8M0AQFaH",
        "colab_type": "code",
        "colab": {
          "base_uri": "https://localhost:8080/",
          "height": 34
        },
        "outputId": "d26ccbd1-f3ae-4324-fc8c-a939ec4f5faa"
      },
      "source": [
        "mvc_keys = mvc['unique_key']\n",
        "sup_keys = sup_data['unique_key']\n",
        "\n",
        "is_equal = mvc_keys.equals(sup_keys)\n",
        "is_equal"
      ],
      "execution_count": 48,
      "outputs": [
        {
          "output_type": "execute_result",
          "data": {
            "text/plain": [
              "True"
            ]
          },
          "metadata": {
            "tags": []
          },
          "execution_count": 48
        }
      ]
    },
    {
      "cell_type": "markdown",
      "metadata": {
        "id": "CRu9SudrQtOf",
        "colab_type": "text"
      },
      "source": [
        "Now that we've verified the data, it's time to use it to impute missing values."
      ]
    },
    {
      "cell_type": "code",
      "metadata": {
        "id": "sZiVExU7Qo94",
        "colab_type": "code",
        "colab": {}
      },
      "source": [
        "sup_data = pd.read_csv('supplemental_data.csv')\n",
        "\n",
        "location_cols = ['location', 'on_street', 'off_street', 'borough']\n",
        "null_before = mvc[location_cols].isnull().sum()\n",
        "\n",
        "for col_name in location_cols:\n",
        "    mvc[col_name] = mvc[col_name].mask(mvc[col_name].isnull(), sup_data[col_name])\n",
        "    \n",
        "null_after = mvc[location_cols].isnull().sum()"
      ],
      "execution_count": 0,
      "outputs": []
    },
    {
      "cell_type": "code",
      "metadata": {
        "id": "lEE6G98EQwxd",
        "colab_type": "code",
        "colab": {}
      },
      "source": [
        ""
      ],
      "execution_count": 0,
      "outputs": []
    }
  ]
}